{
 "cells": [
  {
   "cell_type": "markdown",
   "metadata": {},
   "source": [
    "# Trajectory statistics\n",
    "\n",
    "## INFO!\n",
    "Die Klasse \"unclassified\" bedeuted, dass diesen Fragmenten manuell noch keine Klasse zugeordnet wurde. Aktuell fallen darunter alle Aufnahmen der Uni Münster, außer \"3_m-h-h\" bzw. \"mu-3\".\n"
   ]
  },
  {
   "cell_type": "code",
   "execution_count": 1,
   "metadata": {},
   "outputs": [],
   "source": [
    "from datetime import datetime\n",
    "from pathlib import Path\n",
    "import matplotlib.pyplot as plt\n",
    "import numpy as np\n",
    "import pandas as pd\n",
    "\n",
    "pd.set_option(\"display.precision\", 2)"
   ]
  },
  {
   "cell_type": "markdown",
   "metadata": {},
   "source": [
    "## Load statistics"
   ]
  },
  {
   "cell_type": "code",
   "execution_count": 2,
   "metadata": {},
   "outputs": [
    {
     "name": "stdout",
     "output_type": "stream",
     "text": [
      "Index(['scene', 'instance_id', 'fragment_id', 'class', 'traj_evnt_count',\n",
      "       'traj_len_s', 'frag_evnt_count', 'frag_len_s'],\n",
      "      dtype='object')\n",
      "Index(['scene', 'instance_id', 'fragment_id', 'class', 'traj_evnt_count',\n",
      "       'traj_len_s', 'frag_evnt_count', 'frag_len_s', 'frag_std'],\n",
      "      dtype='object')\n"
     ]
    },
    {
     "data": {
      "text/html": [
       "<div>\n",
       "<style scoped>\n",
       "    .dataframe tbody tr th:only-of-type {\n",
       "        vertical-align: middle;\n",
       "    }\n",
       "\n",
       "    .dataframe tbody tr th {\n",
       "        vertical-align: top;\n",
       "    }\n",
       "\n",
       "    .dataframe thead th {\n",
       "        text-align: right;\n",
       "    }\n",
       "</style>\n",
       "<table border=\"1\" class=\"dataframe\">\n",
       "  <thead>\n",
       "    <tr style=\"text-align: right;\">\n",
       "      <th></th>\n",
       "      <th>scene</th>\n",
       "      <th>instance_id</th>\n",
       "      <th>fragment_id</th>\n",
       "      <th>class</th>\n",
       "      <th>traj_evnt_count</th>\n",
       "      <th>traj_len_s</th>\n",
       "      <th>frag_evnt_count</th>\n",
       "      <th>frag_len_s</th>\n",
       "      <th>frag_std</th>\n",
       "    </tr>\n",
       "  </thead>\n",
       "  <tbody>\n",
       "    <tr>\n",
       "      <th>0</th>\n",
       "      <td>hn-bee-1</td>\n",
       "      <td>0</td>\n",
       "      <td>0</td>\n",
       "      <td>bee</td>\n",
       "      <td>22690</td>\n",
       "      <td>3.58</td>\n",
       "      <td>808</td>\n",
       "      <td>0.1</td>\n",
       "      <td>1.83</td>\n",
       "    </tr>\n",
       "    <tr>\n",
       "      <th>1</th>\n",
       "      <td>hn-bee-1</td>\n",
       "      <td>0</td>\n",
       "      <td>1</td>\n",
       "      <td>bee</td>\n",
       "      <td>22690</td>\n",
       "      <td>3.58</td>\n",
       "      <td>629</td>\n",
       "      <td>0.1</td>\n",
       "      <td>1.39</td>\n",
       "    </tr>\n",
       "    <tr>\n",
       "      <th>2</th>\n",
       "      <td>hn-bee-1</td>\n",
       "      <td>0</td>\n",
       "      <td>2</td>\n",
       "      <td>bee</td>\n",
       "      <td>22690</td>\n",
       "      <td>3.58</td>\n",
       "      <td>724</td>\n",
       "      <td>0.1</td>\n",
       "      <td>1.85</td>\n",
       "    </tr>\n",
       "    <tr>\n",
       "      <th>3</th>\n",
       "      <td>hn-bee-1</td>\n",
       "      <td>0</td>\n",
       "      <td>3</td>\n",
       "      <td>bee</td>\n",
       "      <td>22690</td>\n",
       "      <td>3.58</td>\n",
       "      <td>761</td>\n",
       "      <td>0.1</td>\n",
       "      <td>1.66</td>\n",
       "    </tr>\n",
       "    <tr>\n",
       "      <th>4</th>\n",
       "      <td>hn-bee-1</td>\n",
       "      <td>0</td>\n",
       "      <td>4</td>\n",
       "      <td>bee</td>\n",
       "      <td>22690</td>\n",
       "      <td>3.58</td>\n",
       "      <td>847</td>\n",
       "      <td>0.1</td>\n",
       "      <td>2.27</td>\n",
       "    </tr>\n",
       "    <tr>\n",
       "      <th>...</th>\n",
       "      <td>...</td>\n",
       "      <td>...</td>\n",
       "      <td>...</td>\n",
       "      <td>...</td>\n",
       "      <td>...</td>\n",
       "      <td>...</td>\n",
       "      <td>...</td>\n",
       "      <td>...</td>\n",
       "      <td>...</td>\n",
       "    </tr>\n",
       "    <tr>\n",
       "      <th>9020</th>\n",
       "      <td>mu-3</td>\n",
       "      <td>9</td>\n",
       "      <td>260</td>\n",
       "      <td>bee</td>\n",
       "      <td>686813</td>\n",
       "      <td>26.41</td>\n",
       "      <td>409</td>\n",
       "      <td>0.1</td>\n",
       "      <td>2.93</td>\n",
       "    </tr>\n",
       "    <tr>\n",
       "      <th>9021</th>\n",
       "      <td>mu-3</td>\n",
       "      <td>9</td>\n",
       "      <td>261</td>\n",
       "      <td>bee</td>\n",
       "      <td>686813</td>\n",
       "      <td>26.41</td>\n",
       "      <td>597</td>\n",
       "      <td>0.1</td>\n",
       "      <td>3.58</td>\n",
       "    </tr>\n",
       "    <tr>\n",
       "      <th>9022</th>\n",
       "      <td>mu-3</td>\n",
       "      <td>9</td>\n",
       "      <td>262</td>\n",
       "      <td>bee</td>\n",
       "      <td>686813</td>\n",
       "      <td>26.41</td>\n",
       "      <td>505</td>\n",
       "      <td>0.1</td>\n",
       "      <td>2.70</td>\n",
       "    </tr>\n",
       "    <tr>\n",
       "      <th>9023</th>\n",
       "      <td>mu-3</td>\n",
       "      <td>9</td>\n",
       "      <td>263</td>\n",
       "      <td>bee</td>\n",
       "      <td>686813</td>\n",
       "      <td>26.41</td>\n",
       "      <td>2907</td>\n",
       "      <td>0.1</td>\n",
       "      <td>3.16</td>\n",
       "    </tr>\n",
       "    <tr>\n",
       "      <th>9024</th>\n",
       "      <td>mu-3</td>\n",
       "      <td>9</td>\n",
       "      <td>264</td>\n",
       "      <td>bee</td>\n",
       "      <td>686813</td>\n",
       "      <td>26.41</td>\n",
       "      <td>19</td>\n",
       "      <td>0.1</td>\n",
       "      <td>0.35</td>\n",
       "    </tr>\n",
       "  </tbody>\n",
       "</table>\n",
       "<p>9025 rows × 9 columns</p>\n",
       "</div>"
      ],
      "text/plain": [
       "         scene  instance_id  fragment_id class  traj_evnt_count  traj_len_s  \\\n",
       "0     hn-bee-1            0            0   bee            22690        3.58   \n",
       "1     hn-bee-1            0            1   bee            22690        3.58   \n",
       "2     hn-bee-1            0            2   bee            22690        3.58   \n",
       "3     hn-bee-1            0            3   bee            22690        3.58   \n",
       "4     hn-bee-1            0            4   bee            22690        3.58   \n",
       "...        ...          ...          ...   ...              ...         ...   \n",
       "9020      mu-3            9          260   bee           686813       26.41   \n",
       "9021      mu-3            9          261   bee           686813       26.41   \n",
       "9022      mu-3            9          262   bee           686813       26.41   \n",
       "9023      mu-3            9          263   bee           686813       26.41   \n",
       "9024      mu-3            9          264   bee           686813       26.41   \n",
       "\n",
       "      frag_evnt_count  frag_len_s  frag_std  \n",
       "0                 808         0.1      1.83  \n",
       "1                 629         0.1      1.39  \n",
       "2                 724         0.1      1.85  \n",
       "3                 761         0.1      1.66  \n",
       "4                 847         0.1      2.27  \n",
       "...               ...         ...       ...  \n",
       "9020              409         0.1      2.93  \n",
       "9021              597         0.1      3.58  \n",
       "9022              505         0.1      2.70  \n",
       "9023             2907         0.1      3.16  \n",
       "9024               19         0.1      0.35  \n",
       "\n",
       "[9025 rows x 9 columns]"
      ]
     },
     "metadata": {},
     "output_type": "display_data"
    }
   ],
   "source": [
    "\n",
    "FIGURE_OUTPUT_DIR = Path(\"output/figures/statistics\")\n",
    "FIGURE_OUTPUT_DIR.mkdir(exist_ok=True)\n",
    "\n",
    "# To generate a new stats file run the script save_trajectory_proj_and_stats.py!\n",
    "STATS_BASE_DIR = Path(\"output/statistics/hist/\")\n",
    "\n",
    "# contains segmented mu trajectories; Will be counted as class \"unclassified\"\n",
    "separated_mu = pd.read_csv(STATS_BASE_DIR / \"tf100ms_2_separated_mu\" / \"all_fragments.csv\")\n",
    "\n",
    "# contains classified trajectories\n",
    "# ds4: tf100ms_2024-08-31_20-56-44 ?\n",
    "# ds6: tf100ms_2024-08-31_21-01-56\n",
    "classified = pd.read_csv(STATS_BASE_DIR / \"tf100ms_ds5\" / \"all_fragments.csv\")\n",
    "\n",
    "print(separated_mu.columns)\n",
    "print(classified.columns)\n",
    "\n",
    "display(classified)"
   ]
  },
  {
   "cell_type": "code",
   "execution_count": 3,
   "metadata": {},
   "outputs": [
    {
     "data": {
      "text/html": [
       "<div>\n",
       "<style scoped>\n",
       "    .dataframe tbody tr th:only-of-type {\n",
       "        vertical-align: middle;\n",
       "    }\n",
       "\n",
       "    .dataframe tbody tr th {\n",
       "        vertical-align: top;\n",
       "    }\n",
       "\n",
       "    .dataframe thead th {\n",
       "        text-align: right;\n",
       "    }\n",
       "</style>\n",
       "<table border=\"1\" class=\"dataframe\">\n",
       "  <thead>\n",
       "    <tr style=\"text-align: right;\">\n",
       "      <th></th>\n",
       "      <th>scene</th>\n",
       "      <th>instance_id</th>\n",
       "      <th>fragment_id</th>\n",
       "      <th>class</th>\n",
       "      <th>traj_evnt_count</th>\n",
       "      <th>traj_len_s</th>\n",
       "      <th>frag_evnt_count</th>\n",
       "      <th>frag_len_s</th>\n",
       "    </tr>\n",
       "  </thead>\n",
       "  <tbody>\n",
       "    <tr>\n",
       "      <th>0</th>\n",
       "      <td>mu-1</td>\n",
       "      <td>0</td>\n",
       "      <td>0</td>\n",
       "      <td>unclassified</td>\n",
       "      <td>1015970</td>\n",
       "      <td>40.43</td>\n",
       "      <td>43</td>\n",
       "      <td>0.1</td>\n",
       "    </tr>\n",
       "    <tr>\n",
       "      <th>1</th>\n",
       "      <td>mu-1</td>\n",
       "      <td>0</td>\n",
       "      <td>1</td>\n",
       "      <td>unclassified</td>\n",
       "      <td>1015970</td>\n",
       "      <td>40.43</td>\n",
       "      <td>14</td>\n",
       "      <td>0.1</td>\n",
       "    </tr>\n",
       "    <tr>\n",
       "      <th>2</th>\n",
       "      <td>mu-1</td>\n",
       "      <td>0</td>\n",
       "      <td>2</td>\n",
       "      <td>unclassified</td>\n",
       "      <td>1015970</td>\n",
       "      <td>40.43</td>\n",
       "      <td>290</td>\n",
       "      <td>0.1</td>\n",
       "    </tr>\n",
       "    <tr>\n",
       "      <th>3</th>\n",
       "      <td>mu-1</td>\n",
       "      <td>0</td>\n",
       "      <td>3</td>\n",
       "      <td>unclassified</td>\n",
       "      <td>1015970</td>\n",
       "      <td>40.43</td>\n",
       "      <td>630</td>\n",
       "      <td>0.1</td>\n",
       "    </tr>\n",
       "    <tr>\n",
       "      <th>4</th>\n",
       "      <td>mu-1</td>\n",
       "      <td>0</td>\n",
       "      <td>4</td>\n",
       "      <td>unclassified</td>\n",
       "      <td>1015970</td>\n",
       "      <td>40.43</td>\n",
       "      <td>450</td>\n",
       "      <td>0.1</td>\n",
       "    </tr>\n",
       "  </tbody>\n",
       "</table>\n",
       "</div>"
      ],
      "text/plain": [
       "  scene  instance_id  fragment_id         class  traj_evnt_count  traj_len_s  \\\n",
       "0  mu-1            0            0  unclassified          1015970       40.43   \n",
       "1  mu-1            0            1  unclassified          1015970       40.43   \n",
       "2  mu-1            0            2  unclassified          1015970       40.43   \n",
       "3  mu-1            0            3  unclassified          1015970       40.43   \n",
       "4  mu-1            0            4  unclassified          1015970       40.43   \n",
       "\n",
       "   frag_evnt_count  frag_len_s  \n",
       "0               43         0.1  \n",
       "1               14         0.1  \n",
       "2              290         0.1  \n",
       "3              630         0.1  \n",
       "4              450         0.1  "
      ]
     },
     "metadata": {},
     "output_type": "display_data"
    }
   ],
   "source": [
    "# clear class names for datasets not yet classified\n",
    "separated_mu[\"class\"] = \"unclassified\"\n",
    "display(separated_mu.head())"
   ]
  },
  {
   "cell_type": "code",
   "execution_count": 4,
   "metadata": {},
   "outputs": [
    {
     "name": "stdout",
     "output_type": "stream",
     "text": [
      "total number of fragments: 12333\n",
      "total number of classified fragments: 9025\n",
      "unclassified mu scenes: ['mu-1' 'mu-2' 'mu-4' 'mu-5' 'mu-6']\n",
      "mu total fragments: 6383 , mu unclassified fragments: 3308\n"
     ]
    }
   ],
   "source": [
    "# Combine dataframes\n",
    "classified_scenes = classified[\"scene\"].unique()\n",
    "unclassified_mu = separated_mu[~separated_mu[\"scene\"].isin(classified_scenes)]\n",
    "df = pd.concat([classified, unclassified_mu])\n",
    "\n",
    "print(\"total number of fragments:\", len(df.index))\n",
    "print(\"total number of classified fragments:\", len(classified.index))\n",
    "print(\"unclassified mu scenes:\", unclassified_mu[\"scene\"].unique())\n",
    "print(\"mu total fragments:\", len(separated_mu.index), \", mu unclassified fragments:\", len(unclassified_mu.index))\n",
    "\n",
    "# combine all\n",
    "# df = pd.concat([combined_mu, classified_pf])\n",
    "# display(df[\"scene\"].unique())\n",
    "# print(\"Total fragment count:\", len(df))"
   ]
  },
  {
   "attachments": {},
   "cell_type": "markdown",
   "metadata": {},
   "source": [
    "## Class overview\n",
    "### Number of trajectories per class"
   ]
  },
  {
   "cell_type": "code",
   "execution_count": 5,
   "metadata": {},
   "outputs": [
    {
     "data": {
      "text/plain": [
       "class\n",
       "bee              66\n",
       "bumblebee        47\n",
       "butterfly        21\n",
       "dragonfly       112\n",
       "insect           70\n",
       "unclassified    152\n",
       "wasp             83\n",
       "dtype: int64"
      ]
     },
     "metadata": {},
     "output_type": "display_data"
    },
    {
     "data": {
      "image/png": "[encoded data removed]",
      "text/plain": [
       "<Figure size 576x288 with 1 Axes>"
      ]
     },
     "metadata": {
      "needs_background": "light"
     },
     "output_type": "display_data"
    }
   ],
   "source": [
    "# gesucht: Anzahl instances pro Klasse\n",
    "# group by class\n",
    "# unique over scene and instance_id\n",
    "df1 = df.groupby(\"class\").apply(lambda x: len(x[[\"scene\", \"instance_id\"]].drop_duplicates()))\n",
    "display(df1)\n",
    "\n",
    "plt.figure(figsize=(8,4))\n",
    "plt.bar(df1.index, df1)\n",
    "plt.title(\"Number of trajectories per class\")\n",
    "plt.ylabel(\"Number of trajectories\")\n",
    "plt.grid(True, axis=\"y\", color = \"grey\", linewidth = \"1\", linestyle = \"dotted\")\n",
    "plt.savefig(FIGURE_OUTPUT_DIR/\"Number of trajectories per class.png\", format=\"png\", bbox_inches=\"tight\", dpi=200)\n",
    "plt.show()"
   ]
  },
  {
   "cell_type": "markdown",
   "metadata": {},
   "source": [
    "## Number of Fragments per class grouped by event count\n"
   ]
  },
  {
   "cell_type": "code",
   "execution_count": 6,
   "metadata": {},
   "outputs": [
    {
     "data": {
      "text/html": [
       "<div>\n",
       "<style scoped>\n",
       "    .dataframe tbody tr th:only-of-type {\n",
       "        vertical-align: middle;\n",
       "    }\n",
       "\n",
       "    .dataframe tbody tr th {\n",
       "        vertical-align: top;\n",
       "    }\n",
       "\n",
       "    .dataframe thead th {\n",
       "        text-align: right;\n",
       "    }\n",
       "</style>\n",
       "<table border=\"1\" class=\"dataframe\">\n",
       "  <thead>\n",
       "    <tr style=\"text-align: right;\">\n",
       "      <th></th>\n",
       "      <th>all</th>\n",
       "      <th>below_2048</th>\n",
       "      <th>2048_to_4096</th>\n",
       "      <th>over_2048</th>\n",
       "      <th>over_4096</th>\n",
       "    </tr>\n",
       "    <tr>\n",
       "      <th>class</th>\n",
       "      <th></th>\n",
       "      <th></th>\n",
       "      <th></th>\n",
       "      <th></th>\n",
       "      <th></th>\n",
       "    </tr>\n",
       "  </thead>\n",
       "  <tbody>\n",
       "    <tr>\n",
       "      <th>bee</th>\n",
       "      <td>3687</td>\n",
       "      <td>3368</td>\n",
       "      <td>194</td>\n",
       "      <td>319</td>\n",
       "      <td>125</td>\n",
       "    </tr>\n",
       "    <tr>\n",
       "      <th>bumblebee</th>\n",
       "      <td>561</td>\n",
       "      <td>214</td>\n",
       "      <td>110</td>\n",
       "      <td>347</td>\n",
       "      <td>237</td>\n",
       "    </tr>\n",
       "    <tr>\n",
       "      <th>butterfly</th>\n",
       "      <td>1062</td>\n",
       "      <td>844</td>\n",
       "      <td>134</td>\n",
       "      <td>218</td>\n",
       "      <td>84</td>\n",
       "    </tr>\n",
       "    <tr>\n",
       "      <th>dragonfly</th>\n",
       "      <td>2160</td>\n",
       "      <td>1261</td>\n",
       "      <td>493</td>\n",
       "      <td>899</td>\n",
       "      <td>406</td>\n",
       "    </tr>\n",
       "    <tr>\n",
       "      <th>insect</th>\n",
       "      <td>527</td>\n",
       "      <td>417</td>\n",
       "      <td>54</td>\n",
       "      <td>110</td>\n",
       "      <td>56</td>\n",
       "    </tr>\n",
       "    <tr>\n",
       "      <th>unclassified</th>\n",
       "      <td>3308</td>\n",
       "      <td>2711</td>\n",
       "      <td>123</td>\n",
       "      <td>597</td>\n",
       "      <td>474</td>\n",
       "    </tr>\n",
       "    <tr>\n",
       "      <th>wasp</th>\n",
       "      <td>1028</td>\n",
       "      <td>925</td>\n",
       "      <td>70</td>\n",
       "      <td>103</td>\n",
       "      <td>33</td>\n",
       "    </tr>\n",
       "  </tbody>\n",
       "</table>\n",
       "</div>"
      ],
      "text/plain": [
       "               all  below_2048  2048_to_4096  over_2048  over_4096\n",
       "class                                                             \n",
       "bee           3687        3368           194        319        125\n",
       "bumblebee      561         214           110        347        237\n",
       "butterfly     1062         844           134        218         84\n",
       "dragonfly     2160        1261           493        899        406\n",
       "insect         527         417            54        110         56\n",
       "unclassified  3308        2711           123        597        474\n",
       "wasp          1028         925            70        103         33"
      ]
     },
     "metadata": {},
     "output_type": "display_data"
    },
    {
     "data": {
      "image/png": "[encoded data removed]",
      "text/plain": [
       "<Figure size 576x360 with 1 Axes>"
      ]
     },
     "metadata": {
      "needs_background": "light"
     },
     "output_type": "display_data"
    }
   ],
   "source": [
    "df_frags_per_class = pd.DataFrame()\n",
    "df_frags_per_class[\"all\"] = df.groupby(\"class\").size()\n",
    "df_frags_per_class[\"below_2048\"] = df[df[\"frag_evnt_count\"] < 2048].groupby(\"class\").size()\n",
    "df_frags_per_class[\"2048_to_4096\"] = df[(df[\"frag_evnt_count\"] >= 2048) & (df[\"frag_evnt_count\"] < 4096)].groupby(\"class\").size()\n",
    "df_frags_per_class[\"over_2048\"] = df[df[\"frag_evnt_count\"] >= 2048].groupby(\"class\").size()\n",
    "df_frags_per_class[\"over_4096\"] = df[df[\"frag_evnt_count\"] >= 4096].groupby(\"class\").size()\n",
    "\n",
    "ax = df_frags_per_class.plot(y=[\"all\", \"below_2048\", \"2048_to_4096\", \"over_2048\", \"over_4096\"], \\\n",
    "                            kind=\"bar\", colormap=\"Accent\", edgecolor='white', width=0.75, \\\n",
    "                            title=\"Number of fragments per class grouped by event count\")\n",
    "ax.grid(axis=\"y\")\n",
    "ax.figure.set_size_inches(8,5)\n",
    "\n",
    "display(df_frags_per_class)\n"
   ]
  },
  {
   "cell_type": "markdown",
   "metadata": {},
   "source": [
    "## Fragment event count"
   ]
  },
  {
   "cell_type": "code",
   "execution_count": 7,
   "metadata": {},
   "outputs": [
    {
     "name": "stdout",
     "output_type": "stream",
     "text": [
      "Mean overall values (all fragments)\n"
     ]
    },
    {
     "data": {
      "text/plain": [
       "frag_evnt_count    2710.66\n",
       "frag_len_s            0.10\n",
       "dtype: float64"
      ]
     },
     "metadata": {},
     "output_type": "display_data"
    },
    {
     "name": "stdout",
     "output_type": "stream",
     "text": [
      "Mean overall values (>= 2048)\n"
     ]
    },
    {
     "data": {
      "text/plain": [
       "frag_evnt_count    11396.78\n",
       "frag_len_s             0.10\n",
       "dtype: float64"
      ]
     },
     "metadata": {},
     "output_type": "display_data"
    },
    {
     "name": "stdout",
     "output_type": "stream",
     "text": [
      "Mean overall values (>= 4096)\n"
     ]
    },
    {
     "data": {
      "text/plain": [
       "frag_evnt_count    18461.11\n",
       "frag_len_s             0.10\n",
       "dtype: float64"
      ]
     },
     "metadata": {},
     "output_type": "display_data"
    },
    {
     "name": "stdout",
     "output_type": "stream",
     "text": [
      "Median overall values (>= 4096)\n"
     ]
    },
    {
     "data": {
      "text/plain": [
       "frag_evnt_count    8371.0\n",
       "frag_len_s            0.1\n",
       "dtype: float64"
      ]
     },
     "metadata": {},
     "output_type": "display_data"
    }
   ],
   "source": [
    "df0 = df[[\"frag_evnt_count\",\"frag_len_s\"]]\n",
    "\n",
    "df1 = df0.mean()\n",
    "print(\"Mean overall values (all fragments)\")\n",
    "display(df1)\n",
    "\n",
    "df1 = df0[df0[\"frag_evnt_count\"] >= 2048].mean()\n",
    "print(\"Mean overall values (>= 2048)\")\n",
    "display(df1)\n",
    "\n",
    "df1 = df0[df0[\"frag_evnt_count\"] >= 4096].mean()\n",
    "print(\"Mean overall values (>= 4096)\")\n",
    "display(df1)\n",
    "\n",
    "df1 = df0[df0[\"frag_evnt_count\"] >= 4096].median()\n",
    "print(\"Median overall values (>= 4096)\")\n",
    "display(df1)"
   ]
  },
  {
   "cell_type": "markdown",
   "metadata": {},
   "source": [
    "## Fragment event count per class"
   ]
  },
  {
   "cell_type": "code",
   "execution_count": 8,
   "metadata": {},
   "outputs": [
    {
     "name": "stdout",
     "output_type": "stream",
     "text": [
      "Mean fragment event count per class (all fragments)\n"
     ]
    },
    {
     "data": {
      "text/plain": [
       "class\n",
       "bee              631.34\n",
       "bumblebee       6054.73\n",
       "butterfly       2161.73\n",
       "dragonfly       2698.74\n",
       "insect          3355.21\n",
       "unclassified    5068.60\n",
       "wasp            1017.49\n",
       "Name: frag_evnt_count, dtype: float64"
      ]
     },
     "metadata": {},
     "output_type": "display_data"
    },
    {
     "name": "stdout",
     "output_type": "stream",
     "text": [
      "Mean fragment event count per class (n < 2048)\n"
     ]
    },
    {
     "data": {
      "text/plain": [
       "class\n",
       "bee             279.19\n",
       "bumblebee       883.14\n",
       "butterfly       573.50\n",
       "dragonfly       801.22\n",
       "insect          459.04\n",
       "unclassified    183.47\n",
       "wasp            612.19\n",
       "Name: frag_evnt_count, dtype: float64"
      ]
     },
     "metadata": {},
     "output_type": "display_data"
    },
    {
     "name": "stdout",
     "output_type": "stream",
     "text": [
      "Mean fragment event count per class (2048 <= n <= 4096)\n"
     ]
    },
    {
     "data": {
      "text/plain": [
       "class\n",
       "bee             2850.23\n",
       "bumblebee       2938.47\n",
       "butterfly       2958.90\n",
       "dragonfly       2974.06\n",
       "insect          2860.07\n",
       "unclassified    2805.54\n",
       "wasp            2728.19\n",
       "Name: frag_evnt_count, dtype: float64"
      ]
     },
     "metadata": {},
     "output_type": "display_data"
    },
    {
     "name": "stdout",
     "output_type": "stream",
     "text": [
      "Mean fragment event count per class (> 4096)\n"
     ]
    },
    {
     "data": {
      "text/plain": [
       "class\n",
       "bee              6675.86\n",
       "bumblebee       12170.81\n",
       "butterfly       16847.99\n",
       "dragonfly        8257.96\n",
       "insect          25398.82\n",
       "unclassified    33595.96\n",
       "wasp             8749.42\n",
       "Name: frag_evnt_count, dtype: float64"
      ]
     },
     "metadata": {},
     "output_type": "display_data"
    }
   ],
   "source": [
    "\n",
    "df1 = df.groupby([\"class\"]).mean()[[\"traj_evnt_count\", \"traj_len_s\", \"frag_evnt_count\"]]\n",
    "print(\"Mean fragment event count per class (all fragments)\")\n",
    "display(df1[\"frag_evnt_count\"])\n",
    "\n",
    "df1 = df[(df[\"frag_evnt_count\"] < 2048)].groupby([\"class\"]).mean()[[\"traj_evnt_count\", \"traj_len_s\", \"frag_evnt_count\"]]\n",
    "print(\"Mean fragment event count per class (n < 2048)\")\n",
    "display(df1[\"frag_evnt_count\"])\n",
    "\n",
    "df2 = df[(df[\"frag_evnt_count\"] >= 2048) & (df[\"frag_evnt_count\"] <= 4096)].groupby([\"class\"]).mean()[[\"traj_evnt_count\", \"traj_len_s\", \"frag_evnt_count\"]]\n",
    "print(\"Mean fragment event count per class (2048 <= n <= 4096)\")\n",
    "display(df2[\"frag_evnt_count\"])\n",
    "\n",
    "df3 = df[df[\"frag_evnt_count\"] > 4096].groupby([\"class\"]).mean()[[\"traj_evnt_count\", \"traj_len_s\", \"frag_evnt_count\"]]\n",
    "print(\"Mean fragment event count per class (> 4096)\")\n",
    "display(df3[\"frag_evnt_count\"])"
   ]
  },
  {
   "cell_type": "markdown",
   "metadata": {},
   "source": [
    "## STD per class"
   ]
  },
  {
   "cell_type": "code",
   "execution_count": 9,
   "metadata": {},
   "outputs": [
    {
     "data": {
      "text/html": [
       "<div>\n",
       "<style scoped>\n",
       "    .dataframe tbody tr th:only-of-type {\n",
       "        vertical-align: middle;\n",
       "    }\n",
       "\n",
       "    .dataframe tbody tr th {\n",
       "        vertical-align: top;\n",
       "    }\n",
       "\n",
       "    .dataframe thead th {\n",
       "        text-align: right;\n",
       "    }\n",
       "</style>\n",
       "<table border=\"1\" class=\"dataframe\">\n",
       "  <thead>\n",
       "    <tr style=\"text-align: right;\">\n",
       "      <th></th>\n",
       "      <th>all</th>\n",
       "      <th>below_2048</th>\n",
       "      <th>2048_to_4096</th>\n",
       "      <th>over_2048</th>\n",
       "      <th>over_4096</th>\n",
       "    </tr>\n",
       "    <tr>\n",
       "      <th>class</th>\n",
       "      <th></th>\n",
       "      <th></th>\n",
       "      <th></th>\n",
       "      <th></th>\n",
       "      <th></th>\n",
       "    </tr>\n",
       "  </thead>\n",
       "  <tbody>\n",
       "    <tr>\n",
       "      <th>bee</th>\n",
       "      <td>0.92</td>\n",
       "      <td>0.67</td>\n",
       "      <td>3.02</td>\n",
       "      <td>3.35</td>\n",
       "      <td>3.85</td>\n",
       "    </tr>\n",
       "    <tr>\n",
       "      <th>bumblebee</th>\n",
       "      <td>2.91</td>\n",
       "      <td>1.62</td>\n",
       "      <td>2.73</td>\n",
       "      <td>3.71</td>\n",
       "      <td>4.17</td>\n",
       "    </tr>\n",
       "    <tr>\n",
       "      <th>butterfly</th>\n",
       "      <td>1.88</td>\n",
       "      <td>1.43</td>\n",
       "      <td>2.91</td>\n",
       "      <td>3.58</td>\n",
       "      <td>4.65</td>\n",
       "    </tr>\n",
       "    <tr>\n",
       "      <th>dragonfly</th>\n",
       "      <td>2.71</td>\n",
       "      <td>1.82</td>\n",
       "      <td>3.20</td>\n",
       "      <td>3.81</td>\n",
       "      <td>4.54</td>\n",
       "    </tr>\n",
       "    <tr>\n",
       "      <th>insect</th>\n",
       "      <td>1.57</td>\n",
       "      <td>0.97</td>\n",
       "      <td>2.67</td>\n",
       "      <td>3.76</td>\n",
       "      <td>4.82</td>\n",
       "    </tr>\n",
       "    <tr>\n",
       "      <th>unclassified</th>\n",
       "      <td>NaN</td>\n",
       "      <td>NaN</td>\n",
       "      <td>NaN</td>\n",
       "      <td>NaN</td>\n",
       "      <td>NaN</td>\n",
       "    </tr>\n",
       "    <tr>\n",
       "      <th>wasp</th>\n",
       "      <td>1.96</td>\n",
       "      <td>1.82</td>\n",
       "      <td>2.90</td>\n",
       "      <td>3.22</td>\n",
       "      <td>3.90</td>\n",
       "    </tr>\n",
       "  </tbody>\n",
       "</table>\n",
       "</div>"
      ],
      "text/plain": [
       "               all  below_2048  2048_to_4096  over_2048  over_4096\n",
       "class                                                             \n",
       "bee           0.92        0.67          3.02       3.35       3.85\n",
       "bumblebee     2.91        1.62          2.73       3.71       4.17\n",
       "butterfly     1.88        1.43          2.91       3.58       4.65\n",
       "dragonfly     2.71        1.82          3.20       3.81       4.54\n",
       "insect        1.57        0.97          2.67       3.76       4.82\n",
       "unclassified   NaN         NaN           NaN        NaN        NaN\n",
       "wasp          1.96        1.82          2.90       3.22       3.90"
      ]
     },
     "metadata": {},
     "output_type": "display_data"
    },
    {
     "data": {
      "image/png": "[encoded data removed]",
      "text/plain": [
       "<Figure size 576x360 with 1 Axes>"
      ]
     },
     "metadata": {
      "needs_background": "light"
     },
     "output_type": "display_data"
    }
   ],
   "source": [
    "agg = {\n",
    "    \"frag_std\":\"mean\"\n",
    "}\n",
    "\n",
    "df_std_per_class = pd.DataFrame()\n",
    "df_std_per_class[\"all\"] = df.groupby(\"class\").agg(agg)\n",
    "df_std_per_class[\"below_2048\"] = df[df[\"frag_evnt_count\"] < 2048].groupby(\"class\").agg(agg)\n",
    "df_std_per_class[\"2048_to_4096\"] = df[(df[\"frag_evnt_count\"] >= 2048) & (df[\"frag_evnt_count\"] < 4096)].groupby(\"class\").agg(agg)\n",
    "df_std_per_class[\"over_2048\"] = df[df[\"frag_evnt_count\"] >= 2048].groupby(\"class\").agg(agg)\n",
    "df_std_per_class[\"over_4096\"] = df[df[\"frag_evnt_count\"] >= 4096].groupby(\"class\").agg(agg)\n",
    "\n",
    "ax = df_std_per_class.plot(y=[\"all\", \"below_2048\", \"2048_to_4096\", \"over_2048\", \"over_4096\"], \\\n",
    "                            kind=\"bar\", colormap=\"Accent\", edgecolor='white', width=0.75, \\\n",
    "                            title=\"Mean STD of fragments per class grouped by event count\")\n",
    "ax.grid(axis=\"y\")\n",
    "ax.figure.set_size_inches(8,5)\n",
    "\n",
    "display(df_std_per_class)\n"
   ]
  },
  {
   "cell_type": "markdown",
   "metadata": {},
   "source": [
    "## Fragment count by minimum fragment STD (>= 2048)"
   ]
  },
  {
   "cell_type": "code",
   "execution_count": 10,
   "metadata": {},
   "outputs": [
    {
     "data": {
      "text/html": [
       "<div>\n",
       "<style scoped>\n",
       "    .dataframe tbody tr th:only-of-type {\n",
       "        vertical-align: middle;\n",
       "    }\n",
       "\n",
       "    .dataframe tbody tr th {\n",
       "        vertical-align: top;\n",
       "    }\n",
       "\n",
       "    .dataframe thead th {\n",
       "        text-align: right;\n",
       "    }\n",
       "</style>\n",
       "<table border=\"1\" class=\"dataframe\">\n",
       "  <thead>\n",
       "    <tr style=\"text-align: right;\">\n",
       "      <th></th>\n",
       "      <th>all</th>\n",
       "      <th>STD &gt; 0</th>\n",
       "      <th>STD &gt; 1</th>\n",
       "      <th>STD &gt; 2</th>\n",
       "      <th>STD &gt; 3</th>\n",
       "      <th>STD &gt; 4</th>\n",
       "      <th>STD &gt; 5</th>\n",
       "    </tr>\n",
       "    <tr>\n",
       "      <th>class</th>\n",
       "      <th></th>\n",
       "      <th></th>\n",
       "      <th></th>\n",
       "      <th></th>\n",
       "      <th></th>\n",
       "      <th></th>\n",
       "      <th></th>\n",
       "    </tr>\n",
       "  </thead>\n",
       "  <tbody>\n",
       "    <tr>\n",
       "      <th>bee</th>\n",
       "      <td>3687</td>\n",
       "      <td>1533.0</td>\n",
       "      <td>1199.0</td>\n",
       "      <td>735.0</td>\n",
       "      <td>302.0</td>\n",
       "      <td>88.0</td>\n",
       "      <td>23.0</td>\n",
       "    </tr>\n",
       "    <tr>\n",
       "      <th>bumblebee</th>\n",
       "      <td>561</td>\n",
       "      <td>529.0</td>\n",
       "      <td>510.0</td>\n",
       "      <td>398.0</td>\n",
       "      <td>256.0</td>\n",
       "      <td>142.0</td>\n",
       "      <td>49.0</td>\n",
       "    </tr>\n",
       "    <tr>\n",
       "      <th>butterfly</th>\n",
       "      <td>1062</td>\n",
       "      <td>817.0</td>\n",
       "      <td>725.0</td>\n",
       "      <td>482.0</td>\n",
       "      <td>190.0</td>\n",
       "      <td>68.0</td>\n",
       "      <td>31.0</td>\n",
       "    </tr>\n",
       "    <tr>\n",
       "      <th>dragonfly</th>\n",
       "      <td>2160</td>\n",
       "      <td>1818.0</td>\n",
       "      <td>1719.0</td>\n",
       "      <td>1319.0</td>\n",
       "      <td>736.0</td>\n",
       "      <td>343.0</td>\n",
       "      <td>172.0</td>\n",
       "    </tr>\n",
       "    <tr>\n",
       "      <th>insect</th>\n",
       "      <td>527</td>\n",
       "      <td>334.0</td>\n",
       "      <td>291.0</td>\n",
       "      <td>152.0</td>\n",
       "      <td>71.0</td>\n",
       "      <td>40.0</td>\n",
       "      <td>22.0</td>\n",
       "    </tr>\n",
       "    <tr>\n",
       "      <th>unclassified</th>\n",
       "      <td>3308</td>\n",
       "      <td>NaN</td>\n",
       "      <td>NaN</td>\n",
       "      <td>NaN</td>\n",
       "      <td>NaN</td>\n",
       "      <td>NaN</td>\n",
       "      <td>NaN</td>\n",
       "    </tr>\n",
       "    <tr>\n",
       "      <th>wasp</th>\n",
       "      <td>1028</td>\n",
       "      <td>818.0</td>\n",
       "      <td>758.0</td>\n",
       "      <td>510.0</td>\n",
       "      <td>194.0</td>\n",
       "      <td>69.0</td>\n",
       "      <td>28.0</td>\n",
       "    </tr>\n",
       "  </tbody>\n",
       "</table>\n",
       "</div>"
      ],
      "text/plain": [
       "               all  STD > 0  STD > 1  STD > 2  STD > 3  STD > 4  STD > 5\n",
       "class                                                                   \n",
       "bee           3687   1533.0   1199.0    735.0    302.0     88.0     23.0\n",
       "bumblebee      561    529.0    510.0    398.0    256.0    142.0     49.0\n",
       "butterfly     1062    817.0    725.0    482.0    190.0     68.0     31.0\n",
       "dragonfly     2160   1818.0   1719.0   1319.0    736.0    343.0    172.0\n",
       "insect         527    334.0    291.0    152.0     71.0     40.0     22.0\n",
       "unclassified  3308      NaN      NaN      NaN      NaN      NaN      NaN\n",
       "wasp          1028    818.0    758.0    510.0    194.0     69.0     28.0"
      ]
     },
     "metadata": {},
     "output_type": "display_data"
    },
    {
     "data": {
      "image/png": "[encoded data removed]",
      "text/plain": [
       "<Figure size 720x360 with 1 Axes>"
      ]
     },
     "metadata": {
      "needs_background": "light"
     },
     "output_type": "display_data"
    }
   ],
   "source": [
    "min_stds = [0,1,2,3,4,5]\n",
    "\n",
    "df_std_per_class = pd.DataFrame()\n",
    "df_std_per_class[\"all\"] = df.groupby(\"class\").size()\n",
    "caps = [\"all\"]\n",
    "for std in min_stds:\n",
    "    cap = f\"STD > {std}\"\n",
    "    caps.append(cap)\n",
    "    df_std_per_class[cap] = df[df[\"frag_std\"] > std].groupby(\"class\").size()\n",
    "\n",
    "ax = df_std_per_class.plot(y=caps, kind=\"bar\", colormap=\"Accent\", edgecolor='white', width=0.8, \\\n",
    "                            title=\"Number of fragments per class with STD greater than x\")\n",
    "ax.grid(axis=\"y\")\n",
    "ax.figure.set_size_inches(10,5)\n",
    "\n",
    "display(df_std_per_class)\n",
    "\n"
   ]
  },
  {
   "cell_type": "code",
   "execution_count": 11,
   "metadata": {},
   "outputs": [
    {
     "data": {
      "text/html": [
       "<div>\n",
       "<style scoped>\n",
       "    .dataframe tbody tr th:only-of-type {\n",
       "        vertical-align: middle;\n",
       "    }\n",
       "\n",
       "    .dataframe tbody tr th {\n",
       "        vertical-align: top;\n",
       "    }\n",
       "\n",
       "    .dataframe thead th {\n",
       "        text-align: right;\n",
       "    }\n",
       "</style>\n",
       "<table border=\"1\" class=\"dataframe\">\n",
       "  <thead>\n",
       "    <tr style=\"text-align: right;\">\n",
       "      <th></th>\n",
       "      <th>all</th>\n",
       "      <th>STD &gt; 0</th>\n",
       "      <th>STD &gt; 1</th>\n",
       "      <th>STD &gt; 2</th>\n",
       "      <th>STD &gt; 3</th>\n",
       "      <th>STD &gt; 4</th>\n",
       "      <th>STD &gt; 5</th>\n",
       "    </tr>\n",
       "    <tr>\n",
       "      <th>class</th>\n",
       "      <th></th>\n",
       "      <th></th>\n",
       "      <th></th>\n",
       "      <th></th>\n",
       "      <th></th>\n",
       "      <th></th>\n",
       "      <th></th>\n",
       "    </tr>\n",
       "  </thead>\n",
       "  <tbody>\n",
       "    <tr>\n",
       "      <th>bee</th>\n",
       "      <td>319</td>\n",
       "      <td>319.0</td>\n",
       "      <td>318.0</td>\n",
       "      <td>302.0</td>\n",
       "      <td>185.0</td>\n",
       "      <td>69.0</td>\n",
       "      <td>21.0</td>\n",
       "    </tr>\n",
       "    <tr>\n",
       "      <th>bumblebee</th>\n",
       "      <td>347</td>\n",
       "      <td>347.0</td>\n",
       "      <td>347.0</td>\n",
       "      <td>330.0</td>\n",
       "      <td>240.0</td>\n",
       "      <td>137.0</td>\n",
       "      <td>47.0</td>\n",
       "    </tr>\n",
       "    <tr>\n",
       "      <th>butterfly</th>\n",
       "      <td>218</td>\n",
       "      <td>217.0</td>\n",
       "      <td>214.0</td>\n",
       "      <td>209.0</td>\n",
       "      <td>134.0</td>\n",
       "      <td>41.0</td>\n",
       "      <td>21.0</td>\n",
       "    </tr>\n",
       "    <tr>\n",
       "      <th>dragonfly</th>\n",
       "      <td>899</td>\n",
       "      <td>896.0</td>\n",
       "      <td>896.0</td>\n",
       "      <td>871.0</td>\n",
       "      <td>590.0</td>\n",
       "      <td>282.0</td>\n",
       "      <td>139.0</td>\n",
       "    </tr>\n",
       "    <tr>\n",
       "      <th>insect</th>\n",
       "      <td>110</td>\n",
       "      <td>108.0</td>\n",
       "      <td>108.0</td>\n",
       "      <td>98.0</td>\n",
       "      <td>57.0</td>\n",
       "      <td>32.0</td>\n",
       "      <td>18.0</td>\n",
       "    </tr>\n",
       "    <tr>\n",
       "      <th>unclassified</th>\n",
       "      <td>597</td>\n",
       "      <td>NaN</td>\n",
       "      <td>NaN</td>\n",
       "      <td>NaN</td>\n",
       "      <td>NaN</td>\n",
       "      <td>NaN</td>\n",
       "      <td>NaN</td>\n",
       "    </tr>\n",
       "    <tr>\n",
       "      <th>wasp</th>\n",
       "      <td>103</td>\n",
       "      <td>103.0</td>\n",
       "      <td>103.0</td>\n",
       "      <td>94.0</td>\n",
       "      <td>49.0</td>\n",
       "      <td>19.0</td>\n",
       "      <td>10.0</td>\n",
       "    </tr>\n",
       "  </tbody>\n",
       "</table>\n",
       "</div>"
      ],
      "text/plain": [
       "              all  STD > 0  STD > 1  STD > 2  STD > 3  STD > 4  STD > 5\n",
       "class                                                                  \n",
       "bee           319    319.0    318.0    302.0    185.0     69.0     21.0\n",
       "bumblebee     347    347.0    347.0    330.0    240.0    137.0     47.0\n",
       "butterfly     218    217.0    214.0    209.0    134.0     41.0     21.0\n",
       "dragonfly     899    896.0    896.0    871.0    590.0    282.0    139.0\n",
       "insect        110    108.0    108.0     98.0     57.0     32.0     18.0\n",
       "unclassified  597      NaN      NaN      NaN      NaN      NaN      NaN\n",
       "wasp          103    103.0    103.0     94.0     49.0     19.0     10.0"
      ]
     },
     "metadata": {},
     "output_type": "display_data"
    },
    {
     "data": {
      "image/png": "[encoded data removed]",
      "text/plain": [
       "<Figure size 720x360 with 1 Axes>"
      ]
     },
     "metadata": {
      "needs_background": "light"
     },
     "output_type": "display_data"
    }
   ],
   "source": [
    "df_ge2048 = df[df[\"frag_evnt_count\"] >= 2048]\n",
    "\n",
    "min_stds = [0,1,2,3,4,5]\n",
    "\n",
    "df_std_per_class = pd.DataFrame()\n",
    "df_std_per_class[\"all\"] = df_ge2048.groupby(\"class\").size()\n",
    "caps = [\"all\"]\n",
    "for std in min_stds:\n",
    "    cap = f\"STD > {std}\"\n",
    "    caps.append(cap)\n",
    "    df_std_per_class[cap] = df_ge2048[df_ge2048[\"frag_std\"] > std].groupby(\"class\").size()\n",
    "\n",
    "ax = df_std_per_class.plot(y=caps, kind=\"bar\", colormap=\"Accent\", edgecolor='white', width=0.8, \\\n",
    "                            title=\"Number of fragments per class with STD greater than x (having >= 2048 events)\")\n",
    "ax.grid(axis=\"y\")\n",
    "ax.figure.set_size_inches(10,5)\n",
    "\n",
    "display(df_std_per_class)\n",
    "\n"
   ]
  },
  {
   "cell_type": "markdown",
   "metadata": {},
   "source": [
    "## Trajectory stats"
   ]
  },
  {
   "cell_type": "code",
   "execution_count": 12,
   "metadata": {},
   "outputs": [
    {
     "name": "stdout",
     "output_type": "stream",
     "text": [
      "Mean number of events per trajectory per class\n"
     ]
    },
    {
     "data": {
      "text/plain": [
       "class\n",
       "bee             119384.48\n",
       "bumblebee       122141.14\n",
       "butterfly        92511.80\n",
       "dragonfly       159678.38\n",
       "insect           22317.00\n",
       "unclassified    253707.81\n",
       "wasp             30808.14\n",
       "Name: traj_evnt_count, dtype: float64"
      ]
     },
     "metadata": {},
     "output_type": "display_data"
    },
    {
     "data": {
      "image/png": "[encoded data removed]",
      "text/plain": [
       "<Figure size 432x288 with 1 Axes>"
      ]
     },
     "metadata": {
      "needs_background": "light"
     },
     "output_type": "display_data"
    },
    {
     "name": "stdout",
     "output_type": "stream",
     "text": [
      "Mean trajectory length (s) per class\n"
     ]
    },
    {
     "data": {
      "text/plain": [
       "class\n",
       "bee             18.94\n",
       "bumblebee        9.51\n",
       "butterfly        8.83\n",
       "dragonfly       10.62\n",
       "insect           1.50\n",
       "unclassified    16.31\n",
       "wasp             5.14\n",
       "Name: traj_len_s, dtype: float64"
      ]
     },
     "metadata": {},
     "output_type": "display_data"
    },
    {
     "data": {
      "image/png": "[encoded data removed]",
      "text/plain": [
       "<Figure size 432x288 with 1 Axes>"
      ]
     },
     "metadata": {
      "needs_background": "light"
     },
     "output_type": "display_data"
    },
    {
     "name": "stdout",
     "output_type": "stream",
     "text": [
      "Mean number of events per fragment per class\n"
     ]
    },
    {
     "data": {
      "text/plain": [
       "class\n",
       "bee             279.19\n",
       "bumblebee       883.14\n",
       "butterfly       573.50\n",
       "dragonfly       801.22\n",
       "insect          459.04\n",
       "unclassified    183.47\n",
       "wasp            612.19\n",
       "Name: frag_evnt_count, dtype: float64"
      ]
     },
     "metadata": {},
     "output_type": "display_data"
    },
    {
     "data": {
      "image/png": "[encoded data removed]",
      "text/plain": [
       "<Figure size 432x288 with 1 Axes>"
      ]
     },
     "metadata": {
      "needs_background": "light"
     },
     "output_type": "display_data"
    }
   ],
   "source": [
    "print(\"Mean number of events per trajectory per class\")\n",
    "display(df1[\"traj_evnt_count\"])\n",
    "plt.bar(df1.index, df1[\"traj_evnt_count\"])\n",
    "plt.title(\"Mean number of events per trajectory per class\")\n",
    "plt.xticks(rotation=45, ha=\"right\")\n",
    "# plt.xlabel(\"Class\")\n",
    "plt.ylabel(\"number of events\")\n",
    "plt.grid(True, axis=\"y\", color = \"grey\", linewidth = \"1\", linestyle = \"dotted\")\n",
    "plt.show()\n",
    "\n",
    "print(\"Mean trajectory length (s) per class\")\n",
    "display(df1[\"traj_len_s\"])\n",
    "plt.bar(df1.index, df1[\"traj_len_s\"])\n",
    "plt.title(\"Mean trajectory length (s) per class\")\n",
    "plt.xticks(rotation=45, ha=\"right\")\n",
    "# plt.xlabel(\"Class\")\n",
    "plt.ylabel(\"length (s)\")\n",
    "plt.grid(True, axis=\"y\", color = \"grey\", linewidth = \"1\", linestyle = \"dotted\")\n",
    "plt.show()\n",
    "\n",
    "print(\"Mean number of events per fragment per class\")\n",
    "display(df1[\"frag_evnt_count\"])\n",
    "plt.bar(df1.index, df1[\"frag_evnt_count\"])\n",
    "plt.title(\"Mean number of events per fragment per class\")\n",
    "plt.xticks(rotation=45, ha=\"right\")\n",
    "# plt.xlabel(\"Class\")\n",
    "plt.ylabel(\"number of events\")\n",
    "plt.grid(True, axis=\"y\", color = \"grey\", linewidth = \"1\", linestyle = \"dotted\")\n",
    "plt.show()\n"
   ]
  },
  {
   "cell_type": "markdown",
   "metadata": {},
   "source": [
    "## Event count / Fragment count histogram"
   ]
  },
  {
   "cell_type": "code",
   "execution_count": 13,
   "metadata": {},
   "outputs": [
    {
     "data": {
      "image/png": "[encoded data removed]",
      "text/plain": [
       "<Figure size 432x216 with 1 Axes>"
      ]
     },
     "metadata": {
      "needs_background": "light"
     },
     "output_type": "display_data"
    }
   ],
   "source": [
    "plt.figure(figsize=(6,3))\n",
    "plt.hist(df[\"frag_evnt_count\"], bins=list(range(0, 1000*10+1, 1000)))\n",
    "plt.title(\"Event count histogram\")\n",
    "plt.xlabel(\"Event count\")\n",
    "plt.xticks(np.arange(0, 1000*10, 2000))\n",
    "plt.ylabel(\"Number of fragments\")\n",
    "plt.grid(True, axis=\"y\", color = \"grey\", linewidth = \"1\", linestyle = \"dotted\")\n",
    "plt.savefig(FIGURE_OUTPUT_DIR/\"Event count histogram 2.png\", format=\"png\", bbox_inches=\"tight\", dpi=200)\n",
    "plt.show()"
   ]
  },
  {
   "cell_type": "markdown",
   "metadata": {},
   "source": [
    "## Number of Fragments per scene"
   ]
  },
  {
   "cell_type": "markdown",
   "metadata": {},
   "source": [
    "### >= 0"
   ]
  },
  {
   "cell_type": "code",
   "execution_count": 14,
   "metadata": {},
   "outputs": [
    {
     "data": {
      "text/plain": [
       "scene\n",
       "hn-bee-1      610\n",
       "hn-but-2     1213\n",
       "hn-dra-1      216\n",
       "hn-was-1       70\n",
       "hn-was-2      327\n",
       "hn-was-3      227\n",
       "hn-was-5      404\n",
       "mb-bum1-1      44\n",
       "mb-bum1-2      18\n",
       "mb-bum1-3      13\n",
       "mb-bum1-4      33\n",
       "mb-bum1-5      45\n",
       "mb-bum2-1     202\n",
       "mb-bum2-2     582\n",
       "mb-dra1-1     518\n",
       "mb-dra2-1    1428\n",
       "mu-1         1112\n",
       "mu-2          590\n",
       "mu-3         3075\n",
       "mu-4          518\n",
       "mu-5           61\n",
       "mu-6         1027\n",
       "dtype: int64"
      ]
     },
     "metadata": {},
     "output_type": "display_data"
    },
    {
     "data": {
      "image/png": "[encoded data removed]",
      "text/plain": [
       "<Figure size 432x288 with 1 Axes>"
      ]
     },
     "metadata": {
      "needs_background": "light"
     },
     "output_type": "display_data"
    }
   ],
   "source": [
    "# number of fragments per scene\n",
    "df1 = df.groupby(\"scene\").size()\n",
    "display(df1)\n",
    "\n",
    "plt.bar(df1.index, df1)\n",
    "plt.xticks(rotation=45, ha=\"right\")\n",
    "plt.xlabel(\"Scene\")\n",
    "plt.ylabel(\"Number of fragments\")\n",
    "plt.grid(True, axis=\"y\", color = \"grey\", linewidth = \"1\", linestyle = \"dotted\")\n",
    "plt.show()\n"
   ]
  },
  {
   "cell_type": "markdown",
   "metadata": {},
   "source": [
    "### >= 2048"
   ]
  },
  {
   "cell_type": "code",
   "execution_count": 15,
   "metadata": {},
   "outputs": [
    {
     "data": {
      "text/plain": [
       "scene\n",
       "hn-bee-1      15\n",
       "hn-but-2     286\n",
       "hn-dra-1      98\n",
       "hn-was-1       2\n",
       "hn-was-2       9\n",
       "hn-was-3      12\n",
       "hn-was-5      80\n",
       "mb-bum1-1     44\n",
       "mb-bum1-2     17\n",
       "mb-bum1-3     13\n",
       "mb-bum1-4     32\n",
       "mb-bum1-5     39\n",
       "mb-bum2-1    142\n",
       "mb-bum2-2    135\n",
       "mb-dra1-1    266\n",
       "mb-dra2-1    537\n",
       "mu-1         430\n",
       "mu-2         110\n",
       "mu-3         269\n",
       "mu-4          25\n",
       "mu-6          32\n",
       "dtype: int64"
      ]
     },
     "metadata": {},
     "output_type": "display_data"
    },
    {
     "data": {
      "image/png": "[encoded data removed]",
      "text/plain": [
       "<Figure size 432x288 with 1 Axes>"
      ]
     },
     "metadata": {
      "needs_background": "light"
     },
     "output_type": "display_data"
    }
   ],
   "source": [
    "# number of fragments per scene WHERE >= 2048\n",
    "df1 = df[df[\"frag_evnt_count\"] >= 4096//2 ].groupby(\"scene\").size()\n",
    "display(df1)\n",
    "\n",
    "plt.bar(df1.index, df1)\n",
    "plt.title(\"Number of fragments per scene with >=2048 events\")\n",
    "plt.xlabel(\"Scene\")\n",
    "plt.xticks(rotation=45, ha=\"right\")\n",
    "plt.ylabel(\"Number of fragments\")\n",
    "plt.grid(True, axis=\"y\", color = \"grey\", linewidth = \"1\", linestyle = \"dotted\")\n",
    "plt.show()"
   ]
  },
  {
   "cell_type": "markdown",
   "metadata": {},
   "source": [
    "### >= 4096"
   ]
  },
  {
   "cell_type": "code",
   "execution_count": 16,
   "metadata": {},
   "outputs": [
    {
     "data": {
      "text/plain": [
       "scene\n",
       "hn-bee-1       3\n",
       "hn-but-2     121\n",
       "hn-dra-1      46\n",
       "hn-was-2       3\n",
       "hn-was-3       3\n",
       "hn-was-5      27\n",
       "mb-bum1-1     43\n",
       "mb-bum1-2     16\n",
       "mb-bum1-3     12\n",
       "mb-bum1-4     30\n",
       "mb-bum1-5     32\n",
       "mb-bum2-1     86\n",
       "mb-bum2-2     39\n",
       "mb-dra1-1    133\n",
       "mb-dra2-1    229\n",
       "mu-1         373\n",
       "mu-2          75\n",
       "mu-3         118\n",
       "mu-4           4\n",
       "mu-6          22\n",
       "dtype: int64"
      ]
     },
     "metadata": {},
     "output_type": "display_data"
    },
    {
     "data": {
      "image/png": "[encoded data removed]",
      "text/plain": [
       "<Figure size 432x288 with 1 Axes>"
      ]
     },
     "metadata": {
      "needs_background": "light"
     },
     "output_type": "display_data"
    }
   ],
   "source": [
    "# number of fragments per scene WHERE >= 4096\n",
    "df1 = df[df[\"frag_evnt_count\"] >= 4096 ].groupby(\"scene\").size()\n",
    "display(df1)\n",
    "\n",
    "plt.bar(df1.index, df1)\n",
    "plt.title(\"Number of fragments per scene with >=4096 events\")\n",
    "plt.xlabel(\"Scene\")\n",
    "plt.xticks(rotation=45, ha=\"right\")\n",
    "plt.ylabel(\"Number of fragments\")\n",
    "plt.grid(True, axis=\"y\", color = \"grey\", linewidth = \"1\", linestyle = \"dotted\")\n",
    "plt.show()"
   ]
  },
  {
   "attachments": {},
   "cell_type": "markdown",
   "metadata": {},
   "source": [
    "### Number of Fragments per Instance"
   ]
  },
  {
   "cell_type": "code",
   "execution_count": 17,
   "metadata": {},
   "outputs": [
    {
     "name": "stdout",
     "output_type": "stream",
     "text": [
      "8.077881619937695\n",
      "4.0\n"
     ]
    },
    {
     "data": {
      "text/plain": [
       "scene      instance_id\n",
       "hn-bee-1   0                1\n",
       "mu-1       29               1\n",
       "hn-but-2   36               1\n",
       "mu-1       28               1\n",
       "           27               1\n",
       "           26               1\n",
       "mb-bum2-2  45               1\n",
       "mu-1       21               1\n",
       "mb-bum2-2  47               1\n",
       "mu-1       4                1\n",
       "mb-bum1-5  6                1\n",
       "mb-dra2-1  36               1\n",
       "           32               1\n",
       "           26               1\n",
       "mb-dra1-1  17               1\n",
       "mb-dra2-1  16               1\n",
       "           15               1\n",
       "mb-dra1-1  49               1\n",
       "           50               1\n",
       "hn-was-5   1                1\n",
       "           5                1\n",
       "           8                1\n",
       "mb-dra2-1  13               1\n",
       "hn-was-5   14               1\n",
       "           20               1\n",
       "mb-dra1-1  70               1\n",
       "hn-was-5   42               1\n",
       "           46               1\n",
       "           58               1\n",
       "           55               1\n",
       "hn-but-2   30               1\n",
       "mu-2       15               1\n",
       "hn-dra-1   9                1\n",
       "hn-but-2   27               1\n",
       "mu-6       87               1\n",
       "hn-bee-1   4                1\n",
       "mb-bum2-2  0                1\n",
       "hn-bee-1   9                1\n",
       "hn-but-2   1                1\n",
       "mu-6       16               1\n",
       "hn-but-2   4                1\n",
       "mb-bum2-2  9                1\n",
       "hn-but-2   10               1\n",
       "mu-3       64               1\n",
       "           63               1\n",
       "hn-but-2   16               1\n",
       "           17               1\n",
       "mu-4       14               1\n",
       "mb-bum2-2  39               1\n",
       "mu-3       33               1\n",
       "           21               1\n",
       "           22               1\n",
       "hn-was-5   4                2\n",
       "mu-6       5                2\n",
       "hn-was-5   11               2\n",
       "mb-bum2-1  5                2\n",
       "mb-dra1-1  52               2\n",
       "mb-bum2-2  6                2\n",
       "hn-was-5   17               2\n",
       "           22               2\n",
       "hn-bee-1   11               2\n",
       "mb-dra2-1  38               2\n",
       "hn-was-5   33               2\n",
       "mb-dra2-1  4                2\n",
       "hn-was-5   35               2\n",
       "           37               2\n",
       "           38               2\n",
       "mb-dra2-1  11               2\n",
       "hn-was-5   45               2\n",
       "           47               2\n",
       "mb-bum2-2  41               2\n",
       "hn-was-5   49               2\n",
       "mu-2       8                2\n",
       "mb-dra1-1  51               2\n",
       "hn-was-5   31               2\n",
       "mb-dra2-1  14               2\n",
       "hn-was-5   0                2\n",
       "mb-dra1-1  9                2\n",
       "mb-dra2-1  18               2\n",
       "hn-dra-1   15               2\n",
       "hn-but-2   11               2\n",
       "           20               2\n",
       "mu-1       22               2\n",
       "           5                2\n",
       "hn-dra-1   23               2\n",
       "hn-but-2   19               2\n",
       "mb-bum2-2  34               2\n",
       "hn-was-2   3                2\n",
       "hn-but-2   28               2\n",
       "hn-was-3   2                2\n",
       "           3                2\n",
       "           4                2\n",
       "hn-but-2   22               2\n",
       "hn-was-1   3                2\n",
       "mb-dra2-1  20               2\n",
       "mb-bum2-2  40               3\n",
       "hn-was-5   54               3\n",
       "mb-bum2-2  43               3\n",
       "mb-bum1-4  4                3\n",
       "mb-dra1-1  19               3\n",
       "mb-bum2-1  12               3\n",
       "mb-dra1-1  21               3\n",
       "           48               3\n",
       "           57               3\n",
       "mb-bum2-2  48               3\n",
       "hn-was-5   53               3\n",
       "hn-was-3   8                3\n",
       "hn-was-5   51               3\n",
       "hn-bee-1   8                3\n",
       "mu-6       18               3\n",
       "           4                3\n",
       "mu-4       6                3\n",
       "mu-3       57               3\n",
       "hn-but-2   24               3\n",
       "mu-2       1                3\n",
       "           0                3\n",
       "hn-but-2   41               3\n",
       "hn-dra-1   2                3\n",
       "hn-was-5   52               3\n",
       "hn-dra-1   16               3\n",
       "           18               3\n",
       "           12               3\n",
       "hn-was-5   19               3\n",
       "           50               3\n",
       "           48               3\n",
       "hn-dra-1   22               3\n",
       "hn-was-5   44               3\n",
       "hn-was-3   0                3\n",
       "mb-bum2-1  17               3\n",
       "hn-was-5   3                3\n",
       "           13               3\n",
       "hn-dra-1   19               3\n",
       "hn-was-5   30               3\n",
       "           34               3\n",
       "mb-bum2-1  22               4\n",
       "mb-bum2-2  5                4\n",
       "mu-4       19               4\n",
       "mb-bum2-2  30               4\n",
       "mb-dra1-1  20               4\n",
       "mu-3       59               4\n",
       "mb-bum2-2  46               4\n",
       "mb-dra2-1  37               4\n",
       "mb-dra1-1  1                4\n",
       "           5                4\n",
       "mb-dra2-1  19               4\n",
       "           17               4\n",
       "mb-bum2-2  32               4\n",
       "mb-bum2-1  21               4\n",
       "mb-bum2-2  11               4\n",
       "hn-dra-1   8                4\n",
       "hn-but-2   31               4\n",
       "           18               4\n",
       "           35               4\n",
       "hn-dra-1   10               4\n",
       "           1                4\n",
       "mb-bum1-5  4                4\n",
       "hn-but-2   29               4\n",
       "           40               4\n",
       "mb-bum2-1  19               4\n",
       "hn-but-2   3                4\n",
       "hn-was-5   2                4\n",
       "mb-bum2-1  15               4\n",
       "           18               4\n",
       "hn-but-2   5                4\n",
       "mb-dra1-1  2                5\n",
       "mu-1       20               5\n",
       "mb-bum2-1  2                5\n",
       "mb-bum1-1  1                5\n",
       "mb-bum1-4  2                5\n",
       "hn-but-2   21               5\n",
       "           25               5\n",
       "mb-bum2-2  37               5\n",
       "mb-bum1-5  2                5\n",
       "hn-dra-1   11               5\n",
       "mb-bum2-1  9                5\n",
       "mb-dra1-1  14               5\n",
       "           59               5\n",
       "hn-dra-1   3                5\n",
       "hn-but-2   9                5\n",
       "mb-dra1-1  61               5\n",
       "hn-was-5   12               5\n",
       "mb-dra1-1  16               5\n",
       "           54               5\n",
       "mb-dra2-1  34               6\n",
       "mb-bum2-1  20               6\n",
       "mb-dra1-1  53               6\n",
       "mb-bum1-3  0                6\n",
       "mb-bum1-2  1                6\n",
       "hn-dra-1   13               6\n",
       "           14               6\n",
       "mb-dra2-1  12               6\n",
       "mb-bum1-4  1                6\n",
       "hn-dra-1   7                6\n",
       "mb-dra1-1  69               6\n",
       "hn-dra-1   4                6\n",
       "mb-bum2-1  16               6\n",
       "mb-bum2-2  2                6\n",
       "mu-6       15               6\n",
       "mb-bum2-2  8                6\n",
       "mu-4       0                6\n",
       "hn-but-2   15               6\n",
       "hn-dra-1   6                6\n",
       "mb-bum2-2  33               6\n",
       "mb-bum2-1  0                6\n",
       "mu-1       25               6\n",
       "mb-dra1-1  11               6\n",
       "           13               6\n",
       "mu-3       13               6\n",
       "hn-but-2   26               7\n",
       "mb-dra2-1  24               7\n",
       "hn-but-2   38               7\n",
       "           14               7\n",
       "mu-1       17               7\n",
       "hn-was-2   2                7\n",
       "hn-bee-1   3                7\n",
       "mu-1       3                7\n",
       "           19               7\n",
       "mu-6       96               7\n",
       "mb-bum1-4  3                7\n",
       "mb-bum1-5  5                7\n",
       "mb-bum2-1  3                7\n",
       "mb-dra1-1  64               7\n",
       "           56               7\n",
       "mb-bum2-1  4                7\n",
       "mb-dra1-1  18               7\n",
       "           4                7\n",
       "           3                7\n",
       "mb-bum2-2  29               7\n",
       "mb-bum1-5  0                7\n",
       "mb-bum2-1  11               7\n",
       "mb-bum1-3  1                7\n",
       "mb-dra1-1  60               7\n",
       "mb-dra2-1  23               8\n",
       "hn-but-2   39               8\n",
       "mb-dra2-1  40               8\n",
       "           39               8\n",
       "mb-dra1-1  12               8\n",
       "           71               8\n",
       "           65               8\n",
       "mu-3       10               8\n",
       "           31               8\n",
       "hn-but-2   23               8\n",
       "mb-bum2-1  8                8\n",
       "           14               8\n",
       "mb-dra1-1  0                9\n",
       "           10               9\n",
       "mb-bum1-1  2                9\n",
       "mb-bum2-1  10               9\n",
       "mu-6       91               9\n",
       "mb-bum2-1  13               9\n",
       "mb-bum2-2  4                9\n",
       "mu-1       31               9\n",
       "mb-bum2-1  1                9\n",
       "mu-1       14               9\n",
       "mb-dra2-1  35               9\n",
       "           25               9\n",
       "           22               9\n",
       "mb-dra1-1  68               9\n",
       "mb-dra2-1  1                9\n",
       "mb-dra1-1  55               9\n",
       "mb-dra2-1  0                9\n",
       "mb-dra1-1  72              10\n",
       "mb-bum2-2  3               10\n",
       "mb-dra1-1  62              10\n",
       "mb-dra2-1  27              10\n",
       "mu-3       6               10\n",
       "mu-1       13              10\n",
       "mb-dra2-1  30              10\n",
       "mb-bum2-1  6               10\n",
       "mb-bum1-4  5               11\n",
       "mb-dra2-1  28              11\n",
       "mu-4       2               11\n",
       "hn-dra-1   20              11\n",
       "mb-bum1-2  0               11\n",
       "mb-dra2-1  21              11\n",
       "           33              11\n",
       "mb-bum2-1  7               12\n",
       "hn-dra-1   21              12\n",
       "mb-dra1-1  15              12\n",
       "hn-but-2   32              13\n",
       "mu-3       24              13\n",
       "mb-bum1-1  0               13\n",
       "hn-but-2   37              13\n",
       "mu-1       16              13\n",
       "           30              13\n",
       "mb-dra1-1  67              13\n",
       "mb-bum2-2  38              14\n",
       "mb-dra1-1  47              15\n",
       "mb-bum1-5  3               15\n",
       "mb-dra1-1  63              16\n",
       "hn-but-2   8               16\n",
       "           6               17\n",
       "mb-bum1-1  3               17\n",
       "mu-1       23              17\n",
       "           9               23\n",
       "hn-but-2   7               24\n",
       "mu-1       6               25\n",
       "hn-but-2   42              27\n",
       "mu-3       55              28\n",
       "mu-1       15              29\n",
       "hn-but-2   33              29\n",
       "mu-1       0               30\n",
       "           24              31\n",
       "mu-3       0               31\n",
       "mb-bum2-2  35              32\n",
       "mb-dra2-1  7               34\n",
       "mu-1       8               34\n",
       "hn-but-2   2               37\n",
       "mu-1       1               38\n",
       "mb-dra2-1  6               39\n",
       "           8               39\n",
       "           5               41\n",
       "mu-3       16              42\n",
       "mb-dra2-1  10              43\n",
       "mu-2       4               46\n",
       "mu-1       7               48\n",
       "mb-dra2-1  9               53\n",
       "mu-2       12              55\n",
       "mu-1       2               59\n",
       "mu-3       9              111\n",
       "mb-dra2-1  41             117\n",
       "dtype: int64"
      ]
     },
     "metadata": {},
     "output_type": "display_data"
    }
   ],
   "source": [
    "df1 = df[df[\"frag_evnt_count\"] >= 2048 ].groupby([\"scene\",\"instance_id\"]).size().sort_values()\n",
    "\n",
    "print(df1.mean())\n",
    "print(df1.median())\n",
    "\n",
    "with pd.option_context('display.max_rows', None, 'display.max_columns', None):  # more options can be specified also\n",
    "    display(df1)"
   ]
  },
  {
   "cell_type": "code",
   "execution_count": null,
   "metadata": {},
   "outputs": [],
   "source": []
  }
 ],
 "metadata": {
  "kernelspec": {
   "display_name": "pix2pix",
   "language": "python",
   "name": "python3"
  },
  "language_info": {
   "codemirror_mode": {
    "name": "ipython",
    "version": 3
   },
   "file_extension": ".py",
   "mimetype": "text/x-python",
   "name": "python",
   "nbconvert_exporter": "python",
   "pygments_lexer": "ipython3",
   "version": "3.9.12"
  },
  "orig_nbformat": 4
 },
 "nbformat": 4,
 "nbformat_minor": 2
}
