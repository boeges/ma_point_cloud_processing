{
 "cells": [
  {
   "cell_type": "code",
   "execution_count": 2,
   "metadata": {},
   "outputs": [],
   "source": [
    "import math\n",
    "import cv2\n",
    "import csv\n",
    "import h5py\n",
    "import numpy as np\n",
    "from datetime import datetime\n",
    "import matplotlib.pyplot as plt"
   ]
  },
  {
   "cell_type": "code",
   "execution_count": 14,
   "metadata": {},
   "outputs": [
    {
     "name": "stdout",
     "output_type": "stream",
     "text": [
      "2024-05-02_19-36-29\n"
     ]
    }
   ],
   "source": [
    "def getDateTimeStr():\n",
    "    return datetime.now().strftime(\"%Y-%m-%d_%H-%M-%S\")"
   ]
  },
  {
   "cell_type": "code",
   "execution_count": 51,
   "metadata": {},
   "outputs": [
    {
     "name": "stdout",
     "output_type": "stream",
     "text": [
      "Keys: <KeysViewHDF5 ['CD', 'EXTERNAL_TRIGGERS']>\n",
      "\n",
      "CD/events\n",
      "13848396\n",
      "(133, 716, 1, 1475064)\n",
      "(127, 707, 1, 1475084)\n",
      "(0, 605, 1, 1475126)\n",
      "(590, 162, 1, 1475157)\n",
      "(59, 654, 1, 1475295)\n",
      "(82, 676, 1, 1475309)\n",
      "(66, 538, 1, 1475311)\n",
      "(64, 658, 1, 1475324)\n",
      "(123, 704, 1, 1475342)\n",
      "(90, 678, 1, 1475349)\n",
      "last event: (650, 91, 0, 156909510)\n",
      "133 <class 'numpy.uint16'>\n",
      "716 <class 'numpy.uint16'>\n",
      "1 <class 'numpy.int8'>\n",
      "1475064 <class 'numpy.int64'>\n",
      "\n",
      "EXTERNAL_TRIGGERS/events\n",
      "31361\n",
      "(1, 1475011, 0)\n",
      "(0, 1476011, 0)\n",
      "(1, 1485013, 0)\n",
      "(0, 1486012, 0)\n",
      "(1, 1495014, 0)\n",
      "(0, 1496007, 0)\n",
      "(1, 1505009, 0)\n",
      "(0, 1506008, 0)\n",
      "(1, 1515010, 0)\n",
      "(0, 1516003, 0)\n",
      "last event: (1, 156909843, 0)\n",
      "\n",
      "EXTERNAL_TRIGGERS/corrected_negative\n",
      "15546\n",
      "(0, 1476011, 0, 0)\n",
      "(0, 1486012, 0, 1)\n",
      "(0, 1496007, 0, 2)\n",
      "(0, 1506008, 0, 3)\n",
      "(0, 1516003, 0, 4)\n",
      "(0, 1526004, 0, 5)\n",
      "(0, 1535999, 0, 6)\n",
      "(0, 1546000, 0, 7)\n",
      "(0, 1556002, 0, 8)\n",
      "(0, 1565996, 0, 9)\n",
      "last event: (0, 156901395, 0, 15545)\n",
      "\n",
      "EXTERNAL_TRIGGERS/corrected_positive\n",
      "15547\n",
      "(1, 1475011, 0, -1)\n",
      "(1, 1485013, 0, 0)\n",
      "(1, 1495014, 0, 1)\n",
      "(1, 1505009, 0, 2)\n",
      "(1, 1515010, 0, 3)\n",
      "(1, 1525005, 0, 4)\n",
      "(1, 1535006, 0, 5)\n",
      "(1, 1545001, 0, 6)\n",
      "(1, 1555002, 0, 7)\n",
      "(1, 1565004, 0, 8)\n",
      "last event: (1, 156909843, 0, 15545)\n"
     ]
    }
   ],
   "source": [
    "filename = \"../../datasets/muenster_dataset/wacv2024_ictrap_dataset/1_l-l-l.h5\"\n",
    "\n",
    "with h5py.File(filename, \"r\") as f:\n",
    "    # Print all root level object names (aka keys) \n",
    "    # these can be group or dataset names \n",
    "    print(\"Keys: %s\" % f.keys())\n",
    "    # get first object name/key; may or may NOT be a group\n",
    "    # a_group_key = list(f.keys())[0]\n",
    "\n",
    "    # # get the object type for a_group_key: usually group or dataset\n",
    "    # print(type(f[a_group_key])) \n",
    "\n",
    "    # # If a_group_key is a group name, \n",
    "    # # this gets the object names in the group and returns as a list\n",
    "    # data = list(f[a_group_key])\n",
    "\n",
    "    # # If a_group_key is a dataset name, \n",
    "    # # this gets the dataset values and returns as a list\n",
    "    # data = list(f[a_group_key])\n",
    "    # # preferred methods to get dataset values:\n",
    "    # ds_obj = f[a_group_key]      # returns as a h5py dataset object\n",
    "    # # ds_arr = f[a_group_key][()]  # returns as a numpy array\n",
    "\n",
    "    print(\"\\nCD/events\")\n",
    "    events = f[\"CD/events\"]\n",
    "    print(len(events)) # 13848396\n",
    "    for i in range(10):\n",
    "        print(events[i]) # (133, 716, 1, 1475064)\n",
    "    # print last event\n",
    "    print(\"last event:\", events[-1])\n",
    "    # print types\n",
    "    for element in events[0]:\n",
    "        print(element, type(element))\n",
    "\n",
    "\n",
    "    print(\"\\nEXTERNAL_TRIGGERS/events\")\n",
    "    events = f[\"EXTERNAL_TRIGGERS/events\"]\n",
    "    print(len(events))\n",
    "    for i in range(10):\n",
    "        print(events[i])\n",
    "    print(\"last event:\", events[-1])\n",
    "\n",
    "    print(\"\\nEXTERNAL_TRIGGERS/corrected_negative\")\n",
    "    events = f[\"EXTERNAL_TRIGGERS/corrected_negative\"]\n",
    "    print(len(events))\n",
    "    for i in range(10):\n",
    "        print(events[i])\n",
    "    print(\"last event:\", events[-1])\n",
    "\n",
    "    print(\"\\nEXTERNAL_TRIGGERS/corrected_positive\")\n",
    "    events = f[\"EXTERNAL_TRIGGERS/corrected_positive\"]\n",
    "    print(len(events))\n",
    "    for i in range(10):\n",
    "        print(events[i])\n",
    "    print(\"last event:\", events[-1])\n"
   ]
  },
  {
   "cell_type": "code",
   "execution_count": 3,
   "metadata": {},
   "outputs": [
    {
     "data": {
      "image/png": "[encoded data removed]",
      "text/plain": [
       "<Figure size 432x288 with 1 Axes>"
      ]
     },
     "metadata": {
      "needs_background": "light"
     },
     "output_type": "display_data"
    }
   ],
   "source": [
    "# timestamp ist in Mikrosekunden\n",
    "mikros_per_frame_100fps = (1 / 100) * 1000 * 1000\n",
    "print(mikros_per_frame_100fps)\n",
    "\n",
    "width = 1280\n",
    "height = 720\n",
    "image = [[(0,0,0) for _ in range(width)] for _ in range(height)]\n",
    "\n",
    "image[50][50] = (255,255,255)\n",
    "\n",
    "# Display the image\n",
    "plt.imshow(image)\n",
    "plt.axis('off') \n",
    "plt.show()"
   ]
  },
  {
   "cell_type": "code",
   "execution_count": 35,
   "metadata": {},
   "outputs": [
    {
     "data": {
      "image/png": "[encoded data removed]",
      "text/plain": [
       "<Figure size 432x288 with 1 Axes>"
      ]
     },
     "metadata": {
      "needs_background": "light"
     },
     "output_type": "display_data"
    }
   ],
   "source": [
    "image = np.zeros((height, width, 1), dtype = np.uint8)\n",
    "\n",
    "with h5py.File(filename, \"r\") as f:\n",
    "    events = f[\"CD/events\"]\n",
    "    i = 0\n",
    "    for event in events:\n",
    "        # event zB (133, 716, 1, 1475064)\n",
    "        image[event[1],event[0]] = 255\n",
    "        i+=1\n",
    "        if i > 10000:\n",
    "            break\n",
    "        \n",
    "plt.imshow(image, cmap=\"gray\")\n",
    "plt.show()"
   ]
  },
  {
   "cell_type": "markdown",
   "metadata": {},
   "source": [
    "## Create test video"
   ]
  },
  {
   "cell_type": "code",
   "execution_count": 42,
   "metadata": {},
   "outputs": [
    {
     "name": "stdout",
     "output_type": "stream",
     "text": [
      "Video created successfully!\n"
     ]
    }
   ],
   "source": [
    "fps = 100\n",
    "video = cv2.VideoWriter('test.mp4', cv2.VideoWriter_fourcc(*'mp4v'), fps, (width, height))\n",
    "\n",
    "# Create a loop to generate frames\n",
    "for i in range(100):  # Generating 100 frames\n",
    "    # Create a blank frame\n",
    "    frame = np.zeros((height, width, 3), dtype=np.uint8)\n",
    "    \n",
    "    # Draw something on the frame (for example, a rectangle moving horizontally)\n",
    "    x = int(i * (width / 100))  # Calculate x-coordinate based on frame number\n",
    "    cv2.rectangle(frame, (x, 100), (x + 50, 200), (0, 255, 0), -1)  # Draw a green rectangle\n",
    "    \n",
    "    # Write the frame to the video file\n",
    "    video.write(frame)\n",
    "\n",
    "# Release the VideoWriter\n",
    "video.release()\n",
    "\n",
    "print(\"Video created successfully!\")\n"
   ]
  },
  {
   "cell_type": "markdown",
   "metadata": {},
   "source": [
    "## Create video from events"
   ]
  },
  {
   "cell_type": "code",
   "execution_count": 6,
   "metadata": {},
   "outputs": [],
   "source": [
    "fps = 100\n",
    "\n",
    "# events_filename = \"1_l-l-l\"\n",
    "filename = \"3_m-h-h\"\n",
    "events_filepath = f\"../../datasets/muenster_dataset/wacv2024_ictrap_dataset/{filename}.h5\"\n",
    "\n",
    "video_filepath = f\"{filename}_{getDateTimeStr()}.mp4\""
   ]
  },
  {
   "cell_type": "code",
   "execution_count": 47,
   "metadata": {},
   "outputs": [
    {
     "name": "stdout",
     "output_type": "stream",
     "text": [
      "Created video 3_m-h-h_2024-05-02_16-32-02.mp4!\n"
     ]
    }
   ],
   "source": [
    "video = cv2.VideoWriter(video_filepath, cv2.VideoWriter_fourcc(*'mp4v'), fps, (width, height))\n",
    "\n",
    "i = 0\n",
    "# event zB (133, 716, 1, 1475064)\n",
    "with h5py.File(events_filepath, \"r\") as f:\n",
    "    events = f[\"CD/events\"]\n",
    "    frame = np.zeros((height, width, 3), dtype=np.uint8)\n",
    "    frame_start = events[0][3]\n",
    "    video_start = frame_start\n",
    "\n",
    "    for event in events:\n",
    "        timestamp = event[3]\n",
    "        if timestamp >= frame_start + mikros_per_frame_100fps:\n",
    "            # event is part of next frame\n",
    "            frame_start = timestamp\n",
    "            # write current frame to video\n",
    "            video.write(frame)\n",
    "            # start new frame\n",
    "            frame = np.zeros((height, width, 3), dtype=np.uint8)\n",
    "        # draw event\n",
    "        frame[event[1],event[0]] = 255\n",
    "\n",
    "        # if video_start+1000*1000*20 < timestamp:\n",
    "        #     # stop after 20s\n",
    "        #     break\n",
    "\n",
    "# Release the VideoWriter\n",
    "video.release()\n",
    "\n",
    "print(f\"Created video {video_filepath}!\")"
   ]
  },
  {
   "cell_type": "markdown",
   "metadata": {},
   "source": [
    "## Read csv test"
   ]
  },
  {
   "cell_type": "code",
   "execution_count": 9,
   "metadata": {},
   "outputs": [
    {
     "name": "stdout",
     "output_type": "stream",
     "text": [
      "{'frame_index': '0', 'is_keyframe': 'True', 'class': 'insect', 'confidence': 'certain', 'left': '638.4', 'top': '83.39999999999999', 'width': '32.4', 'height': '31.799999999999997', 'center_x': '654.6', 'center_y': '99.3'}\n",
      "{'frame_index': '0', 'is_keyframe': 'True', 'class': 'insect', 'confidence': 'certain', 'left': '345.59999999999997', 'top': '151.79999999999998', 'width': '15.6', 'height': '14.399999999999999', 'center_x': '353.4', 'center_y': '159.0'}\n",
      "{'frame_index': '1', 'is_keyframe': 'False', 'class': 'insect', 'confidence': 'certain', 'left': '635.85', 'top': '83.25', 'width': '32.4', 'height': '31.799999999999997', 'center_x': '652.05', 'center_y': '99.14999999999999'}\n",
      "{'frame_index': '1', 'is_keyframe': 'False', 'class': 'insect', 'confidence': 'certain', 'left': '345.8', 'top': '150.19999999999996', 'width': '15.799999999999955', 'height': '14.799999999999994', 'center_x': '353.7', 'center_y': '157.6'}\n",
      "{'frame_index': '2', 'is_keyframe': 'False', 'class': 'insect', 'confidence': 'certain', 'left': '633.3', 'top': '83.1', 'width': '32.4', 'height': '31.799999999999997', 'center_x': '649.5', 'center_y': '99.0'}\n",
      "{'frame_index': '2', 'is_keyframe': 'False', 'class': 'insect', 'confidence': 'certain', 'left': '345.99999999999994', 'top': '148.59999999999997', 'width': '16.000000000000046', 'height': '15.200000000000005', 'center_x': '354.0', 'center_y': '156.2'}\n"
     ]
    }
   ],
   "source": [
    "# Open the CSV file\n",
    "labels_filepath = f\"../../datasets/muenster_dataset/wacv2024_ictrap_dataset/{filename}_annotation.csv\"\n",
    "\n",
    "with open(labels_filepath, 'r') as cvs_file:\n",
    "    # Create a CSV reader object\n",
    "    reader = csv.DictReader(cvs_file)\n",
    "    \n",
    "    # Iterate over each row in the CSV file\n",
    "    i = 0\n",
    "    for row in reader:\n",
    "        # Each row is a dictionary\n",
    "        print(row)\n",
    "        i+=1\n",
    "        if i>5:\n",
    "            break\n"
   ]
  },
  {
   "cell_type": "markdown",
   "metadata": {},
   "source": [
    "## Load video and draw BBoxes"
   ]
  },
  {
   "cell_type": "code",
   "execution_count": 27,
   "metadata": {},
   "outputs": [
    {
     "ename": "FileNotFoundError",
     "evalue": "[Errno 2] No such file or directory: '../../datasets/muenster_dataset/wacv2024_ictrap_dataset/1_l-l-l_annotation_instances.csv'",
     "output_type": "error",
     "traceback": [
      "\u001b[1;31m---------------------------------------------------------------------------\u001b[0m",
      "\u001b[1;31mFileNotFoundError\u001b[0m                         Traceback (most recent call last)",
      "Input \u001b[1;32mIn [27]\u001b[0m, in \u001b[0;36m<cell line: 8>\u001b[1;34m()\u001b[0m\n\u001b[0;32m      4\u001b[0m labels_filepath \u001b[38;5;241m=\u001b[39m \u001b[38;5;124mf\u001b[39m\u001b[38;5;124m\"\u001b[39m\u001b[38;5;124m../../datasets/muenster_dataset/wacv2024_ictrap_dataset/\u001b[39m\u001b[38;5;132;01m{\u001b[39;00mfilename\u001b[38;5;132;01m}\u001b[39;00m\u001b[38;5;124m_annotation_instances.csv\u001b[39m\u001b[38;5;124m\"\u001b[39m\n\u001b[0;32m      5\u001b[0m input_video_path \u001b[38;5;241m=\u001b[39m \u001b[38;5;124mf\u001b[39m\u001b[38;5;124m\"\u001b[39m\u001b[38;5;124m../../datasets/muenster_dataset/wacv2024_ictrap_dataset/\u001b[39m\u001b[38;5;132;01m{\u001b[39;00mfilename\u001b[38;5;132;01m}\u001b[39;00m\u001b[38;5;124m_rgb.mp4\u001b[39m\u001b[38;5;124m\"\u001b[39m\n\u001b[1;32m----> 8\u001b[0m \u001b[38;5;28;01mwith\u001b[39;00m \u001b[38;5;28;43mopen\u001b[39;49m\u001b[43m(\u001b[49m\u001b[43mlabels_filepath\u001b[49m\u001b[43m,\u001b[49m\u001b[43m \u001b[49m\u001b[38;5;124;43m'\u001b[39;49m\u001b[38;5;124;43mr\u001b[39;49m\u001b[38;5;124;43m'\u001b[39;49m\u001b[43m)\u001b[49m \u001b[38;5;28;01mas\u001b[39;00m file:\n\u001b[0;32m      9\u001b[0m     \u001b[38;5;66;03m# Read bboxes\u001b[39;00m\n\u001b[0;32m     10\u001b[0m     reader \u001b[38;5;241m=\u001b[39m csv\u001b[38;5;241m.\u001b[39mDictReader(file)\n\u001b[0;32m     12\u001b[0m     \u001b[38;5;66;03m# Open the input video file\u001b[39;00m\n",
      "\u001b[1;31mFileNotFoundError\u001b[0m: [Errno 2] No such file or directory: '../../datasets/muenster_dataset/wacv2024_ictrap_dataset/1_l-l-l_annotation_instances.csv'"
     ]
    }
   ],
   "source": [
    "# filename = \"3_m-h-h\"\n",
    "filename = \"1_l-l-l\"\n",
    "\n",
    "labels_filepath = f\"../../datasets/muenster_dataset/wacv2024_ictrap_dataset/{filename}_annotation.csv\"\n",
    "input_video_path = f\"../../datasets/muenster_dataset/wacv2024_ictrap_dataset/{filename}_dvs.mp4\"\n",
    "output_video_path = f\"output/{filename}_dvs_bb_{getDateTimeStr()}.mp4\"\n",
    "\n",
    "with open(labels_filepath, 'r') as cvs_file:\n",
    "    # Read bboxes\n",
    "    reader = csv.DictReader(cvs_file)\n",
    "\n",
    "    # Open the input video file\n",
    "    cap = cv2.VideoCapture(input_video_path)\n",
    "\n",
    "    # Check if the video opened successfully\n",
    "    if not cap.isOpened():\n",
    "        raise Exception(\"Error: Could not open video.\")\n",
    "\n",
    "    # Get video properties\n",
    "    input_fps = int(cap.get(cv2.CAP_PROP_FPS))\n",
    "    input_width = int(cap.get(cv2.CAP_PROP_FRAME_WIDTH))\n",
    "    input_height = int(cap.get(cv2.CAP_PROP_FRAME_HEIGHT))\n",
    "\n",
    "    # Offset and scale of label coordinates (should usually be offset=0 and scale=1).\n",
    "    # For drawing BBs on the RGB video\n",
    "    # offset_x = 250\n",
    "    # offset_y = 150\n",
    "    # scale_x = 3.3\n",
    "    # scale_y = 3.3\n",
    "    offset_x = 0\n",
    "    offset_y = 0\n",
    "    scale_x = 1\n",
    "    scale_y = 1\n",
    "\n",
    "    # Define the output video codec and create a VideoWriter object\n",
    "    fourcc = cv2.VideoWriter_fourcc(*'mp4v')\n",
    "    out = cv2.VideoWriter(output_video_path, fourcc, input_fps, (input_width, input_height))\n",
    "\n",
    "    annotation_row = next(reader, None) # return None if eof\n",
    "\n",
    "    frame_index = 0\n",
    "\n",
    "    # Iterate frames\n",
    "    while cap.isOpened():\n",
    "        ret, frame = cap.read()  # Read a frame\n",
    "        if not ret:\n",
    "            break  # Break the loop if no frame is read (end of video)\n",
    "\n",
    "        while annotation_row is not None:\n",
    "            label_frame_index = int(annotation_row[\"frame_index\"])\n",
    "            if label_frame_index > frame_index:\n",
    "                # If the label frame index is for a future video frame\n",
    "                break\n",
    "            if label_frame_index == frame_index:\n",
    "                # If label frame index matches video frame index: Draw BB\n",
    "                x1 = int(offset_x + float(annotation_row[\"left\"]))\n",
    "                y1 = int(offset_y + float(annotation_row[\"top\"]))\n",
    "                x2 = int(x1 + float(annotation_row[\"width\"]) * scale_x)\n",
    "                y2 = int(y1 + float(annotation_row[\"height\"]) * scale_y)\n",
    "                cv2.rectangle(frame, (x1, y1), (x2, y2), (0, 255, 0), 2)\n",
    "            else:\n",
    "                # label_frame_index < frame_index\n",
    "                # Iterate until matching frame has been found\n",
    "                pass\n",
    "            annotation_row = next(reader, None)\n",
    "        \n",
    "        # Write the processed frame to the output video\n",
    "        out.write(frame)\n",
    "        frame_index += 1\n",
    "\n",
    "        if frame_index/input_fps > 10:\n",
    "            # stop after x seconds\n",
    "            break\n",
    "\n",
    "    # Release the video capture and writer objects\n",
    "    cap.release()\n",
    "    out.release()\n",
    "\n",
    "    print(f\"Created video {output_video_path}!\")"
   ]
  },
  {
   "cell_type": "code",
   "execution_count": 3,
   "metadata": {},
   "outputs": [
    {
     "ename": "TypeError",
     "evalue": "'list' object is not an iterator",
     "output_type": "error",
     "traceback": [
      "\u001b[1;31m---------------------------------------------------------------------------\u001b[0m",
      "\u001b[1;31mTypeError\u001b[0m                                 Traceback (most recent call last)",
      "Input \u001b[1;32mIn [3]\u001b[0m, in \u001b[0;36m<cell line: 6>\u001b[1;34m()\u001b[0m\n\u001b[0;32m      3\u001b[0m l \u001b[38;5;241m=\u001b[39m [\u001b[38;5;241m1\u001b[39m,\u001b[38;5;241m2\u001b[39m,\u001b[38;5;241m3\u001b[39m,\u001b[38;5;241m4\u001b[39m,\u001b[38;5;241m5\u001b[39m]\n\u001b[0;32m      5\u001b[0m \u001b[38;5;66;03m# li = iter(l)\u001b[39;00m\n\u001b[1;32m----> 6\u001b[0m \u001b[38;5;28mprint\u001b[39m(\u001b[38;5;124m\"\u001b[39m\u001b[38;5;124mbefore\u001b[39m\u001b[38;5;124m\"\u001b[39m, \u001b[38;5;28;43mnext\u001b[39;49m\u001b[43m(\u001b[49m\u001b[43ml\u001b[49m\u001b[43m)\u001b[49m)\n\u001b[0;32m      8\u001b[0m \u001b[38;5;28;01mfor\u001b[39;00m x \u001b[38;5;129;01min\u001b[39;00m l:\n\u001b[0;32m      9\u001b[0m     \u001b[38;5;28mprint\u001b[39m(x)\n",
      "\u001b[1;31mTypeError\u001b[0m: 'list' object is not an iterator"
     ]
    }
   ],
   "source": [
    "# iter test\n",
    "\n",
    "l = [1,2,3,4,5]\n",
    "\n",
    "# li = iter(l)\n",
    "print(\"before\", next(l))\n",
    "\n",
    "for x in l:\n",
    "    print(x)\n",
    "\n"
   ]
  },
  {
   "cell_type": "markdown",
   "metadata": {},
   "source": [
    "## Inspect frame times"
   ]
  },
  {
   "cell_type": "code",
   "execution_count": 3,
   "metadata": {},
   "outputs": [
    {
     "name": "stdout",
     "output_type": "stream",
     "text": [
      "19811.611436235064 10298 21627\n"
     ]
    }
   ],
   "source": [
    "filename = \"3_m-h-h\"\n",
    "events_filepath = f\"../../datasets/muenster_dataset/wacv2024_ictrap_dataset/{filename}.h5\"\n",
    "\n",
    "min_ft = 999999999\n",
    "max_ft = 0\n",
    "ft_sum = 0\n",
    "triggers_processed = 1\n",
    "\n",
    "with h5py.File(events_filepath, \"r\") as events_file:\n",
    "    triggers = events_file[\"EXTERNAL_TRIGGERS/corrected_positive\"] # (p, t, channel_id, frame_index)\n",
    "\n",
    "    prev_t = int(triggers[0][1])\n",
    "\n",
    "    for trigger in triggers[1:]:\n",
    "        trigger_t = int(trigger[1])\n",
    "        trigger_frame_index = int(trigger[3])\n",
    "\n",
    "        delta_t = trigger_t - prev_t\n",
    "        if delta_t > max_ft:\n",
    "            max_ft = delta_t\n",
    "        if delta_t < min_ft:\n",
    "            min_ft = delta_t\n",
    "\n",
    "        ft_sum += delta_t\n",
    "\n",
    "        prev_t = trigger_t\n",
    "        triggers_processed += 1\n",
    "\n",
    "# print mean, min and max frame time (duration)\n",
    "print(ft_sum/triggers_processed, min_ft, max_ft)\n",
    "# -> 19811.611436235064 10298 21627"
   ]
  }
 ],
 "metadata": {
  "kernelspec": {
   "display_name": "pix2pix",
   "language": "python",
   "name": "python3"
  },
  "language_info": {
   "codemirror_mode": {
    "name": "ipython",
    "version": 3
   },
   "file_extension": ".py",
   "mimetype": "text/x-python",
   "name": "python",
   "nbconvert_exporter": "python",
   "pygments_lexer": "ipython3",
   "version": "3.9.12"
  }
 },
 "nbformat": 4,
 "nbformat_minor": 2
}
