{
 "cells": [
  {
   "cell_type": "markdown",
   "metadata": {},
   "source": [
    "# Trajectory statistics\n",
    "\n",
    "## INFO!\n",
    "Die Klasse \"unclassified\" bedeuted, dass diesen Fragmenten manuell noch keine Klasse zugeordnet wurde. Aktuell fallen darunter alle Aufnahmen der Uni Münster, außer \"3_m-h-h\" bzw. \"mu-3\".\n"
   ]
  },
  {
   "cell_type": "code",
   "execution_count": 281,
   "metadata": {},
   "outputs": [],
   "source": [
    "from datetime import datetime\n",
    "from pathlib import Path\n",
    "import matplotlib.pyplot as plt\n",
    "import numpy as np\n",
    "import pandas as pd\n",
    "\n",
    "pd.set_option(\"display.precision\", 2)"
   ]
  },
  {
   "cell_type": "markdown",
   "metadata": {},
   "source": [
    "## Load statistics"
   ]
  },
  {
   "cell_type": "code",
   "execution_count": 282,
   "metadata": {},
   "outputs": [
    {
     "name": "stdout",
     "output_type": "stream",
     "text": [
      "Index(['scene', 'instance_id', 'fragment_id', 'class', 'traj_evnt_count',\n",
      "       'traj_len_s', 'frag_evnt_count', 'frag_len_s'],\n",
      "      dtype='object')\n",
      "Index(['scene', 'instance_id', 'fragment_id', 'class', 'traj_evnt_count',\n",
      "       'traj_len_s', 'frag_evnt_count', 'frag_len_s'],\n",
      "      dtype='object')\n"
     ]
    },
    {
     "data": {
      "text/html": [
       "<div>\n",
       "<style scoped>\n",
       "    .dataframe tbody tr th:only-of-type {\n",
       "        vertical-align: middle;\n",
       "    }\n",
       "\n",
       "    .dataframe tbody tr th {\n",
       "        vertical-align: top;\n",
       "    }\n",
       "\n",
       "    .dataframe thead th {\n",
       "        text-align: right;\n",
       "    }\n",
       "</style>\n",
       "<table border=\"1\" class=\"dataframe\">\n",
       "  <thead>\n",
       "    <tr style=\"text-align: right;\">\n",
       "      <th></th>\n",
       "      <th>scene</th>\n",
       "      <th>instance_id</th>\n",
       "      <th>fragment_id</th>\n",
       "      <th>class</th>\n",
       "      <th>traj_evnt_count</th>\n",
       "      <th>traj_len_s</th>\n",
       "      <th>frag_evnt_count</th>\n",
       "      <th>frag_len_s</th>\n",
       "    </tr>\n",
       "  </thead>\n",
       "  <tbody>\n",
       "    <tr>\n",
       "      <th>0</th>\n",
       "      <td>mu-3</td>\n",
       "      <td>0</td>\n",
       "      <td>0</td>\n",
       "      <td>bee</td>\n",
       "      <td>217225</td>\n",
       "      <td>30.25</td>\n",
       "      <td>2748</td>\n",
       "      <td>0.1</td>\n",
       "    </tr>\n",
       "    <tr>\n",
       "      <th>1</th>\n",
       "      <td>mu-3</td>\n",
       "      <td>0</td>\n",
       "      <td>1</td>\n",
       "      <td>bee</td>\n",
       "      <td>217225</td>\n",
       "      <td>30.25</td>\n",
       "      <td>1602</td>\n",
       "      <td>0.1</td>\n",
       "    </tr>\n",
       "    <tr>\n",
       "      <th>2</th>\n",
       "      <td>mu-3</td>\n",
       "      <td>0</td>\n",
       "      <td>2</td>\n",
       "      <td>bee</td>\n",
       "      <td>217225</td>\n",
       "      <td>30.25</td>\n",
       "      <td>881</td>\n",
       "      <td>0.1</td>\n",
       "    </tr>\n",
       "    <tr>\n",
       "      <th>3</th>\n",
       "      <td>mu-3</td>\n",
       "      <td>0</td>\n",
       "      <td>3</td>\n",
       "      <td>bee</td>\n",
       "      <td>217225</td>\n",
       "      <td>30.25</td>\n",
       "      <td>977</td>\n",
       "      <td>0.1</td>\n",
       "    </tr>\n",
       "    <tr>\n",
       "      <th>4</th>\n",
       "      <td>mu-3</td>\n",
       "      <td>0</td>\n",
       "      <td>4</td>\n",
       "      <td>bee</td>\n",
       "      <td>217225</td>\n",
       "      <td>30.25</td>\n",
       "      <td>690</td>\n",
       "      <td>0.1</td>\n",
       "    </tr>\n",
       "    <tr>\n",
       "      <th>...</th>\n",
       "      <td>...</td>\n",
       "      <td>...</td>\n",
       "      <td>...</td>\n",
       "      <td>...</td>\n",
       "      <td>...</td>\n",
       "      <td>...</td>\n",
       "      <td>...</td>\n",
       "      <td>...</td>\n",
       "    </tr>\n",
       "    <tr>\n",
       "      <th>8261</th>\n",
       "      <td>hn-was-3</td>\n",
       "      <td>9</td>\n",
       "      <td>30</td>\n",
       "      <td>wasp</td>\n",
       "      <td>10491</td>\n",
       "      <td>3.47</td>\n",
       "      <td>374</td>\n",
       "      <td>0.1</td>\n",
       "    </tr>\n",
       "    <tr>\n",
       "      <th>8262</th>\n",
       "      <td>hn-was-3</td>\n",
       "      <td>9</td>\n",
       "      <td>31</td>\n",
       "      <td>wasp</td>\n",
       "      <td>10491</td>\n",
       "      <td>3.47</td>\n",
       "      <td>259</td>\n",
       "      <td>0.1</td>\n",
       "    </tr>\n",
       "    <tr>\n",
       "      <th>8263</th>\n",
       "      <td>hn-was-3</td>\n",
       "      <td>9</td>\n",
       "      <td>32</td>\n",
       "      <td>wasp</td>\n",
       "      <td>10491</td>\n",
       "      <td>3.47</td>\n",
       "      <td>374</td>\n",
       "      <td>0.1</td>\n",
       "    </tr>\n",
       "    <tr>\n",
       "      <th>8264</th>\n",
       "      <td>hn-was-3</td>\n",
       "      <td>9</td>\n",
       "      <td>33</td>\n",
       "      <td>wasp</td>\n",
       "      <td>10491</td>\n",
       "      <td>3.47</td>\n",
       "      <td>323</td>\n",
       "      <td>0.1</td>\n",
       "    </tr>\n",
       "    <tr>\n",
       "      <th>8265</th>\n",
       "      <td>hn-was-3</td>\n",
       "      <td>9</td>\n",
       "      <td>34</td>\n",
       "      <td>wasp</td>\n",
       "      <td>10491</td>\n",
       "      <td>3.47</td>\n",
       "      <td>267</td>\n",
       "      <td>0.1</td>\n",
       "    </tr>\n",
       "  </tbody>\n",
       "</table>\n",
       "<p>8266 rows × 8 columns</p>\n",
       "</div>"
      ],
      "text/plain": [
       "         scene  instance_id  fragment_id class  traj_evnt_count  traj_len_s  \\\n",
       "0         mu-3            0            0   bee           217225       30.25   \n",
       "1         mu-3            0            1   bee           217225       30.25   \n",
       "2         mu-3            0            2   bee           217225       30.25   \n",
       "3         mu-3            0            3   bee           217225       30.25   \n",
       "4         mu-3            0            4   bee           217225       30.25   \n",
       "...        ...          ...          ...   ...              ...         ...   \n",
       "8261  hn-was-3            9           30  wasp            10491        3.47   \n",
       "8262  hn-was-3            9           31  wasp            10491        3.47   \n",
       "8263  hn-was-3            9           32  wasp            10491        3.47   \n",
       "8264  hn-was-3            9           33  wasp            10491        3.47   \n",
       "8265  hn-was-3            9           34  wasp            10491        3.47   \n",
       "\n",
       "      frag_evnt_count  frag_len_s  \n",
       "0                2748         0.1  \n",
       "1                1602         0.1  \n",
       "2                 881         0.1  \n",
       "3                 977         0.1  \n",
       "4                 690         0.1  \n",
       "...               ...         ...  \n",
       "8261              374         0.1  \n",
       "8262              259         0.1  \n",
       "8263              374         0.1  \n",
       "8264              323         0.1  \n",
       "8265              267         0.1  \n",
       "\n",
       "[8266 rows x 8 columns]"
      ]
     },
     "metadata": {},
     "output_type": "display_data"
    }
   ],
   "source": [
    "\n",
    "FIGURE_OUTPUT_DIR = Path(\"output/figures/statistics\")\n",
    "FIGURE_OUTPUT_DIR.mkdir(exist_ok=True)\n",
    "\n",
    "# To generate a new stats file run the script save_trajectory_proj_and_stats.py!\n",
    "STATS_BASE_DIR = Path(\"output/statistics/hist/\")\n",
    "\n",
    "# contains segmented mu trajectories; Will be counted as class \"unclassified\"\n",
    "separated_mu = pd.read_csv(STATS_BASE_DIR / \"tf100ms_2_separated_mu\" / \"all_fragments.csv\")\n",
    "\n",
    "# contains classified trajectories\n",
    "classified = pd.read_csv(STATS_BASE_DIR / \"tf100ms_2024-08-07_15-43-43\" / \"all_fragments.csv\")\n",
    "\n",
    "print(separated_mu.columns)\n",
    "print(classified.columns)\n",
    "\n",
    "display(classified)"
   ]
  },
  {
   "cell_type": "code",
   "execution_count": 283,
   "metadata": {},
   "outputs": [
    {
     "data": {
      "text/html": [
       "<div>\n",
       "<style scoped>\n",
       "    .dataframe tbody tr th:only-of-type {\n",
       "        vertical-align: middle;\n",
       "    }\n",
       "\n",
       "    .dataframe tbody tr th {\n",
       "        vertical-align: top;\n",
       "    }\n",
       "\n",
       "    .dataframe thead th {\n",
       "        text-align: right;\n",
       "    }\n",
       "</style>\n",
       "<table border=\"1\" class=\"dataframe\">\n",
       "  <thead>\n",
       "    <tr style=\"text-align: right;\">\n",
       "      <th></th>\n",
       "      <th>scene</th>\n",
       "      <th>instance_id</th>\n",
       "      <th>fragment_id</th>\n",
       "      <th>class</th>\n",
       "      <th>traj_evnt_count</th>\n",
       "      <th>traj_len_s</th>\n",
       "      <th>frag_evnt_count</th>\n",
       "      <th>frag_len_s</th>\n",
       "    </tr>\n",
       "  </thead>\n",
       "  <tbody>\n",
       "    <tr>\n",
       "      <th>0</th>\n",
       "      <td>mu-1</td>\n",
       "      <td>0</td>\n",
       "      <td>0</td>\n",
       "      <td>unclassified</td>\n",
       "      <td>1015970</td>\n",
       "      <td>40.43</td>\n",
       "      <td>43</td>\n",
       "      <td>0.1</td>\n",
       "    </tr>\n",
       "    <tr>\n",
       "      <th>1</th>\n",
       "      <td>mu-1</td>\n",
       "      <td>0</td>\n",
       "      <td>1</td>\n",
       "      <td>unclassified</td>\n",
       "      <td>1015970</td>\n",
       "      <td>40.43</td>\n",
       "      <td>14</td>\n",
       "      <td>0.1</td>\n",
       "    </tr>\n",
       "    <tr>\n",
       "      <th>2</th>\n",
       "      <td>mu-1</td>\n",
       "      <td>0</td>\n",
       "      <td>2</td>\n",
       "      <td>unclassified</td>\n",
       "      <td>1015970</td>\n",
       "      <td>40.43</td>\n",
       "      <td>290</td>\n",
       "      <td>0.1</td>\n",
       "    </tr>\n",
       "    <tr>\n",
       "      <th>3</th>\n",
       "      <td>mu-1</td>\n",
       "      <td>0</td>\n",
       "      <td>3</td>\n",
       "      <td>unclassified</td>\n",
       "      <td>1015970</td>\n",
       "      <td>40.43</td>\n",
       "      <td>630</td>\n",
       "      <td>0.1</td>\n",
       "    </tr>\n",
       "    <tr>\n",
       "      <th>4</th>\n",
       "      <td>mu-1</td>\n",
       "      <td>0</td>\n",
       "      <td>4</td>\n",
       "      <td>unclassified</td>\n",
       "      <td>1015970</td>\n",
       "      <td>40.43</td>\n",
       "      <td>450</td>\n",
       "      <td>0.1</td>\n",
       "    </tr>\n",
       "  </tbody>\n",
       "</table>\n",
       "</div>"
      ],
      "text/plain": [
       "  scene  instance_id  fragment_id         class  traj_evnt_count  traj_len_s  \\\n",
       "0  mu-1            0            0  unclassified          1015970       40.43   \n",
       "1  mu-1            0            1  unclassified          1015970       40.43   \n",
       "2  mu-1            0            2  unclassified          1015970       40.43   \n",
       "3  mu-1            0            3  unclassified          1015970       40.43   \n",
       "4  mu-1            0            4  unclassified          1015970       40.43   \n",
       "\n",
       "   frag_evnt_count  frag_len_s  \n",
       "0               43         0.1  \n",
       "1               14         0.1  \n",
       "2              290         0.1  \n",
       "3              630         0.1  \n",
       "4              450         0.1  "
      ]
     },
     "metadata": {},
     "output_type": "display_data"
    }
   ],
   "source": [
    "# clear class names for datasets not yet classified\n",
    "separated_mu[\"class\"] = \"unclassified\"\n",
    "display(separated_mu.head())"
   ]
  },
  {
   "cell_type": "code",
   "execution_count": 284,
   "metadata": {},
   "outputs": [
    {
     "name": "stdout",
     "output_type": "stream",
     "text": [
      "total number of fragments: 11574\n",
      "total number of classified fragments: 8266\n",
      "unclassified mu scenes: ['mu-1' 'mu-2' 'mu-4' 'mu-5' 'mu-6']\n",
      "mu total fragments: 6383 , mu unclassified fragments: 3308\n"
     ]
    }
   ],
   "source": [
    "# Combine dataframes\n",
    "classified_scenes = classified[\"scene\"].unique()\n",
    "unclassified_mu = separated_mu[~separated_mu[\"scene\"].isin(classified_scenes)]\n",
    "df = pd.concat([classified, unclassified_mu])\n",
    "\n",
    "print(\"total number of fragments:\", len(df.index))\n",
    "print(\"total number of classified fragments:\", len(classified.index))\n",
    "print(\"unclassified mu scenes:\", unclassified_mu[\"scene\"].unique())\n",
    "print(\"mu total fragments:\", len(separated_mu.index), \", mu unclassified fragments:\", len(unclassified_mu.index))\n",
    "\n",
    "# combine all\n",
    "# df = pd.concat([combined_mu, classified_pf])\n",
    "# display(df[\"scene\"].unique())\n",
    "# print(\"Total fragment count:\", len(df))"
   ]
  },
  {
   "attachments": {},
   "cell_type": "markdown",
   "metadata": {},
   "source": [
    "## Class overview\n",
    "### Number of trajectories per class"
   ]
  },
  {
   "cell_type": "code",
   "execution_count": 285,
   "metadata": {},
   "outputs": [
    {
     "data": {
      "text/plain": [
       "class\n",
       "bee              65\n",
       "bumblebee         5\n",
       "butterfly        22\n",
       "dragonfly       112\n",
       "insect           70\n",
       "unclassified    152\n",
       "wasp             21\n",
       "dtype: int64"
      ]
     },
     "metadata": {},
     "output_type": "display_data"
    },
    {
     "data": {
      "image/png": "[encoded data removed]",
      "text/plain": [
       "<Figure size 576x288 with 1 Axes>"
      ]
     },
     "metadata": {
      "needs_background": "light"
     },
     "output_type": "display_data"
    }
   ],
   "source": [
    "# gesucht: Anzahl instances pro Klasse\n",
    "# group by class\n",
    "# unique over scene and instance_id\n",
    "df1 = df.groupby(\"class\").apply(lambda x: len(x[[\"scene\", \"instance_id\"]].drop_duplicates()))\n",
    "display(df1)\n",
    "\n",
    "plt.figure(figsize=(8,4))\n",
    "plt.bar(df1.index, df1)\n",
    "plt.title(\"Number of trajectories per class\")\n",
    "plt.ylabel(\"Number of trajectories\")\n",
    "plt.grid(True, axis=\"y\", color = \"grey\", linewidth = \"1\", linestyle = \"dotted\")\n",
    "plt.savefig(FIGURE_OUTPUT_DIR/\"Number of trajectories per class.png\", format=\"png\", bbox_inches=\"tight\", dpi=200)\n",
    "plt.show()"
   ]
  },
  {
   "cell_type": "markdown",
   "metadata": {},
   "source": [
    "## Number of Fragments\n",
    "\n",
    "### Number of fragments per class (all)"
   ]
  },
  {
   "cell_type": "code",
   "execution_count": 286,
   "metadata": {},
   "outputs": [
    {
     "data": {
      "text/plain": [
       "class\n",
       "bee             3671\n",
       "bumblebee        206\n",
       "butterfly       1078\n",
       "dragonfly       2160\n",
       "insect           527\n",
       "unclassified    3308\n",
       "wasp             624\n",
       "dtype: int64"
      ]
     },
     "metadata": {},
     "output_type": "display_data"
    },
    {
     "name": "stdout",
     "output_type": "stream",
     "text": [
      "total fragments: 11574\n"
     ]
    },
    {
     "data": {
      "image/png": "[encoded data removed]",
      "text/plain": [
       "<Figure size 432x216 with 1 Axes>"
      ]
     },
     "metadata": {
      "needs_background": "light"
     },
     "output_type": "display_data"
    }
   ],
   "source": [
    "df1 = df.groupby(\"class\").size()\n",
    "display(df1)\n",
    "print(\"total fragments:\", df1.sum())\n",
    "\n",
    "plt.figure(figsize=(6,3))\n",
    "plt.bar(df1.index, df1)\n",
    "plt.title(\"Number of fragments per class\")\n",
    "plt.ylabel(\"Number of fragments\")\n",
    "plt.grid(True, axis=\"y\", color = \"grey\", linewidth = \"1\", linestyle = \"dotted\")\n",
    "plt.savefig(FIGURE_OUTPUT_DIR/\"Number of fragments per class.png\", format=\"png\", bbox_inches=\"tight\", dpi=200)\n",
    "plt.show()"
   ]
  },
  {
   "cell_type": "markdown",
   "metadata": {},
   "source": [
    "### Number of fragments per class (< 2048)"
   ]
  },
  {
   "cell_type": "code",
   "execution_count": 287,
   "metadata": {},
   "outputs": [
    {
     "data": {
      "text/plain": [
       "class\n",
       "bee             3359\n",
       "bumblebee        146\n",
       "butterfly        853\n",
       "dragonfly       1261\n",
       "insect           417\n",
       "unclassified    2711\n",
       "wasp             601\n",
       "dtype: int64"
      ]
     },
     "metadata": {},
     "output_type": "display_data"
    },
    {
     "name": "stdout",
     "output_type": "stream",
     "text": [
      "total fragments: 9348\n"
     ]
    },
    {
     "data": {
      "image/png": "[encoded data removed]",
      "text/plain": [
       "<Figure size 432x216 with 1 Axes>"
      ]
     },
     "metadata": {
      "needs_background": "light"
     },
     "output_type": "display_data"
    }
   ],
   "source": [
    "df1 = df[df[\"frag_evnt_count\"] < 2048].groupby(\"class\").size()\n",
    "display(df1)\n",
    "print(\"total fragments:\", df1.sum())\n",
    "\n",
    "plt.figure(figsize=(6,3))\n",
    "plt.bar(df1.index, df1)\n",
    "plt.title(\"Number of fragments per class\")\n",
    "plt.ylabel(\"Number of fragments\")\n",
    "plt.grid(True, axis=\"y\", color = \"grey\", linewidth = \"1\", linestyle = \"dotted\")\n",
    "plt.savefig(FIGURE_OUTPUT_DIR/\"Number of fragments per class.png\", format=\"png\", bbox_inches=\"tight\", dpi=200)\n",
    "plt.show()"
   ]
  },
  {
   "cell_type": "markdown",
   "metadata": {},
   "source": [
    "### Number of fragments per class (2048 <= n <= 4096)"
   ]
  },
  {
   "cell_type": "code",
   "execution_count": 288,
   "metadata": {},
   "outputs": [
    {
     "data": {
      "text/plain": [
       "class\n",
       "bee             187\n",
       "bumblebee        42\n",
       "butterfly       141\n",
       "dragonfly       493\n",
       "insect           54\n",
       "unclassified    123\n",
       "wasp             17\n",
       "dtype: int64"
      ]
     },
     "metadata": {},
     "output_type": "display_data"
    },
    {
     "name": "stdout",
     "output_type": "stream",
     "text": [
      "total fragments: 1057\n"
     ]
    },
    {
     "data": {
      "image/png": "[encoded data removed]",
      "text/plain": [
       "<Figure size 432x216 with 1 Axes>"
      ]
     },
     "metadata": {
      "needs_background": "light"
     },
     "output_type": "display_data"
    }
   ],
   "source": [
    "df1 = df[(df[\"frag_evnt_count\"] >= 2048) & (df[\"frag_evnt_count\"] <= 2048*2)].groupby(\"class\").size()\n",
    "display(df1)\n",
    "print(\"total fragments:\", df1.sum())\n",
    "\n",
    "plt.figure(figsize=(6,3))\n",
    "plt.bar(df1.index, df1)\n",
    "plt.title(\"Number of fragments per class\")\n",
    "plt.ylabel(\"Number of fragments\")\n",
    "plt.grid(True, axis=\"y\", color = \"grey\", linewidth = \"1\", linestyle = \"dotted\")\n",
    "plt.savefig(FIGURE_OUTPUT_DIR/\"Number of fragments per class.png\", format=\"png\", bbox_inches=\"tight\", dpi=200)\n",
    "plt.show()"
   ]
  },
  {
   "cell_type": "markdown",
   "metadata": {},
   "source": [
    "### Number of fragments per class (> 4096)"
   ]
  },
  {
   "cell_type": "code",
   "execution_count": 298,
   "metadata": {},
   "outputs": [
    {
     "data": {
      "text/plain": [
       "class\n",
       "bee             125\n",
       "bumblebee        18\n",
       "butterfly        84\n",
       "dragonfly       406\n",
       "insect           56\n",
       "unclassified    474\n",
       "wasp              6\n",
       "dtype: int64"
      ]
     },
     "metadata": {},
     "output_type": "display_data"
    },
    {
     "name": "stdout",
     "output_type": "stream",
     "text": [
      "total fragments: 1169\n"
     ]
    },
    {
     "data": {
      "image/png": "[encoded data removed]",
      "text/plain": [
       "<Figure size 432x216 with 1 Axes>"
      ]
     },
     "metadata": {
      "needs_background": "light"
     },
     "output_type": "display_data"
    }
   ],
   "source": [
    "df1 = df[df[\"frag_evnt_count\"] > 4096].groupby(\"class\").size()\n",
    "display(df1)\n",
    "print(\"total fragments:\", df1.sum())\n",
    "\n",
    "plt.figure(figsize=(6,3))\n",
    "plt.bar(df1.index, df1)\n",
    "plt.title(\"Number of fragments per class\")\n",
    "plt.ylabel(\"Number of fragments\")\n",
    "plt.grid(True, axis=\"y\", color = \"grey\", linewidth = \"1\", linestyle = \"dotted\")\n",
    "plt.savefig(FIGURE_OUTPUT_DIR/\"Number of fragments per class.png\", format=\"png\", bbox_inches=\"tight\", dpi=200)\n",
    "plt.show()"
   ]
  },
  {
   "cell_type": "markdown",
   "metadata": {},
   "source": [
    "## Fragment event count"
   ]
  },
  {
   "cell_type": "code",
   "execution_count": 290,
   "metadata": {},
   "outputs": [
    {
     "name": "stdout",
     "output_type": "stream",
     "text": [
      "Mean overall values (all fragments)\n"
     ]
    },
    {
     "data": {
      "text/plain": [
       "frag_evnt_count    2564.17\n",
       "frag_len_s            0.10\n",
       "dtype: float64"
      ]
     },
     "metadata": {},
     "output_type": "display_data"
    },
    {
     "name": "stdout",
     "output_type": "stream",
     "text": [
      "Mean overall values (>= 2048)\n"
     ]
    },
    {
     "data": {
      "text/plain": [
       "frag_evnt_count    11748.34\n",
       "frag_len_s             0.10\n",
       "dtype: float64"
      ]
     },
     "metadata": {},
     "output_type": "display_data"
    },
    {
     "name": "stdout",
     "output_type": "stream",
     "text": [
      "Mean overall values (>= 4096)\n"
     ]
    },
    {
     "data": {
      "text/plain": [
       "frag_evnt_count    19731.17\n",
       "frag_len_s             0.10\n",
       "dtype: float64"
      ]
     },
     "metadata": {},
     "output_type": "display_data"
    },
    {
     "name": "stdout",
     "output_type": "stream",
     "text": [
      "Median overall values (>= 4096)\n"
     ]
    },
    {
     "data": {
      "text/plain": [
       "frag_evnt_count    8305.0\n",
       "frag_len_s            0.1\n",
       "dtype: float64"
      ]
     },
     "metadata": {},
     "output_type": "display_data"
    }
   ],
   "source": [
    "df0 = df[[\"frag_evnt_count\",\"frag_len_s\"]]\n",
    "\n",
    "df1 = df0.mean()\n",
    "print(\"Mean overall values (all fragments)\")\n",
    "display(df1)\n",
    "\n",
    "df1 = df0[df0[\"frag_evnt_count\"] >= 2048].mean()\n",
    "print(\"Mean overall values (>= 2048)\")\n",
    "display(df1)\n",
    "\n",
    "df1 = df0[df0[\"frag_evnt_count\"] >= 4096].mean()\n",
    "print(\"Mean overall values (>= 4096)\")\n",
    "display(df1)\n",
    "\n",
    "df1 = df0[df0[\"frag_evnt_count\"] >= 4096].median()\n",
    "print(\"Median overall values (>= 4096)\")\n",
    "display(df1)"
   ]
  },
  {
   "cell_type": "markdown",
   "metadata": {},
   "source": [
    "## Fragment event count per class"
   ]
  },
  {
   "cell_type": "code",
   "execution_count": 291,
   "metadata": {},
   "outputs": [
    {
     "name": "stdout",
     "output_type": "stream",
     "text": [
      "Mean fragment event count per class (all fragments)\n"
     ]
    },
    {
     "data": {
      "text/plain": [
       "class\n",
       "bee              627.35\n",
       "bumblebee       1543.69\n",
       "butterfly       2152.59\n",
       "dragonfly       2698.74\n",
       "insect          3355.21\n",
       "unclassified    5068.60\n",
       "wasp             595.74\n",
       "Name: frag_evnt_count, dtype: float64"
      ]
     },
     "metadata": {},
     "output_type": "display_data"
    },
    {
     "name": "stdout",
     "output_type": "stream",
     "text": [
      "Mean fragment event count per class (n < 2048)\n"
     ]
    },
    {
     "data": {
      "text/plain": [
       "class\n",
       "bee             277.70\n",
       "bumblebee       715.66\n",
       "butterfly       576.26\n",
       "dragonfly       801.22\n",
       "insect          459.04\n",
       "unclassified    183.47\n",
       "wasp            495.68\n",
       "Name: frag_evnt_count, dtype: float64"
      ]
     },
     "metadata": {},
     "output_type": "display_data"
    },
    {
     "name": "stdout",
     "output_type": "stream",
     "text": [
      "Mean fragment event count per class (2048 <= n <= 4096)\n"
     ]
    },
    {
     "data": {
      "text/plain": [
       "class\n",
       "bee             2864.82\n",
       "bumblebee       2992.67\n",
       "butterfly       2934.14\n",
       "dragonfly       2974.06\n",
       "insect          2860.07\n",
       "unclassified    2805.54\n",
       "wasp            2658.12\n",
       "Name: frag_evnt_count, dtype: float64"
      ]
     },
     "metadata": {},
     "output_type": "display_data"
    },
    {
     "name": "stdout",
     "output_type": "stream",
     "text": [
      "Mean fragment event count per class (> 4096)\n"
     ]
    },
    {
     "data": {
      "text/plain": [
       "class\n",
       "bee              6675.86\n",
       "bumblebee        4879.06\n",
       "butterfly       16847.99\n",
       "dragonfly        8257.96\n",
       "insect          25398.82\n",
       "unclassified    33595.96\n",
       "wasp             4775.50\n",
       "Name: frag_evnt_count, dtype: float64"
      ]
     },
     "metadata": {},
     "output_type": "display_data"
    }
   ],
   "source": [
    "\n",
    "df1 = df.groupby([\"class\"]).mean()[[\"traj_evnt_count\", \"traj_len_s\", \"frag_evnt_count\"]]\n",
    "print(\"Mean fragment event count per class (all fragments)\")\n",
    "display(df1[\"frag_evnt_count\"])\n",
    "\n",
    "df1 = df[(df[\"frag_evnt_count\"] < 2048)].groupby([\"class\"]).mean()[[\"traj_evnt_count\", \"traj_len_s\", \"frag_evnt_count\"]]\n",
    "print(\"Mean fragment event count per class (n < 2048)\")\n",
    "display(df1[\"frag_evnt_count\"])\n",
    "\n",
    "df2 = df[(df[\"frag_evnt_count\"] >= 2048) & (df[\"frag_evnt_count\"] <= 4096)].groupby([\"class\"]).mean()[[\"traj_evnt_count\", \"traj_len_s\", \"frag_evnt_count\"]]\n",
    "print(\"Mean fragment event count per class (2048 <= n <= 4096)\")\n",
    "display(df2[\"frag_evnt_count\"])\n",
    "\n",
    "df3 = df[df[\"frag_evnt_count\"] > 4096].groupby([\"class\"]).mean()[[\"traj_evnt_count\", \"traj_len_s\", \"frag_evnt_count\"]]\n",
    "print(\"Mean fragment event count per class (> 4096)\")\n",
    "display(df3[\"frag_evnt_count\"])"
   ]
  },
  {
   "cell_type": "markdown",
   "metadata": {},
   "source": [
    "## Trajectory stats"
   ]
  },
  {
   "cell_type": "code",
   "execution_count": 292,
   "metadata": {},
   "outputs": [
    {
     "name": "stdout",
     "output_type": "stream",
     "text": [
      "Mean number of events per trajectory per class\n"
     ]
    },
    {
     "data": {
      "text/plain": [
       "class\n",
       "bee             119638.08\n",
       "bumblebee       163819.53\n",
       "butterfly        91796.70\n",
       "dragonfly       159678.38\n",
       "insect           22317.00\n",
       "unclassified    253707.81\n",
       "wasp             42204.96\n",
       "Name: traj_evnt_count, dtype: float64"
      ]
     },
     "metadata": {},
     "output_type": "display_data"
    },
    {
     "data": {
      "image/png": "[encoded data removed]",
      "text/plain": [
       "<Figure size 432x288 with 1 Axes>"
      ]
     },
     "metadata": {
      "needs_background": "light"
     },
     "output_type": "display_data"
    },
    {
     "name": "stdout",
     "output_type": "stream",
     "text": [
      "Mean trajectory length (s) per class\n"
     ]
    },
    {
     "data": {
      "text/plain": [
       "class\n",
       "bee             18.98\n",
       "bumblebee       13.42\n",
       "butterfly        8.75\n",
       "dragonfly       10.62\n",
       "insect           1.50\n",
       "unclassified    16.31\n",
       "wasp             7.43\n",
       "Name: traj_len_s, dtype: float64"
      ]
     },
     "metadata": {},
     "output_type": "display_data"
    },
    {
     "data": {
      "image/png": "[encoded data removed]",
      "text/plain": [
       "<Figure size 432x288 with 1 Axes>"
      ]
     },
     "metadata": {
      "needs_background": "light"
     },
     "output_type": "display_data"
    },
    {
     "name": "stdout",
     "output_type": "stream",
     "text": [
      "Mean number of events per fragment per class\n"
     ]
    },
    {
     "data": {
      "text/plain": [
       "class\n",
       "bee             277.70\n",
       "bumblebee       715.66\n",
       "butterfly       576.26\n",
       "dragonfly       801.22\n",
       "insect          459.04\n",
       "unclassified    183.47\n",
       "wasp            495.68\n",
       "Name: frag_evnt_count, dtype: float64"
      ]
     },
     "metadata": {},
     "output_type": "display_data"
    },
    {
     "data": {
      "image/png": "[encoded data removed]",
      "text/plain": [
       "<Figure size 432x288 with 1 Axes>"
      ]
     },
     "metadata": {
      "needs_background": "light"
     },
     "output_type": "display_data"
    }
   ],
   "source": [
    "print(\"Mean number of events per trajectory per class\")\n",
    "display(df1[\"traj_evnt_count\"])\n",
    "plt.bar(df1.index, df1[\"traj_evnt_count\"])\n",
    "plt.title(\"Mean number of events per trajectory per class\")\n",
    "plt.xticks(rotation=45, ha=\"right\")\n",
    "# plt.xlabel(\"Class\")\n",
    "plt.ylabel(\"number of events\")\n",
    "plt.grid(True, axis=\"y\", color = \"grey\", linewidth = \"1\", linestyle = \"dotted\")\n",
    "plt.show()\n",
    "\n",
    "print(\"Mean trajectory length (s) per class\")\n",
    "display(df1[\"traj_len_s\"])\n",
    "plt.bar(df1.index, df1[\"traj_len_s\"])\n",
    "plt.title(\"Mean trajectory length (s) per class\")\n",
    "plt.xticks(rotation=45, ha=\"right\")\n",
    "# plt.xlabel(\"Class\")\n",
    "plt.ylabel(\"length (s)\")\n",
    "plt.grid(True, axis=\"y\", color = \"grey\", linewidth = \"1\", linestyle = \"dotted\")\n",
    "plt.show()\n",
    "\n",
    "print(\"Mean number of events per fragment per class\")\n",
    "display(df1[\"frag_evnt_count\"])\n",
    "plt.bar(df1.index, df1[\"frag_evnt_count\"])\n",
    "plt.title(\"Mean number of events per fragment per class\")\n",
    "plt.xticks(rotation=45, ha=\"right\")\n",
    "# plt.xlabel(\"Class\")\n",
    "plt.ylabel(\"number of events\")\n",
    "plt.grid(True, axis=\"y\", color = \"grey\", linewidth = \"1\", linestyle = \"dotted\")\n",
    "plt.show()\n"
   ]
  },
  {
   "cell_type": "markdown",
   "metadata": {},
   "source": [
    "## Event count / Fragment count histogram"
   ]
  },
  {
   "cell_type": "code",
   "execution_count": 293,
   "metadata": {},
   "outputs": [
    {
     "data": {
      "image/png": "[encoded data removed]",
      "text/plain": [
       "<Figure size 432x216 with 1 Axes>"
      ]
     },
     "metadata": {
      "needs_background": "light"
     },
     "output_type": "display_data"
    }
   ],
   "source": [
    "plt.figure(figsize=(6,3))\n",
    "plt.hist(df[\"frag_evnt_count\"], bins=list(range(0, 1000*10+1, 1000)))\n",
    "plt.title(\"Event count histogram\")\n",
    "plt.xlabel(\"Event count\")\n",
    "plt.xticks(np.arange(0, 1000*10, 2000))\n",
    "plt.ylabel(\"Number of fragments\")\n",
    "plt.grid(True, axis=\"y\", color = \"grey\", linewidth = \"1\", linestyle = \"dotted\")\n",
    "plt.savefig(FIGURE_OUTPUT_DIR/\"Event count histogram 2.png\", format=\"png\", bbox_inches=\"tight\", dpi=200)\n",
    "plt.show()"
   ]
  },
  {
   "cell_type": "markdown",
   "metadata": {},
   "source": [
    "## Number of Fragments per scene"
   ]
  },
  {
   "cell_type": "markdown",
   "metadata": {},
   "source": [
    "### >= 0"
   ]
  },
  {
   "cell_type": "code",
   "execution_count": 294,
   "metadata": {},
   "outputs": [
    {
     "data": {
      "text/plain": [
       "scene\n",
       "hn-bee-1      610\n",
       "hn-but-2     1213\n",
       "hn-dra-1      216\n",
       "hn-was-1       70\n",
       "hn-was-2      327\n",
       "hn-was-3      227\n",
       "mb-bum2-2     582\n",
       "mb-dra1-1     518\n",
       "mb-dra2-1    1428\n",
       "mu-1         1112\n",
       "mu-2          590\n",
       "mu-3         3075\n",
       "mu-4          518\n",
       "mu-5           61\n",
       "mu-6         1027\n",
       "dtype: int64"
      ]
     },
     "metadata": {},
     "output_type": "display_data"
    },
    {
     "data": {
      "image/png": "[encoded data removed]",
      "text/plain": [
       "<Figure size 432x288 with 1 Axes>"
      ]
     },
     "metadata": {
      "needs_background": "light"
     },
     "output_type": "display_data"
    }
   ],
   "source": [
    "# number of fragments per scene\n",
    "df1 = df.groupby(\"scene\").size()\n",
    "display(df1)\n",
    "\n",
    "plt.bar(df1.index, df1)\n",
    "plt.xticks(rotation=45, ha=\"right\")\n",
    "plt.xlabel(\"Scene\")\n",
    "plt.ylabel(\"Number of fragments\")\n",
    "plt.grid(True, axis=\"y\", color = \"grey\", linewidth = \"1\", linestyle = \"dotted\")\n",
    "plt.show()\n"
   ]
  },
  {
   "cell_type": "markdown",
   "metadata": {},
   "source": [
    "### >= 2048"
   ]
  },
  {
   "cell_type": "code",
   "execution_count": 295,
   "metadata": {},
   "outputs": [
    {
     "data": {
      "text/plain": [
       "scene\n",
       "hn-bee-1      15\n",
       "hn-but-2     286\n",
       "hn-dra-1      98\n",
       "hn-was-1       2\n",
       "hn-was-2       9\n",
       "hn-was-3      12\n",
       "mb-bum2-2    135\n",
       "mb-dra1-1    266\n",
       "mb-dra2-1    537\n",
       "mu-1         430\n",
       "mu-2         110\n",
       "mu-3         269\n",
       "mu-4          25\n",
       "mu-6          32\n",
       "dtype: int64"
      ]
     },
     "metadata": {},
     "output_type": "display_data"
    },
    {
     "data": {
      "image/png": "[encoded data removed]",
      "text/plain": [
       "<Figure size 432x288 with 1 Axes>"
      ]
     },
     "metadata": {
      "needs_background": "light"
     },
     "output_type": "display_data"
    }
   ],
   "source": [
    "# number of fragments per scene WHERE >= 2048\n",
    "df1 = df[df[\"frag_evnt_count\"] >= 4096//2 ].groupby(\"scene\").size()\n",
    "display(df1)\n",
    "\n",
    "plt.bar(df1.index, df1)\n",
    "plt.title(\"Number of fragments per scene with >=2048 events\")\n",
    "plt.xlabel(\"Scene\")\n",
    "plt.xticks(rotation=45, ha=\"right\")\n",
    "plt.ylabel(\"Number of fragments\")\n",
    "plt.grid(True, axis=\"y\", color = \"grey\", linewidth = \"1\", linestyle = \"dotted\")\n",
    "plt.show()"
   ]
  },
  {
   "cell_type": "markdown",
   "metadata": {},
   "source": [
    "### >= 4096"
   ]
  },
  {
   "cell_type": "code",
   "execution_count": 296,
   "metadata": {},
   "outputs": [
    {
     "data": {
      "text/plain": [
       "scene\n",
       "hn-bee-1       3\n",
       "hn-but-2     121\n",
       "hn-dra-1      46\n",
       "hn-was-2       3\n",
       "hn-was-3       3\n",
       "mb-bum2-2     39\n",
       "mb-dra1-1    133\n",
       "mb-dra2-1    229\n",
       "mu-1         373\n",
       "mu-2          75\n",
       "mu-3         118\n",
       "mu-4           4\n",
       "mu-6          22\n",
       "dtype: int64"
      ]
     },
     "metadata": {},
     "output_type": "display_data"
    },
    {
     "data": {
      "image/png": "[encoded data removed]",
      "text/plain": [
       "<Figure size 432x288 with 1 Axes>"
      ]
     },
     "metadata": {
      "needs_background": "light"
     },
     "output_type": "display_data"
    }
   ],
   "source": [
    "# number of fragments per scene WHERE >= 4096\n",
    "df1 = df[df[\"frag_evnt_count\"] >= 4096 ].groupby(\"scene\").size()\n",
    "display(df1)\n",
    "\n",
    "plt.bar(df1.index, df1)\n",
    "plt.title(\"Number of fragments per scene with >=4096 events\")\n",
    "plt.xlabel(\"Scene\")\n",
    "plt.xticks(rotation=45, ha=\"right\")\n",
    "plt.ylabel(\"Number of fragments\")\n",
    "plt.grid(True, axis=\"y\", color = \"grey\", linewidth = \"1\", linestyle = \"dotted\")\n",
    "plt.show()"
   ]
  },
  {
   "attachments": {},
   "cell_type": "markdown",
   "metadata": {},
   "source": [
    "### Number of Fragments per Instance"
   ]
  },
  {
   "cell_type": "code",
   "execution_count": 297,
   "metadata": {},
   "outputs": [
    {
     "name": "stdout",
     "output_type": "stream",
     "text": [
      "9.160493827160494\n",
      "5.0\n"
     ]
    },
    {
     "data": {
      "text/plain": [
       "scene      instance_id\n",
       "hn-bee-1   0                1\n",
       "hn-dra-1   9                1\n",
       "mb-bum2-2  0                1\n",
       "           9                1\n",
       "           39               1\n",
       "           45               1\n",
       "           47               1\n",
       "mb-dra1-1  17               1\n",
       "           49               1\n",
       "           70               1\n",
       "mb-dra2-1  13               1\n",
       "           15               1\n",
       "           16               1\n",
       "           26               1\n",
       "           32               1\n",
       "hn-but-2   36               1\n",
       "mb-dra2-1  36               1\n",
       "mu-1       21               1\n",
       "           26               1\n",
       "           27               1\n",
       "           28               1\n",
       "           29               1\n",
       "mu-2       15               1\n",
       "mu-3       21               1\n",
       "           22               1\n",
       "           33               1\n",
       "           63               1\n",
       "           64               1\n",
       "mu-4       14               1\n",
       "mu-6       16               1\n",
       "           87               1\n",
       "mu-1       4                1\n",
       "hn-but-2   30               1\n",
       "mb-dra1-1  50               1\n",
       "hn-but-2   1                1\n",
       "           10               1\n",
       "hn-bee-1   9                1\n",
       "hn-but-2   27               1\n",
       "           16               1\n",
       "           4                1\n",
       "           17               1\n",
       "hn-bee-1   4                1\n",
       "hn-but-2   11               2\n",
       "hn-was-1   3                2\n",
       "hn-but-2   22               2\n",
       "hn-was-2   3                2\n",
       "hn-was-3   2                2\n",
       "           3                2\n",
       "mb-dra1-1  9                2\n",
       "hn-was-3   4                2\n",
       "mb-dra2-1  38               2\n",
       "hn-but-2   20               2\n",
       "mb-bum2-2  41               2\n",
       "hn-dra-1   23               2\n",
       "mu-2       8                2\n",
       "mb-bum2-2  6                2\n",
       "hn-but-2   19               2\n",
       "mb-dra2-1  20               2\n",
       "mb-bum2-2  34               2\n",
       "mu-1       22               2\n",
       "mb-dra2-1  18               2\n",
       "mu-1       5                2\n",
       "mb-dra1-1  52               2\n",
       "mb-dra2-1  14               2\n",
       "           4                2\n",
       "hn-dra-1   15               2\n",
       "hn-bee-1   11               2\n",
       "hn-but-2   28               2\n",
       "mb-dra1-1  51               2\n",
       "mu-6       5                2\n",
       "mb-dra2-1  11               2\n",
       "hn-but-2   41               3\n",
       "mu-6       4                3\n",
       "hn-but-2   24               3\n",
       "hn-dra-1   18               3\n",
       "mb-dra1-1  19               3\n",
       "mb-bum2-2  43               3\n",
       "mu-6       18               3\n",
       "mb-bum2-2  48               3\n",
       "           40               3\n",
       "mu-2       0                3\n",
       "mb-dra1-1  21               3\n",
       "mu-4       6                3\n",
       "mu-2       1                3\n",
       "mb-dra1-1  57               3\n",
       "hn-dra-1   2                3\n",
       "mu-3       57               3\n",
       "hn-bee-1   8                3\n",
       "hn-dra-1   22               3\n",
       "mb-dra1-1  48               3\n",
       "hn-dra-1   19               3\n",
       "hn-was-3   8                3\n",
       "hn-dra-1   16               3\n",
       "hn-was-3   0                3\n",
       "hn-dra-1   12               3\n",
       "mb-dra1-1  5                4\n",
       "           20               4\n",
       "mb-dra2-1  37               4\n",
       "hn-but-2   18               4\n",
       "mb-dra2-1  19               4\n",
       "           17               4\n",
       "hn-but-2   31               4\n",
       "mb-bum2-2  32               4\n",
       "mb-dra1-1  1                4\n",
       "hn-but-2   35               4\n",
       "           40               4\n",
       "mu-4       19               4\n",
       "hn-dra-1   1                4\n",
       "           8                4\n",
       "           10               4\n",
       "mu-3       59               4\n",
       "mb-bum2-2  5                4\n",
       "           11               4\n",
       "           30               4\n",
       "hn-but-2   3                4\n",
       "           29               4\n",
       "mb-bum2-2  46               4\n",
       "hn-but-2   5                4\n",
       "mu-1       20               5\n",
       "mb-dra1-1  61               5\n",
       "hn-but-2   9                5\n",
       "mb-dra1-1  59               5\n",
       "mb-bum2-2  37               5\n",
       "hn-dra-1   3                5\n",
       "mb-dra1-1  54               5\n",
       "hn-but-2   21               5\n",
       "hn-dra-1   11               5\n",
       "mb-dra1-1  14               5\n",
       "           2                5\n",
       "hn-but-2   25               5\n",
       "mb-dra1-1  16               5\n",
       "mb-dra2-1  34               6\n",
       "mu-3       13               6\n",
       "hn-but-2   15               6\n",
       "mb-dra2-1  12               6\n",
       "mu-6       15               6\n",
       "mu-1       25               6\n",
       "mu-4       0                6\n",
       "mb-dra1-1  69               6\n",
       "hn-dra-1   4                6\n",
       "mb-bum2-2  2                6\n",
       "hn-dra-1   14               6\n",
       "           13               6\n",
       "           7                6\n",
       "           6                6\n",
       "mb-dra1-1  13               6\n",
       "           53               6\n",
       "           11               6\n",
       "mb-bum2-2  33               6\n",
       "           8                6\n",
       "mb-dra1-1  3                7\n",
       "mb-dra2-1  24               7\n",
       "mb-dra1-1  18               7\n",
       "           4                7\n",
       "hn-but-2   14               7\n",
       "           26               7\n",
       "mu-6       96               7\n",
       "hn-was-2   2                7\n",
       "mb-dra1-1  56               7\n",
       "           60               7\n",
       "           64               7\n",
       "hn-but-2   38               7\n",
       "mu-1       19               7\n",
       "           17               7\n",
       "hn-bee-1   3                7\n",
       "mb-bum2-2  29               7\n",
       "mu-1       3                7\n",
       "mb-dra1-1  12               8\n",
       "hn-but-2   23               8\n",
       "mb-dra2-1  23               8\n",
       "mu-3       31               8\n",
       "mb-dra2-1  39               8\n",
       "hn-but-2   39               8\n",
       "mb-dra1-1  65               8\n",
       "           71               8\n",
       "mu-3       10               8\n",
       "mb-dra2-1  40               8\n",
       "mu-1       31               9\n",
       "mb-dra1-1  0                9\n",
       "mb-dra2-1  25               9\n",
       "           35               9\n",
       "mb-bum2-2  4                9\n",
       "mb-dra1-1  68               9\n",
       "mb-dra2-1  22               9\n",
       "mu-6       91               9\n",
       "mb-dra1-1  55               9\n",
       "mb-dra2-1  1                9\n",
       "           0                9\n",
       "mb-dra1-1  10               9\n",
       "mu-1       14               9\n",
       "mb-bum2-2  3               10\n",
       "mu-3       6               10\n",
       "mu-1       13              10\n",
       "mb-dra2-1  27              10\n",
       "mb-dra1-1  72              10\n",
       "           62              10\n",
       "mb-dra2-1  30              10\n",
       "mu-4       2               11\n",
       "hn-dra-1   20              11\n",
       "mb-dra2-1  21              11\n",
       "           28              11\n",
       "           33              11\n",
       "hn-dra-1   21              12\n",
       "mb-dra1-1  15              12\n",
       "hn-but-2   32              13\n",
       "           37              13\n",
       "mu-3       24              13\n",
       "mu-1       16              13\n",
       "mb-dra1-1  67              13\n",
       "mu-1       30              13\n",
       "mb-bum2-2  38              14\n",
       "mb-dra1-1  47              15\n",
       "           63              16\n",
       "hn-but-2   8               16\n",
       "           6               17\n",
       "mu-1       23              17\n",
       "           9               23\n",
       "hn-but-2   7               24\n",
       "mu-1       6               25\n",
       "hn-but-2   42              27\n",
       "mu-3       55              28\n",
       "mu-1       15              29\n",
       "hn-but-2   33              29\n",
       "mu-1       0               30\n",
       "           24              31\n",
       "mu-3       0               31\n",
       "mb-bum2-2  35              32\n",
       "mu-1       8               34\n",
       "mb-dra2-1  7               34\n",
       "hn-but-2   2               37\n",
       "mu-1       1               38\n",
       "mb-dra2-1  8               39\n",
       "           6               39\n",
       "           5               41\n",
       "mu-3       16              42\n",
       "mb-dra2-1  10              43\n",
       "mu-2       4               46\n",
       "mu-1       7               48\n",
       "mb-dra2-1  9               53\n",
       "mu-2       12              55\n",
       "mu-1       2               59\n",
       "mu-3       9              111\n",
       "mb-dra2-1  41             117\n",
       "dtype: int64"
      ]
     },
     "metadata": {},
     "output_type": "display_data"
    }
   ],
   "source": [
    "df1 = df[df[\"frag_evnt_count\"] >= 2048 ].groupby([\"scene\",\"instance_id\"]).size().sort_values()\n",
    "\n",
    "print(df1.mean())\n",
    "print(df1.median())\n",
    "\n",
    "with pd.option_context('display.max_rows', None, 'display.max_columns', None):  # more options can be specified also\n",
    "    display(df1)"
   ]
  },
  {
   "cell_type": "code",
   "execution_count": null,
   "metadata": {},
   "outputs": [],
   "source": []
  }
 ],
 "metadata": {
  "kernelspec": {
   "display_name": "pix2pix",
   "language": "python",
   "name": "python3"
  },
  "language_info": {
   "codemirror_mode": {
    "name": "ipython",
    "version": 3
   },
   "file_extension": ".py",
   "mimetype": "text/x-python",
   "name": "python",
   "nbconvert_exporter": "python",
   "pygments_lexer": "ipython3",
   "version": "3.9.12"
  },
  "orig_nbformat": 4
 },
 "nbformat": 4,
 "nbformat_minor": 2
}
