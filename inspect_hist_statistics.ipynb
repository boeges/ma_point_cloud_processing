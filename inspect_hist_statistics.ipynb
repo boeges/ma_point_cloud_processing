{
 "cells": [
  {
   "cell_type": "code",
   "execution_count": 47,
   "metadata": {},
   "outputs": [],
   "source": [
    "from datetime import datetime\n",
    "from pathlib import Path\n",
    "import matplotlib.pyplot as plt\n",
    "import numpy as np\n",
    "import pandas as pd\n",
    "\n",
    "pd.set_option(\"display.precision\", 2)"
   ]
  },
  {
   "cell_type": "markdown",
   "metadata": {},
   "source": [
    "## Load statistics"
   ]
  },
  {
   "cell_type": "code",
   "execution_count": 48,
   "metadata": {},
   "outputs": [
    {
     "name": "stdout",
     "output_type": "stream",
     "text": [
      "Index(['scene', 'instance_id', 'fragment_id', 'class', 'traj_evnt_count',\n",
      "       'traj_len_s', 'frag_evnt_count', 'frag_len_s'],\n",
      "      dtype='object')\n",
      "Index(['scene', 'instance_id', 'fragment_id', 'class', 'traj_evnt_count',\n",
      "       'traj_len_s', 'frag_evnt_count', 'frag_len_s'],\n",
      "      dtype='object')\n"
     ]
    },
    {
     "data": {
      "text/html": [
       "<div>\n",
       "<style scoped>\n",
       "    .dataframe tbody tr th:only-of-type {\n",
       "        vertical-align: middle;\n",
       "    }\n",
       "\n",
       "    .dataframe tbody tr th {\n",
       "        vertical-align: top;\n",
       "    }\n",
       "\n",
       "    .dataframe thead th {\n",
       "        text-align: right;\n",
       "    }\n",
       "</style>\n",
       "<table border=\"1\" class=\"dataframe\">\n",
       "  <thead>\n",
       "    <tr style=\"text-align: right;\">\n",
       "      <th></th>\n",
       "      <th>scene</th>\n",
       "      <th>instance_id</th>\n",
       "      <th>fragment_id</th>\n",
       "      <th>class</th>\n",
       "      <th>traj_evnt_count</th>\n",
       "      <th>traj_len_s</th>\n",
       "      <th>frag_evnt_count</th>\n",
       "      <th>frag_len_s</th>\n",
       "    </tr>\n",
       "  </thead>\n",
       "  <tbody>\n",
       "    <tr>\n",
       "      <th>0</th>\n",
       "      <td>mu-3</td>\n",
       "      <td>0</td>\n",
       "      <td>0</td>\n",
       "      <td>bee</td>\n",
       "      <td>217225</td>\n",
       "      <td>30.25</td>\n",
       "      <td>2748</td>\n",
       "      <td>0.1</td>\n",
       "    </tr>\n",
       "    <tr>\n",
       "      <th>1</th>\n",
       "      <td>mu-3</td>\n",
       "      <td>0</td>\n",
       "      <td>1</td>\n",
       "      <td>bee</td>\n",
       "      <td>217225</td>\n",
       "      <td>30.25</td>\n",
       "      <td>1602</td>\n",
       "      <td>0.1</td>\n",
       "    </tr>\n",
       "    <tr>\n",
       "      <th>2</th>\n",
       "      <td>mu-3</td>\n",
       "      <td>0</td>\n",
       "      <td>2</td>\n",
       "      <td>bee</td>\n",
       "      <td>217225</td>\n",
       "      <td>30.25</td>\n",
       "      <td>881</td>\n",
       "      <td>0.1</td>\n",
       "    </tr>\n",
       "    <tr>\n",
       "      <th>3</th>\n",
       "      <td>mu-3</td>\n",
       "      <td>0</td>\n",
       "      <td>3</td>\n",
       "      <td>bee</td>\n",
       "      <td>217225</td>\n",
       "      <td>30.25</td>\n",
       "      <td>977</td>\n",
       "      <td>0.1</td>\n",
       "    </tr>\n",
       "    <tr>\n",
       "      <th>4</th>\n",
       "      <td>mu-3</td>\n",
       "      <td>0</td>\n",
       "      <td>4</td>\n",
       "      <td>bee</td>\n",
       "      <td>217225</td>\n",
       "      <td>30.25</td>\n",
       "      <td>690</td>\n",
       "      <td>0.1</td>\n",
       "    </tr>\n",
       "  </tbody>\n",
       "</table>\n",
       "</div>"
      ],
      "text/plain": [
       "  scene  instance_id  fragment_id class  traj_evnt_count  traj_len_s  \\\n",
       "0  mu-3            0            0   bee           217225       30.25   \n",
       "1  mu-3            0            1   bee           217225       30.25   \n",
       "2  mu-3            0            2   bee           217225       30.25   \n",
       "3  mu-3            0            3   bee           217225       30.25   \n",
       "4  mu-3            0            4   bee           217225       30.25   \n",
       "\n",
       "   frag_evnt_count  frag_len_s  \n",
       "0             2748         0.1  \n",
       "1             1602         0.1  \n",
       "2              881         0.1  \n",
       "3              977         0.1  \n",
       "4              690         0.1  "
      ]
     },
     "metadata": {},
     "output_type": "display_data"
    },
    {
     "data": {
      "text/plain": [
       "scene              8266\n",
       "instance_id        8266\n",
       "fragment_id        8266\n",
       "class              8266\n",
       "traj_evnt_count    8266\n",
       "traj_len_s         8266\n",
       "frag_evnt_count    8266\n",
       "frag_len_s         8266\n",
       "dtype: int64"
      ]
     },
     "metadata": {},
     "output_type": "display_data"
    }
   ],
   "source": [
    "\n",
    "FIGURE_OUTPUT_DIR = Path(\"output/figures/statistics\")\n",
    "FIGURE_OUTPUT_DIR.mkdir(exist_ok=True)\n",
    "\n",
    "# To generate a new stats file run the script save_trajectory_proj_and_stats.py!\n",
    "STATS_BASE_DIR = Path(\"output/statistics/hist/\")\n",
    "\n",
    "separated_mu = pd.read_csv(STATS_BASE_DIR / \"tf100ms_2_separated_mu\" / \"all_fragments.csv\")\n",
    "classified_all = pd.read_csv(STATS_BASE_DIR / \"tf100ms_2024-08-07_15-43-43\" / \"all_fragments.csv\")\n",
    "\n",
    "print(separated_mu.columns)\n",
    "print(classified_all.columns)\n",
    "\n",
    "display(classified_all.head())\n",
    "display(classified_all.count())"
   ]
  },
  {
   "cell_type": "code",
   "execution_count": 49,
   "metadata": {},
   "outputs": [
    {
     "data": {
      "text/html": [
       "<div>\n",
       "<style scoped>\n",
       "    .dataframe tbody tr th:only-of-type {\n",
       "        vertical-align: middle;\n",
       "    }\n",
       "\n",
       "    .dataframe tbody tr th {\n",
       "        vertical-align: top;\n",
       "    }\n",
       "\n",
       "    .dataframe thead th {\n",
       "        text-align: right;\n",
       "    }\n",
       "</style>\n",
       "<table border=\"1\" class=\"dataframe\">\n",
       "  <thead>\n",
       "    <tr style=\"text-align: right;\">\n",
       "      <th></th>\n",
       "      <th>scene</th>\n",
       "      <th>instance_id</th>\n",
       "      <th>fragment_id</th>\n",
       "      <th>class</th>\n",
       "      <th>traj_evnt_count</th>\n",
       "      <th>traj_len_s</th>\n",
       "      <th>frag_evnt_count</th>\n",
       "      <th>frag_len_s</th>\n",
       "    </tr>\n",
       "  </thead>\n",
       "  <tbody>\n",
       "    <tr>\n",
       "      <th>0</th>\n",
       "      <td>1_l-l-l</td>\n",
       "      <td>0</td>\n",
       "      <td>0</td>\n",
       "      <td>unclassified</td>\n",
       "      <td>1015970</td>\n",
       "      <td>40.43</td>\n",
       "      <td>43</td>\n",
       "      <td>0.1</td>\n",
       "    </tr>\n",
       "    <tr>\n",
       "      <th>1</th>\n",
       "      <td>1_l-l-l</td>\n",
       "      <td>0</td>\n",
       "      <td>1</td>\n",
       "      <td>unclassified</td>\n",
       "      <td>1015970</td>\n",
       "      <td>40.43</td>\n",
       "      <td>14</td>\n",
       "      <td>0.1</td>\n",
       "    </tr>\n",
       "    <tr>\n",
       "      <th>2</th>\n",
       "      <td>1_l-l-l</td>\n",
       "      <td>0</td>\n",
       "      <td>2</td>\n",
       "      <td>unclassified</td>\n",
       "      <td>1015970</td>\n",
       "      <td>40.43</td>\n",
       "      <td>290</td>\n",
       "      <td>0.1</td>\n",
       "    </tr>\n",
       "    <tr>\n",
       "      <th>3</th>\n",
       "      <td>1_l-l-l</td>\n",
       "      <td>0</td>\n",
       "      <td>3</td>\n",
       "      <td>unclassified</td>\n",
       "      <td>1015970</td>\n",
       "      <td>40.43</td>\n",
       "      <td>630</td>\n",
       "      <td>0.1</td>\n",
       "    </tr>\n",
       "    <tr>\n",
       "      <th>4</th>\n",
       "      <td>1_l-l-l</td>\n",
       "      <td>0</td>\n",
       "      <td>4</td>\n",
       "      <td>unclassified</td>\n",
       "      <td>1015970</td>\n",
       "      <td>40.43</td>\n",
       "      <td>450</td>\n",
       "      <td>0.1</td>\n",
       "    </tr>\n",
       "  </tbody>\n",
       "</table>\n",
       "</div>"
      ],
      "text/plain": [
       "     scene  instance_id  fragment_id         class  traj_evnt_count  \\\n",
       "0  1_l-l-l            0            0  unclassified          1015970   \n",
       "1  1_l-l-l            0            1  unclassified          1015970   \n",
       "2  1_l-l-l            0            2  unclassified          1015970   \n",
       "3  1_l-l-l            0            3  unclassified          1015970   \n",
       "4  1_l-l-l            0            4  unclassified          1015970   \n",
       "\n",
       "   traj_len_s  frag_evnt_count  frag_len_s  \n",
       "0       40.43               43         0.1  \n",
       "1       40.43               14         0.1  \n",
       "2       40.43              290         0.1  \n",
       "3       40.43              630         0.1  \n",
       "4       40.43              450         0.1  "
      ]
     },
     "metadata": {},
     "output_type": "display_data"
    }
   ],
   "source": [
    "# clear class names for datasets not yet classified\n",
    "separated_mu[\"class\"] = \"unclassified\"\n",
    "display(separated_mu.head())"
   ]
  },
  {
   "cell_type": "code",
   "execution_count": 50,
   "metadata": {},
   "outputs": [
    {
     "name": "stdout",
     "output_type": "stream",
     "text": [
      "['1_l-l-l' '2_l-h-l' '3_m-h-h' '4_m-m-h' '5_h-l-h' '6_h-h-h_filtered']\n",
      "all fragments 14649\n"
     ]
    }
   ],
   "source": [
    "# Combine dataframes\n",
    "classified_scenes = classified_all[\"scene\"].unique()\n",
    "df = separated_mu[~separated_mu[\"scene\"].isin(classified_scenes)]\n",
    "print(df[\"scene\"].unique())\n",
    "df = pd.concat([df, classified_all])\n",
    "print(\"all fragments\", len(df.index))\n",
    "\n",
    "# combine all\n",
    "# df = pd.concat([combined_mu, classified_pf])\n",
    "# display(df[\"scene\"].unique())\n",
    "# print(\"Total fragment count:\", len(df))"
   ]
  },
  {
   "attachments": {},
   "cell_type": "markdown",
   "metadata": {},
   "source": [
    "## Class overview\n",
    "### Number of trajectories per class"
   ]
  },
  {
   "cell_type": "code",
   "execution_count": 51,
   "metadata": {},
   "outputs": [
    {
     "data": {
      "text/plain": [
       "class\n",
       "bee              65\n",
       "bumblebee         5\n",
       "butterfly        22\n",
       "dragonfly       112\n",
       "insect           70\n",
       "unclassified    218\n",
       "wasp             21\n",
       "dtype: int64"
      ]
     },
     "metadata": {},
     "output_type": "display_data"
    },
    {
     "data": {
      "image/png": "[encoded data removed]",
      "text/plain": [
       "<Figure size 576x288 with 1 Axes>"
      ]
     },
     "metadata": {
      "needs_background": "light"
     },
     "output_type": "display_data"
    }
   ],
   "source": [
    "# gesucht: Anzahl instances pro Klasse\n",
    "# group by class\n",
    "# unique over scene and instance_id\n",
    "df1 = df.groupby(\"class\").apply(lambda x: len(x[[\"scene\", \"instance_id\"]].drop_duplicates()))\n",
    "display(df1)\n",
    "\n",
    "plt.figure(figsize=(8,4))\n",
    "plt.bar(df1.index, df1)\n",
    "plt.title(\"Number of trajectories per class\")\n",
    "plt.ylabel(\"Number of trajectories\")\n",
    "plt.grid(True, axis=\"y\", color = \"grey\", linewidth = \"1\", linestyle = \"dotted\")\n",
    "plt.savefig(FIGURE_OUTPUT_DIR/\"Number of trajectories per class.png\", format=\"png\", bbox_inches=\"tight\", dpi=200)\n",
    "plt.show()"
   ]
  },
  {
   "cell_type": "markdown",
   "metadata": {},
   "source": [
    "### Number of fragments per class (all)"
   ]
  },
  {
   "cell_type": "code",
   "execution_count": 63,
   "metadata": {},
   "outputs": [
    {
     "data": {
      "text/plain": [
       "class\n",
       "bee             3671\n",
       "bumblebee        206\n",
       "butterfly       1078\n",
       "dragonfly       2160\n",
       "insect           527\n",
       "unclassified    6383\n",
       "wasp             624\n",
       "dtype: int64"
      ]
     },
     "metadata": {},
     "output_type": "display_data"
    },
    {
     "name": "stdout",
     "output_type": "stream",
     "text": [
      "total fragments: 14649\n"
     ]
    },
    {
     "data": {
      "image/png": "[encoded data removed]",
      "text/plain": [
       "<Figure size 432x216 with 1 Axes>"
      ]
     },
     "metadata": {
      "needs_background": "light"
     },
     "output_type": "display_data"
    }
   ],
   "source": [
    "df1 = df.groupby(\"class\").size()\n",
    "display(df1)\n",
    "print(\"total fragments:\", df1.sum())\n",
    "\n",
    "plt.figure(figsize=(6,3))\n",
    "plt.bar(df1.index, df1)\n",
    "plt.title(\"Number of fragments per class\")\n",
    "plt.ylabel(\"Number of fragments\")\n",
    "plt.grid(True, axis=\"y\", color = \"grey\", linewidth = \"1\", linestyle = \"dotted\")\n",
    "plt.savefig(FIGURE_OUTPUT_DIR/\"Number of fragments per class.png\", format=\"png\", bbox_inches=\"tight\", dpi=200)\n",
    "plt.show()"
   ]
  },
  {
   "cell_type": "markdown",
   "metadata": {},
   "source": [
    "### Number of fragments per class (>= 1024)"
   ]
  },
  {
   "cell_type": "code",
   "execution_count": 53,
   "metadata": {},
   "outputs": [
    {
     "data": {
      "text/plain": [
       "class\n",
       "bee              594\n",
       "bumblebee         98\n",
       "butterfly        389\n",
       "dragonfly       1366\n",
       "insect           176\n",
       "unclassified    1183\n",
       "wasp             100\n",
       "dtype: int64"
      ]
     },
     "metadata": {},
     "output_type": "display_data"
    },
    {
     "data": {
      "text/plain": [
       "3906"
      ]
     },
     "metadata": {},
     "output_type": "display_data"
    },
    {
     "data": {
      "image/png": "[encoded data removed]",
      "text/plain": [
       "<Figure size 432x216 with 1 Axes>"
      ]
     },
     "metadata": {
      "needs_background": "light"
     },
     "output_type": "display_data"
    }
   ],
   "source": [
    "df1 = df[df[\"frag_evnt_count\"] >= 1024].groupby(\"class\").size()\n",
    "display(df1)\n",
    "display(df1.sum())\n",
    "\n",
    "plt.figure(figsize=(6,3))\n",
    "plt.bar(df1.index, df1)\n",
    "plt.title(\"Number of fragments per class\")\n",
    "plt.ylabel(\"Number of fragments\")\n",
    "plt.grid(True, axis=\"y\", color = \"grey\", linewidth = \"1\", linestyle = \"dotted\")\n",
    "plt.savefig(FIGURE_OUTPUT_DIR/\"Number of fragments per class.png\", format=\"png\", bbox_inches=\"tight\", dpi=200)\n",
    "plt.show()"
   ]
  },
  {
   "cell_type": "markdown",
   "metadata": {},
   "source": [
    "### Number of fragments per class (>= 2048)"
   ]
  },
  {
   "cell_type": "code",
   "execution_count": 54,
   "metadata": {},
   "outputs": [
    {
     "data": {
      "text/plain": [
       "class\n",
       "bee             312\n",
       "bumblebee        60\n",
       "butterfly       225\n",
       "dragonfly       899\n",
       "insect          110\n",
       "unclassified    866\n",
       "wasp             23\n",
       "dtype: int64"
      ]
     },
     "metadata": {},
     "output_type": "display_data"
    },
    {
     "data": {
      "text/plain": [
       "2495"
      ]
     },
     "metadata": {},
     "output_type": "display_data"
    },
    {
     "data": {
      "image/png": "[encoded data removed]",
      "text/plain": [
       "<Figure size 432x216 with 1 Axes>"
      ]
     },
     "metadata": {
      "needs_background": "light"
     },
     "output_type": "display_data"
    }
   ],
   "source": [
    "df1 = df[df[\"frag_evnt_count\"] >= 2048].groupby(\"class\").size()\n",
    "display(df1)\n",
    "display(df1.sum())\n",
    "\n",
    "plt.figure(figsize=(6,3))\n",
    "plt.bar(df1.index, df1)\n",
    "plt.title(\"Number of fragments per class\")\n",
    "plt.ylabel(\"Number of fragments\")\n",
    "plt.grid(True, axis=\"y\", color = \"grey\", linewidth = \"1\", linestyle = \"dotted\")\n",
    "plt.savefig(FIGURE_OUTPUT_DIR/\"Number of fragments per class.png\", format=\"png\", bbox_inches=\"tight\", dpi=200)\n",
    "plt.show()"
   ]
  },
  {
   "cell_type": "markdown",
   "metadata": {},
   "source": [
    "### Number of fragments per class (>= 4096)"
   ]
  },
  {
   "cell_type": "code",
   "execution_count": 55,
   "metadata": {},
   "outputs": [
    {
     "data": {
      "text/plain": [
       "class\n",
       "bee             125\n",
       "bumblebee        18\n",
       "butterfly        84\n",
       "dragonfly       406\n",
       "insect           56\n",
       "unclassified    592\n",
       "wasp              6\n",
       "dtype: int64"
      ]
     },
     "metadata": {},
     "output_type": "display_data"
    },
    {
     "data": {
      "text/plain": [
       "1287"
      ]
     },
     "metadata": {},
     "output_type": "display_data"
    },
    {
     "data": {
      "image/png": "[encoded data removed]",
      "text/plain": [
       "<Figure size 432x216 with 1 Axes>"
      ]
     },
     "metadata": {
      "needs_background": "light"
     },
     "output_type": "display_data"
    }
   ],
   "source": [
    "df1 = df[df[\"frag_evnt_count\"] >= 4096].groupby(\"class\").size()\n",
    "display(df1)\n",
    "display(df1.sum())\n",
    "\n",
    "plt.figure(figsize=(6,3))\n",
    "plt.bar(df1.index, df1)\n",
    "plt.title(\"Number of fragments per class\")\n",
    "plt.ylabel(\"Number of fragments\")\n",
    "plt.grid(True, axis=\"y\", color = \"grey\", linewidth = \"1\", linestyle = \"dotted\")\n",
    "plt.savefig(FIGURE_OUTPUT_DIR/\"Number of fragments per class.png\", format=\"png\", bbox_inches=\"tight\", dpi=200)\n",
    "plt.show()"
   ]
  },
  {
   "cell_type": "code",
   "execution_count": 56,
   "metadata": {},
   "outputs": [
    {
     "name": "stdout",
     "output_type": "stream",
     "text": [
      "Mean overall values (all fragments)\n"
     ]
    },
    {
     "data": {
      "text/plain": [
       "traj_evnt_count    185321.23\n",
       "traj_len_s             15.23\n",
       "frag_evnt_count      2155.80\n",
       "frag_len_s              0.10\n",
       "dtype: float64"
      ]
     },
     "metadata": {},
     "output_type": "display_data"
    },
    {
     "name": "stdout",
     "output_type": "stream",
     "text": [
      "Mean overall values (>= 2048)\n"
     ]
    },
    {
     "data": {
      "text/plain": [
       "traj_evnt_count    360557.25\n",
       "traj_len_s             11.01\n",
       "frag_evnt_count     10988.96\n",
       "frag_len_s              0.10\n",
       "dtype: float64"
      ]
     },
     "metadata": {},
     "output_type": "display_data"
    },
    {
     "name": "stdout",
     "output_type": "stream",
     "text": [
      "Mean overall values (>= 4096)\n"
     ]
    },
    {
     "data": {
      "text/plain": [
       "traj_evnt_count    492104.87\n",
       "traj_len_s              9.98\n",
       "frag_evnt_count     18563.82\n",
       "frag_len_s              0.10\n",
       "dtype: float64"
      ]
     },
     "metadata": {},
     "output_type": "display_data"
    },
    {
     "name": "stdout",
     "output_type": "stream",
     "text": [
      "Median overall values (>= 4096)\n"
     ]
    },
    {
     "data": {
      "text/plain": [
       "traj_evnt_count    250757.00\n",
       "traj_len_s              5.99\n",
       "frag_evnt_count      7948.00\n",
       "frag_len_s              0.10\n",
       "dtype: float64"
      ]
     },
     "metadata": {},
     "output_type": "display_data"
    }
   ],
   "source": [
    "df0 = df[[\"traj_evnt_count\",\"traj_len_s\",\"frag_evnt_count\",\"frag_len_s\"]]\n",
    "\n",
    "df1 = df0.mean()\n",
    "print(\"Mean overall values (all fragments)\")\n",
    "display(df1)\n",
    "\n",
    "df1 = df0[df0[\"frag_evnt_count\"] >= 2048].mean()\n",
    "print(\"Mean overall values (>= 2048)\")\n",
    "display(df1)\n",
    "\n",
    "df1 = df0[df0[\"frag_evnt_count\"] >= 4096].mean()\n",
    "print(\"Mean overall values (>= 4096)\")\n",
    "display(df1)\n",
    "\n",
    "df1 = df0[df0[\"frag_evnt_count\"] >= 4096].median()\n",
    "print(\"Median overall values (>= 4096)\")\n",
    "display(df1)"
   ]
  },
  {
   "cell_type": "code",
   "execution_count": 57,
   "metadata": {},
   "outputs": [
    {
     "name": "stdout",
     "output_type": "stream",
     "text": [
      "Mean stats per class (all fragments)\n"
     ]
    },
    {
     "data": {
      "text/html": [
       "<div>\n",
       "<style scoped>\n",
       "    .dataframe tbody tr th:only-of-type {\n",
       "        vertical-align: middle;\n",
       "    }\n",
       "\n",
       "    .dataframe tbody tr th {\n",
       "        vertical-align: top;\n",
       "    }\n",
       "\n",
       "    .dataframe thead th {\n",
       "        text-align: right;\n",
       "    }\n",
       "</style>\n",
       "<table border=\"1\" class=\"dataframe\">\n",
       "  <thead>\n",
       "    <tr style=\"text-align: right;\">\n",
       "      <th></th>\n",
       "      <th>traj_evnt_count</th>\n",
       "      <th>traj_len_s</th>\n",
       "      <th>frag_evnt_count</th>\n",
       "    </tr>\n",
       "    <tr>\n",
       "      <th>class</th>\n",
       "      <th></th>\n",
       "      <th></th>\n",
       "      <th></th>\n",
       "    </tr>\n",
       "  </thead>\n",
       "  <tbody>\n",
       "    <tr>\n",
       "      <th>bee</th>\n",
       "      <td>138120.10</td>\n",
       "      <td>19.38</td>\n",
       "      <td>627.35</td>\n",
       "    </tr>\n",
       "    <tr>\n",
       "      <th>bumblebee</th>\n",
       "      <td>149701.45</td>\n",
       "      <td>12.10</td>\n",
       "      <td>1543.69</td>\n",
       "    </tr>\n",
       "    <tr>\n",
       "      <th>butterfly</th>\n",
       "      <td>101126.30</td>\n",
       "      <td>8.35</td>\n",
       "      <td>2152.59</td>\n",
       "    </tr>\n",
       "    <tr>\n",
       "      <th>dragonfly</th>\n",
       "      <td>169261.83</td>\n",
       "      <td>9.07</td>\n",
       "      <td>2698.74</td>\n",
       "    </tr>\n",
       "    <tr>\n",
       "      <th>insect</th>\n",
       "      <td>37563.88</td>\n",
       "      <td>1.43</td>\n",
       "      <td>3355.21</td>\n",
       "    </tr>\n",
       "    <tr>\n",
       "      <th>unclassified</th>\n",
       "      <td>259437.26</td>\n",
       "      <td>18.11</td>\n",
       "      <td>2924.89</td>\n",
       "    </tr>\n",
       "    <tr>\n",
       "      <th>wasp</th>\n",
       "      <td>42450.95</td>\n",
       "      <td>7.40</td>\n",
       "      <td>595.74</td>\n",
       "    </tr>\n",
       "  </tbody>\n",
       "</table>\n",
       "</div>"
      ],
      "text/plain": [
       "              traj_evnt_count  traj_len_s  frag_evnt_count\n",
       "class                                                     \n",
       "bee                 138120.10       19.38           627.35\n",
       "bumblebee           149701.45       12.10          1543.69\n",
       "butterfly           101126.30        8.35          2152.59\n",
       "dragonfly           169261.83        9.07          2698.74\n",
       "insect               37563.88        1.43          3355.21\n",
       "unclassified        259437.26       18.11          2924.89\n",
       "wasp                 42450.95        7.40           595.74"
      ]
     },
     "metadata": {},
     "output_type": "display_data"
    },
    {
     "name": "stdout",
     "output_type": "stream",
     "text": [
      "Mean stats per class (>= 2048)\n"
     ]
    },
    {
     "data": {
      "text/html": [
       "<div>\n",
       "<style scoped>\n",
       "    .dataframe tbody tr th:only-of-type {\n",
       "        vertical-align: middle;\n",
       "    }\n",
       "\n",
       "    .dataframe tbody tr th {\n",
       "        vertical-align: top;\n",
       "    }\n",
       "\n",
       "    .dataframe thead th {\n",
       "        text-align: right;\n",
       "    }\n",
       "</style>\n",
       "<table border=\"1\" class=\"dataframe\">\n",
       "  <thead>\n",
       "    <tr style=\"text-align: right;\">\n",
       "      <th></th>\n",
       "      <th>traj_evnt_count</th>\n",
       "      <th>traj_len_s</th>\n",
       "      <th>frag_evnt_count</th>\n",
       "    </tr>\n",
       "    <tr>\n",
       "      <th>class</th>\n",
       "      <th></th>\n",
       "      <th></th>\n",
       "      <th></th>\n",
       "    </tr>\n",
       "  </thead>\n",
       "  <tbody>\n",
       "    <tr>\n",
       "      <th>bee</th>\n",
       "      <td>337098.01</td>\n",
       "      <td>23.60</td>\n",
       "      <td>4391.68</td>\n",
       "    </tr>\n",
       "    <tr>\n",
       "      <th>bumblebee</th>\n",
       "      <td>115347.43</td>\n",
       "      <td>8.87</td>\n",
       "      <td>3558.58</td>\n",
       "    </tr>\n",
       "    <tr>\n",
       "      <th>butterfly</th>\n",
       "      <td>136495.85</td>\n",
       "      <td>6.84</td>\n",
       "      <td>8128.64</td>\n",
       "    </tr>\n",
       "    <tr>\n",
       "      <th>dragonfly</th>\n",
       "      <td>182704.24</td>\n",
       "      <td>6.90</td>\n",
       "      <td>5360.34</td>\n",
       "    </tr>\n",
       "    <tr>\n",
       "      <th>insect</th>\n",
       "      <td>95363.44</td>\n",
       "      <td>1.16</td>\n",
       "      <td>14334.35</td>\n",
       "    </tr>\n",
       "    <tr>\n",
       "      <th>unclassified</th>\n",
       "      <td>670806.06</td>\n",
       "      <td>13.34</td>\n",
       "      <td>20248.54</td>\n",
       "    </tr>\n",
       "    <tr>\n",
       "      <th>wasp</th>\n",
       "      <td>48878.61</td>\n",
       "      <td>6.53</td>\n",
       "      <td>3210.48</td>\n",
       "    </tr>\n",
       "  </tbody>\n",
       "</table>\n",
       "</div>"
      ],
      "text/plain": [
       "              traj_evnt_count  traj_len_s  frag_evnt_count\n",
       "class                                                     \n",
       "bee                 337098.01       23.60          4391.68\n",
       "bumblebee           115347.43        8.87          3558.58\n",
       "butterfly           136495.85        6.84          8128.64\n",
       "dragonfly           182704.24        6.90          5360.34\n",
       "insect               95363.44        1.16         14334.35\n",
       "unclassified        670806.06       13.34         20248.54\n",
       "wasp                 48878.61        6.53          3210.48"
      ]
     },
     "metadata": {},
     "output_type": "display_data"
    },
    {
     "name": "stdout",
     "output_type": "stream",
     "text": [
      "Mean stats per class (>= 4096)\n"
     ]
    },
    {
     "data": {
      "text/html": [
       "<div>\n",
       "<style scoped>\n",
       "    .dataframe tbody tr th:only-of-type {\n",
       "        vertical-align: middle;\n",
       "    }\n",
       "\n",
       "    .dataframe tbody tr th {\n",
       "        vertical-align: top;\n",
       "    }\n",
       "\n",
       "    .dataframe thead th {\n",
       "        text-align: right;\n",
       "    }\n",
       "</style>\n",
       "<table border=\"1\" class=\"dataframe\">\n",
       "  <thead>\n",
       "    <tr style=\"text-align: right;\">\n",
       "      <th></th>\n",
       "      <th>traj_evnt_count</th>\n",
       "      <th>traj_len_s</th>\n",
       "      <th>frag_evnt_count</th>\n",
       "    </tr>\n",
       "    <tr>\n",
       "      <th>class</th>\n",
       "      <th></th>\n",
       "      <th></th>\n",
       "      <th></th>\n",
       "    </tr>\n",
       "  </thead>\n",
       "  <tbody>\n",
       "    <tr>\n",
       "      <th>bee</th>\n",
       "      <td>430123.60</td>\n",
       "      <td>24.45</td>\n",
       "      <td>6675.86</td>\n",
       "    </tr>\n",
       "    <tr>\n",
       "      <th>bumblebee</th>\n",
       "      <td>100973.50</td>\n",
       "      <td>7.52</td>\n",
       "      <td>4879.06</td>\n",
       "    </tr>\n",
       "    <tr>\n",
       "      <th>butterfly</th>\n",
       "      <td>168271.64</td>\n",
       "      <td>6.18</td>\n",
       "      <td>16847.99</td>\n",
       "    </tr>\n",
       "    <tr>\n",
       "      <th>dragonfly</th>\n",
       "      <td>176130.93</td>\n",
       "      <td>5.95</td>\n",
       "      <td>8257.96</td>\n",
       "    </tr>\n",
       "    <tr>\n",
       "      <th>insect</th>\n",
       "      <td>139978.57</td>\n",
       "      <td>0.61</td>\n",
       "      <td>25398.82</td>\n",
       "    </tr>\n",
       "    <tr>\n",
       "      <th>unclassified</th>\n",
       "      <td>817348.67</td>\n",
       "      <td>11.19</td>\n",
       "      <td>28294.56</td>\n",
       "    </tr>\n",
       "    <tr>\n",
       "      <th>wasp</th>\n",
       "      <td>67133.83</td>\n",
       "      <td>9.19</td>\n",
       "      <td>4775.50</td>\n",
       "    </tr>\n",
       "  </tbody>\n",
       "</table>\n",
       "</div>"
      ],
      "text/plain": [
       "              traj_evnt_count  traj_len_s  frag_evnt_count\n",
       "class                                                     \n",
       "bee                 430123.60       24.45          6675.86\n",
       "bumblebee           100973.50        7.52          4879.06\n",
       "butterfly           168271.64        6.18         16847.99\n",
       "dragonfly           176130.93        5.95          8257.96\n",
       "insect              139978.57        0.61         25398.82\n",
       "unclassified        817348.67       11.19         28294.56\n",
       "wasp                 67133.83        9.19          4775.50"
      ]
     },
     "metadata": {},
     "output_type": "display_data"
    }
   ],
   "source": [
    "\n",
    "df1 = df.groupby([\"class\"]).mean()[[\"traj_evnt_count\", \"traj_len_s\", \"frag_evnt_count\"]]\n",
    "print(\"Mean stats per class (all fragments)\")\n",
    "display(df1)\n",
    "\n",
    "df2 = df[df[\"frag_evnt_count\"] >= 2048].groupby([\"class\"]).mean()[[\"traj_evnt_count\", \"traj_len_s\", \"frag_evnt_count\"]]\n",
    "print(\"Mean stats per class (>= 2048)\")\n",
    "display(df2)\n",
    "\n",
    "df3 = df[df[\"frag_evnt_count\"] >= 4096].groupby([\"class\"]).mean()[[\"traj_evnt_count\", \"traj_len_s\", \"frag_evnt_count\"]]\n",
    "print(\"Mean stats per class (>= 4096)\")\n",
    "display(df3)"
   ]
  },
  {
   "cell_type": "code",
   "execution_count": 58,
   "metadata": {},
   "outputs": [
    {
     "data": {
      "image/png": "[encoded data removed]",
      "text/plain": [
       "<Figure size 432x288 with 1 Axes>"
      ]
     },
     "metadata": {
      "needs_background": "light"
     },
     "output_type": "display_data"
    },
    {
     "data": {
      "image/png": "[encoded data removed]",
      "text/plain": [
       "<Figure size 432x288 with 1 Axes>"
      ]
     },
     "metadata": {
      "needs_background": "light"
     },
     "output_type": "display_data"
    },
    {
     "data": {
      "image/png": "[encoded data removed]",
      "text/plain": [
       "<Figure size 432x288 with 1 Axes>"
      ]
     },
     "metadata": {
      "needs_background": "light"
     },
     "output_type": "display_data"
    }
   ],
   "source": [
    "plt.bar(df1.index, df1[\"traj_evnt_count\"])\n",
    "plt.title(\"Mean number of events per trajectory per class\")\n",
    "plt.xticks(rotation=45, ha=\"right\")\n",
    "# plt.xlabel(\"Class\")\n",
    "plt.ylabel(\"number of events\")\n",
    "plt.grid(True, axis=\"y\", color = \"grey\", linewidth = \"1\", linestyle = \"dotted\")\n",
    "plt.show()\n",
    "\n",
    "plt.bar(df1.index, df1[\"traj_len_s\"])\n",
    "plt.title(\"Mean trajectory length (s) per class\")\n",
    "plt.xticks(rotation=45, ha=\"right\")\n",
    "# plt.xlabel(\"Class\")\n",
    "plt.ylabel(\"length (s)\")\n",
    "plt.grid(True, axis=\"y\", color = \"grey\", linewidth = \"1\", linestyle = \"dotted\")\n",
    "plt.show()\n",
    "\n",
    "plt.bar(df1.index, df1[\"frag_evnt_count\"])\n",
    "plt.title(\"Mean number of events per fragment per class\")\n",
    "plt.xticks(rotation=45, ha=\"right\")\n",
    "# plt.xlabel(\"Class\")\n",
    "plt.ylabel(\"number of events\")\n",
    "plt.grid(True, axis=\"y\", color = \"grey\", linewidth = \"1\", linestyle = \"dotted\")\n",
    "plt.show()\n"
   ]
  },
  {
   "cell_type": "code",
   "execution_count": 59,
   "metadata": {},
   "outputs": [
    {
     "data": {
      "image/png": "[encoded data removed]",
      "text/plain": [
       "<Figure size 432x216 with 1 Axes>"
      ]
     },
     "metadata": {
      "needs_background": "light"
     },
     "output_type": "display_data"
    }
   ],
   "source": [
    "plt.figure(figsize=(6,3))\n",
    "plt.hist(df[\"frag_evnt_count\"], bins=list(range(0, 1000*10+1, 1000)))\n",
    "plt.title(\"Event count histogram\")\n",
    "plt.xlabel(\"Event count\")\n",
    "plt.xticks(np.arange(0, 1000*10, 2000))\n",
    "plt.ylabel(\"Number of fragments\")\n",
    "plt.grid(True, axis=\"y\", color = \"grey\", linewidth = \"1\", linestyle = \"dotted\")\n",
    "plt.savefig(FIGURE_OUTPUT_DIR/\"Event count histogram 2.png\", format=\"png\", bbox_inches=\"tight\", dpi=200)\n",
    "plt.show()"
   ]
  },
  {
   "cell_type": "code",
   "execution_count": 60,
   "metadata": {},
   "outputs": [
    {
     "name": "stdout",
     "output_type": "stream",
     "text": [
      "Number of fragments over all scenes with >= 4096 events: 1287\n",
      "Number of fragments over all scenes with >= 2048 events: 2495\n"
     ]
    }
   ],
   "source": [
    "df1 = df[df[\"frag_evnt_count\"] >= 4096 ][\"scene\"].count()\n",
    "print(\"Number of fragments over all scenes with >= 4096 events:\", df1)\n",
    "\n",
    "df1 = df[df[\"frag_evnt_count\"] >= 4096//2 ][\"scene\"].count()\n",
    "print(\"Number of fragments over all scenes with >= 2048 events:\", df1)"
   ]
  },
  {
   "cell_type": "code",
   "execution_count": 61,
   "metadata": {},
   "outputs": [
    {
     "data": {
      "text/plain": [
       "scene\n",
       "1_l-l-l             1112\n",
       "2_l-h-l              590\n",
       "3_m-h-h             3075\n",
       "4_m-m-h              518\n",
       "5_h-l-h               61\n",
       "6_h-h-h_filtered    1027\n",
       "hn-bee-1             610\n",
       "hn-but-2            1213\n",
       "hn-dra-1             216\n",
       "hn-was-1              70\n",
       "hn-was-2             327\n",
       "hn-was-3             227\n",
       "mb-bum2-2            582\n",
       "mb-dra1-1            518\n",
       "mb-dra2-1           1428\n",
       "mu-3                3075\n",
       "dtype: int64"
      ]
     },
     "metadata": {},
     "output_type": "display_data"
    },
    {
     "data": {
      "image/png": "[encoded data removed]",
      "text/plain": [
       "<Figure size 432x288 with 1 Axes>"
      ]
     },
     "metadata": {
      "needs_background": "light"
     },
     "output_type": "display_data"
    }
   ],
   "source": [
    "# number of fragments per scene\n",
    "df1 = df.groupby(\"scene\").size()\n",
    "display(df1)\n",
    "\n",
    "plt.bar(df1.index, df1)\n",
    "plt.xticks(rotation=45, ha=\"right\")\n",
    "plt.xlabel(\"Scene\")\n",
    "plt.ylabel(\"Number of fragments\")\n",
    "plt.grid(True, axis=\"y\", color = \"grey\", linewidth = \"1\", linestyle = \"dotted\")\n",
    "plt.show()\n"
   ]
  },
  {
   "cell_type": "code",
   "execution_count": 64,
   "metadata": {},
   "outputs": [
    {
     "data": {
      "text/plain": [
       "scene\n",
       "1_l-l-l             430\n",
       "2_l-h-l             110\n",
       "3_m-h-h             269\n",
       "4_m-m-h              25\n",
       "6_h-h-h_filtered     32\n",
       "hn-bee-1             15\n",
       "hn-but-2            286\n",
       "hn-dra-1             98\n",
       "hn-was-1              2\n",
       "hn-was-2              9\n",
       "hn-was-3             12\n",
       "mb-bum2-2           135\n",
       "mb-dra1-1           266\n",
       "mb-dra2-1           537\n",
       "mu-3                269\n",
       "dtype: int64"
      ]
     },
     "metadata": {},
     "output_type": "display_data"
    },
    {
     "data": {
      "image/png": "[encoded data removed]",
      "text/plain": [
       "<Figure size 432x288 with 1 Axes>"
      ]
     },
     "metadata": {
      "needs_background": "light"
     },
     "output_type": "display_data"
    },
    {
     "data": {
      "text/plain": [
       "scene\n",
       "1_l-l-l             373\n",
       "2_l-h-l              75\n",
       "3_m-h-h             118\n",
       "4_m-m-h               4\n",
       "6_h-h-h_filtered     22\n",
       "hn-bee-1              3\n",
       "hn-but-2            121\n",
       "hn-dra-1             46\n",
       "hn-was-2              3\n",
       "hn-was-3              3\n",
       "mb-bum2-2            39\n",
       "mb-dra1-1           133\n",
       "mb-dra2-1           229\n",
       "mu-3                118\n",
       "dtype: int64"
      ]
     },
     "metadata": {},
     "output_type": "display_data"
    },
    {
     "data": {
      "image/png": "[encoded data removed]",
      "text/plain": [
       "<Figure size 432x288 with 1 Axes>"
      ]
     },
     "metadata": {
      "needs_background": "light"
     },
     "output_type": "display_data"
    }
   ],
   "source": [
    "# number of fragments per scene WHERE >= 2048\n",
    "df1 = df[df[\"frag_evnt_count\"] >= 4096//2 ].groupby(\"scene\").size()\n",
    "display(df1)\n",
    "\n",
    "plt.bar(df1.index, df1)\n",
    "plt.title(\"Number of fragments per scene with >=2048 events\")\n",
    "plt.xlabel(\"Scene\")\n",
    "plt.xticks(rotation=45, ha=\"right\")\n",
    "plt.ylabel(\"Number of fragments\")\n",
    "plt.grid(True, axis=\"y\", color = \"grey\", linewidth = \"1\", linestyle = \"dotted\")\n",
    "plt.show()\n",
    "\n",
    "# number of fragments per scene WHERE >= 4096\n",
    "df1 = df[df[\"frag_evnt_count\"] >= 4096 ].groupby(\"scene\").size()\n",
    "display(df1)\n",
    "\n",
    "plt.bar(df1.index, df1)\n",
    "plt.title(\"Number of fragments per scene with >=4096 events\")\n",
    "plt.xlabel(\"Scene\")\n",
    "plt.xticks(rotation=45, ha=\"right\")\n",
    "plt.ylabel(\"Number of fragments\")\n",
    "plt.grid(True, axis=\"y\", color = \"grey\", linewidth = \"1\", linestyle = \"dotted\")\n",
    "plt.show()"
   ]
  },
  {
   "cell_type": "code",
   "execution_count": null,
   "metadata": {},
   "outputs": [],
   "source": []
  },
  {
   "cell_type": "code",
   "execution_count": null,
   "metadata": {},
   "outputs": [],
   "source": []
  }
 ],
 "metadata": {
  "kernelspec": {
   "display_name": "pix2pix",
   "language": "python",
   "name": "python3"
  },
  "language_info": {
   "codemirror_mode": {
    "name": "ipython",
    "version": 3
   },
   "file_extension": ".py",
   "mimetype": "text/x-python",
   "name": "python",
   "nbconvert_exporter": "python",
   "pygments_lexer": "ipython3",
   "version": "3.9.12"
  },
  "orig_nbformat": 4
 },
 "nbformat": 4,
 "nbformat_minor": 2
}
