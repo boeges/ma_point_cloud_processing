{
 "cells": [
  {
   "cell_type": "code",
   "execution_count": 1,
   "metadata": {},
   "outputs": [],
   "source": [
    "from datetime import datetime\n",
    "from pathlib import Path\n",
    "import matplotlib.pyplot as plt\n",
    "import numpy as np\n",
    "import pandas as pd"
   ]
  },
  {
   "cell_type": "markdown",
   "metadata": {},
   "source": [
    "## Load statistics"
   ]
  },
  {
   "cell_type": "code",
   "execution_count": 2,
   "metadata": {},
   "outputs": [
    {
     "name": "stdout",
     "output_type": "stream",
     "text": [
      "Index(['scene', 'instance_id', 'fragment_id', 'class', 'traj_evnt_count',\n",
      "       'traj_len_s', 'frag_evnt_count', 'frag_len_s'],\n",
      "      dtype='object')\n",
      "Index(['scene', 'instance_id', 'fragment_id', 'class', 'traj_evnt_count',\n",
      "       'traj_len_s', 'frag_evnt_count', 'frag_len_s'],\n",
      "      dtype='object')\n",
      "Index(['scene', 'instance_id', 'fragment_id', 'class', 'traj_evnt_count',\n",
      "       'traj_len_s', 'frag_evnt_count', 'frag_len_s'],\n",
      "      dtype='object')\n"
     ]
    },
    {
     "data": {
      "text/html": [
       "<div>\n",
       "<style scoped>\n",
       "    .dataframe tbody tr th:only-of-type {\n",
       "        vertical-align: middle;\n",
       "    }\n",
       "\n",
       "    .dataframe tbody tr th {\n",
       "        vertical-align: top;\n",
       "    }\n",
       "\n",
       "    .dataframe thead th {\n",
       "        text-align: right;\n",
       "    }\n",
       "</style>\n",
       "<table border=\"1\" class=\"dataframe\">\n",
       "  <thead>\n",
       "    <tr style=\"text-align: right;\">\n",
       "      <th></th>\n",
       "      <th>scene</th>\n",
       "      <th>instance_id</th>\n",
       "      <th>fragment_id</th>\n",
       "      <th>class</th>\n",
       "      <th>traj_evnt_count</th>\n",
       "      <th>traj_len_s</th>\n",
       "      <th>frag_evnt_count</th>\n",
       "      <th>frag_len_s</th>\n",
       "    </tr>\n",
       "  </thead>\n",
       "  <tbody>\n",
       "    <tr>\n",
       "      <th>0</th>\n",
       "      <td>hauptsächlichBienen1</td>\n",
       "      <td>0</td>\n",
       "      <td>0</td>\n",
       "      <td>bee</td>\n",
       "      <td>22690</td>\n",
       "      <td>3.578</td>\n",
       "      <td>808</td>\n",
       "      <td>0.1</td>\n",
       "    </tr>\n",
       "    <tr>\n",
       "      <th>1</th>\n",
       "      <td>hauptsächlichBienen1</td>\n",
       "      <td>0</td>\n",
       "      <td>1</td>\n",
       "      <td>bee</td>\n",
       "      <td>22690</td>\n",
       "      <td>3.578</td>\n",
       "      <td>629</td>\n",
       "      <td>0.1</td>\n",
       "    </tr>\n",
       "    <tr>\n",
       "      <th>2</th>\n",
       "      <td>hauptsächlichBienen1</td>\n",
       "      <td>0</td>\n",
       "      <td>2</td>\n",
       "      <td>bee</td>\n",
       "      <td>22690</td>\n",
       "      <td>3.578</td>\n",
       "      <td>724</td>\n",
       "      <td>0.1</td>\n",
       "    </tr>\n",
       "    <tr>\n",
       "      <th>3</th>\n",
       "      <td>hauptsächlichBienen1</td>\n",
       "      <td>0</td>\n",
       "      <td>3</td>\n",
       "      <td>bee</td>\n",
       "      <td>22690</td>\n",
       "      <td>3.578</td>\n",
       "      <td>761</td>\n",
       "      <td>0.1</td>\n",
       "    </tr>\n",
       "    <tr>\n",
       "      <th>4</th>\n",
       "      <td>hauptsächlichBienen1</td>\n",
       "      <td>0</td>\n",
       "      <td>4</td>\n",
       "      <td>bee</td>\n",
       "      <td>22690</td>\n",
       "      <td>3.578</td>\n",
       "      <td>847</td>\n",
       "      <td>0.1</td>\n",
       "    </tr>\n",
       "  </tbody>\n",
       "</table>\n",
       "</div>"
      ],
      "text/plain": [
       "                  scene  instance_id  fragment_id class  traj_evnt_count  \\\n",
       "0  hauptsächlichBienen1            0            0   bee            22690   \n",
       "1  hauptsächlichBienen1            0            1   bee            22690   \n",
       "2  hauptsächlichBienen1            0            2   bee            22690   \n",
       "3  hauptsächlichBienen1            0            3   bee            22690   \n",
       "4  hauptsächlichBienen1            0            4   bee            22690   \n",
       "\n",
       "   traj_len_s  frag_evnt_count  frag_len_s  \n",
       "0       3.578              808         0.1  \n",
       "1       3.578              629         0.1  \n",
       "2       3.578              724         0.1  \n",
       "3       3.578              761         0.1  \n",
       "4       3.578              847         0.1  "
      ]
     },
     "execution_count": 2,
     "metadata": {},
     "output_type": "execute_result"
    }
   ],
   "source": [
    "FIGURE_OUTPUT_DIR = Path(\"output/figures/statistics\")\n",
    "FIGURE_OUTPUT_DIR.mkdir(exist_ok=True)\n",
    "\n",
    "STATS_BASE_DIR = Path(\"output/statistics/hist/\")\n",
    "\n",
    "separated_mu = pd.read_csv(STATS_BASE_DIR / \"tf100ms_2_separated_mu\" / \"all_fragments.csv\")\n",
    "classified_mu = pd.read_csv(STATS_BASE_DIR / \"tf100ms_3_classified_mu\" / \"all_fragments.csv\")\n",
    "classified_pf = pd.read_csv(STATS_BASE_DIR / \"tf100ms_3_classified_pf\" / \"all_fragments.csv\")\n",
    "\n",
    "print(separated_mu.columns)\n",
    "print(classified_mu.columns)\n",
    "print(classified_pf.columns)\n",
    "\n",
    "classified_pf.head()"
   ]
  },
  {
   "cell_type": "code",
   "execution_count": 3,
   "metadata": {},
   "outputs": [
    {
     "data": {
      "text/html": [
       "<div>\n",
       "<style scoped>\n",
       "    .dataframe tbody tr th:only-of-type {\n",
       "        vertical-align: middle;\n",
       "    }\n",
       "\n",
       "    .dataframe tbody tr th {\n",
       "        vertical-align: top;\n",
       "    }\n",
       "\n",
       "    .dataframe thead th {\n",
       "        text-align: right;\n",
       "    }\n",
       "</style>\n",
       "<table border=\"1\" class=\"dataframe\">\n",
       "  <thead>\n",
       "    <tr style=\"text-align: right;\">\n",
       "      <th></th>\n",
       "      <th>scene</th>\n",
       "      <th>instance_id</th>\n",
       "      <th>fragment_id</th>\n",
       "      <th>class</th>\n",
       "      <th>traj_evnt_count</th>\n",
       "      <th>traj_len_s</th>\n",
       "      <th>frag_evnt_count</th>\n",
       "      <th>frag_len_s</th>\n",
       "    </tr>\n",
       "  </thead>\n",
       "  <tbody>\n",
       "    <tr>\n",
       "      <th>0</th>\n",
       "      <td>1_l-l-l</td>\n",
       "      <td>0</td>\n",
       "      <td>0</td>\n",
       "      <td>unclassified</td>\n",
       "      <td>1015970</td>\n",
       "      <td>40.426</td>\n",
       "      <td>43</td>\n",
       "      <td>0.1</td>\n",
       "    </tr>\n",
       "    <tr>\n",
       "      <th>1</th>\n",
       "      <td>1_l-l-l</td>\n",
       "      <td>0</td>\n",
       "      <td>1</td>\n",
       "      <td>unclassified</td>\n",
       "      <td>1015970</td>\n",
       "      <td>40.426</td>\n",
       "      <td>14</td>\n",
       "      <td>0.1</td>\n",
       "    </tr>\n",
       "    <tr>\n",
       "      <th>2</th>\n",
       "      <td>1_l-l-l</td>\n",
       "      <td>0</td>\n",
       "      <td>2</td>\n",
       "      <td>unclassified</td>\n",
       "      <td>1015970</td>\n",
       "      <td>40.426</td>\n",
       "      <td>290</td>\n",
       "      <td>0.1</td>\n",
       "    </tr>\n",
       "    <tr>\n",
       "      <th>3</th>\n",
       "      <td>1_l-l-l</td>\n",
       "      <td>0</td>\n",
       "      <td>3</td>\n",
       "      <td>unclassified</td>\n",
       "      <td>1015970</td>\n",
       "      <td>40.426</td>\n",
       "      <td>630</td>\n",
       "      <td>0.1</td>\n",
       "    </tr>\n",
       "    <tr>\n",
       "      <th>4</th>\n",
       "      <td>1_l-l-l</td>\n",
       "      <td>0</td>\n",
       "      <td>4</td>\n",
       "      <td>unclassified</td>\n",
       "      <td>1015970</td>\n",
       "      <td>40.426</td>\n",
       "      <td>450</td>\n",
       "      <td>0.1</td>\n",
       "    </tr>\n",
       "  </tbody>\n",
       "</table>\n",
       "</div>"
      ],
      "text/plain": [
       "     scene  instance_id  fragment_id         class  traj_evnt_count  \\\n",
       "0  1_l-l-l            0            0  unclassified          1015970   \n",
       "1  1_l-l-l            0            1  unclassified          1015970   \n",
       "2  1_l-l-l            0            2  unclassified          1015970   \n",
       "3  1_l-l-l            0            3  unclassified          1015970   \n",
       "4  1_l-l-l            0            4  unclassified          1015970   \n",
       "\n",
       "   traj_len_s  frag_evnt_count  frag_len_s  \n",
       "0      40.426               43         0.1  \n",
       "1      40.426               14         0.1  \n",
       "2      40.426              290         0.1  \n",
       "3      40.426              630         0.1  \n",
       "4      40.426              450         0.1  "
      ]
     },
     "metadata": {},
     "output_type": "display_data"
    }
   ],
   "source": [
    "# clear class names for datasets not yet classified\n",
    "separated_mu[\"class\"] = \"unclassified\"\n",
    "display(separated_mu.head())"
   ]
  },
  {
   "cell_type": "code",
   "execution_count": 4,
   "metadata": {},
   "outputs": [
    {
     "name": "stdout",
     "output_type": "stream",
     "text": [
      "['1_l-l-l' '2_l-h-l' '4_m-m-h' '5_h-l-h' '6_h-h-h_filtered']\n"
     ]
    },
    {
     "data": {
      "text/plain": [
       "array(['1_l-l-l', '2_l-h-l', '4_m-m-h', '5_h-l-h', '6_h-h-h_filtered',\n",
       "       '3_m-h-h', 'hauptsächlichBienen1', 'libellen1',\n",
       "       'vieleSchmetterlinge2', 'wespen1', 'wespen2'], dtype=object)"
      ]
     },
     "metadata": {},
     "output_type": "display_data"
    },
    {
     "name": "stdout",
     "output_type": "stream",
     "text": [
      "Total fragment count: 8819\n"
     ]
    }
   ],
   "source": [
    "# Combine dataframes\n",
    "classified_mu_scenes = classified_mu[\"scene\"].unique()\n",
    "combined_mu = separated_mu[~separated_mu[\"scene\"].isin(classified_mu_scenes)]\n",
    "print(combined_mu[\"scene\"].unique())\n",
    "combined_mu = pd.concat([combined_mu, classified_mu])\n",
    "\n",
    "# combine all\n",
    "df = pd.concat([combined_mu, classified_pf])\n",
    "display(df[\"scene\"].unique())\n",
    "print(\"Total fragment count:\", len(df))"
   ]
  },
  {
   "attachments": {},
   "cell_type": "markdown",
   "metadata": {},
   "source": [
    "## Class overview"
   ]
  },
  {
   "cell_type": "code",
   "execution_count": 5,
   "metadata": {},
   "outputs": [
    {
     "data": {
      "text/plain": [
       "class\n",
       "bee              55\n",
       "butterfly        22\n",
       "dragonfly        22\n",
       "insect           52\n",
       "unclassified    152\n",
       "wasp             11\n",
       "dtype: int64"
      ]
     },
     "metadata": {},
     "output_type": "display_data"
    },
    {
     "data": {
      "image/png": "[encoded data removed]",
      "text/plain": [
       "<Figure size 576x288 with 1 Axes>"
      ]
     },
     "metadata": {
      "needs_background": "light"
     },
     "output_type": "display_data"
    }
   ],
   "source": [
    "# gesucht: Anzahl instances pro Klasse\n",
    "# group by class\n",
    "# unique over scene and instance_id\n",
    "df1 = df.groupby(\"class\").apply(lambda x: len(x[[\"scene\", \"instance_id\"]].drop_duplicates()))\n",
    "display(df1)\n",
    "\n",
    "plt.figure(figsize=(8,4))\n",
    "plt.bar(df1.index, df1)\n",
    "plt.title(\"Number of trajectories per class\")\n",
    "plt.ylabel(\"Number of trajectories\")\n",
    "plt.grid(True, axis=\"y\", color = \"grey\", linewidth = \"1\", linestyle = \"dotted\")\n",
    "plt.savefig(FIGURE_OUTPUT_DIR/\"Number of trajectories per class.png\", format=\"png\", bbox_inches=\"tight\", dpi=200)\n",
    "plt.show()"
   ]
  },
  {
   "cell_type": "code",
   "execution_count": 6,
   "metadata": {},
   "outputs": [
    {
     "data": {
      "text/plain": [
       "class\n",
       "bee             3473\n",
       "butterfly       1078\n",
       "dragonfly        214\n",
       "insect           349\n",
       "unclassified    3308\n",
       "wasp             397\n",
       "dtype: int64"
      ]
     },
     "metadata": {},
     "output_type": "display_data"
    },
    {
     "data": {
      "image/png": "[encoded data removed]",
      "text/plain": [
       "<Figure size 432x216 with 1 Axes>"
      ]
     },
     "metadata": {
      "needs_background": "light"
     },
     "output_type": "display_data"
    }
   ],
   "source": [
    "df1 = df.groupby(\"class\").size()\n",
    "display(df1)\n",
    "\n",
    "plt.figure(figsize=(6,3))\n",
    "plt.bar(df1.index, df1)\n",
    "plt.title(\"Number of fragments per class\")\n",
    "plt.ylabel(\"Number of fragments\")\n",
    "plt.grid(True, axis=\"y\", color = \"grey\", linewidth = \"1\", linestyle = \"dotted\")\n",
    "plt.savefig(FIGURE_OUTPUT_DIR/\"Number of fragments per class.png\", format=\"png\", bbox_inches=\"tight\", dpi=200)\n",
    "plt.show()"
   ]
  },
  {
   "cell_type": "code",
   "execution_count": 17,
   "metadata": {},
   "outputs": [
    {
     "name": "stdout",
     "output_type": "stream",
     "text": [
      "Mean overall values\n"
     ]
    },
    {
     "name": "stderr",
     "output_type": "stream",
     "text": [
      "C:\\Users\\Marc\\AppData\\Local\\Temp\\ipykernel_11876\\2147376914.py:1: FutureWarning: Dropping of nuisance columns in DataFrame reductions (with 'numeric_only=None') is deprecated; in a future version this will raise TypeError.  Select only valid columns before calling the reduction.\n",
      "  df1 = df.mean()\n"
     ]
    },
    {
     "data": {
      "text/plain": [
       "instance_id            17.813924\n",
       "fragment_id            74.976982\n",
       "traj_evnt_count    206212.719696\n",
       "traj_len_s             15.039756\n",
       "frag_evnt_count      2668.341875\n",
       "frag_len_s              0.100000\n",
       "dtype: float64"
      ]
     },
     "metadata": {},
     "output_type": "display_data"
    },
    {
     "name": "stdout",
     "output_type": "stream",
     "text": [
      "Mean overall values\n"
     ]
    },
    {
     "data": {
      "text/html": [
       "<div>\n",
       "<style scoped>\n",
       "    .dataframe tbody tr th:only-of-type {\n",
       "        vertical-align: middle;\n",
       "    }\n",
       "\n",
       "    .dataframe tbody tr th {\n",
       "        vertical-align: top;\n",
       "    }\n",
       "\n",
       "    .dataframe thead th {\n",
       "        text-align: right;\n",
       "    }\n",
       "</style>\n",
       "<table border=\"1\" class=\"dataframe\">\n",
       "  <thead>\n",
       "    <tr style=\"text-align: right;\">\n",
       "      <th></th>\n",
       "      <th>scene</th>\n",
       "      <th>instance_id</th>\n",
       "      <th>fragment_id</th>\n",
       "      <th>class</th>\n",
       "      <th>traj_evnt_count</th>\n",
       "      <th>traj_len_s</th>\n",
       "      <th>frag_evnt_count</th>\n",
       "      <th>frag_len_s</th>\n",
       "    </tr>\n",
       "  </thead>\n",
       "  <tbody>\n",
       "    <tr>\n",
       "      <th>82</th>\n",
       "      <td>1_l-l-l</td>\n",
       "      <td>0</td>\n",
       "      <td>82</td>\n",
       "      <td>unclassified</td>\n",
       "      <td>1015970</td>\n",
       "      <td>40.426</td>\n",
       "      <td>7035</td>\n",
       "      <td>0.1</td>\n",
       "    </tr>\n",
       "    <tr>\n",
       "      <th>83</th>\n",
       "      <td>1_l-l-l</td>\n",
       "      <td>0</td>\n",
       "      <td>83</td>\n",
       "      <td>unclassified</td>\n",
       "      <td>1015970</td>\n",
       "      <td>40.426</td>\n",
       "      <td>17688</td>\n",
       "      <td>0.1</td>\n",
       "    </tr>\n",
       "    <tr>\n",
       "      <th>84</th>\n",
       "      <td>1_l-l-l</td>\n",
       "      <td>0</td>\n",
       "      <td>84</td>\n",
       "      <td>unclassified</td>\n",
       "      <td>1015970</td>\n",
       "      <td>40.426</td>\n",
       "      <td>27841</td>\n",
       "      <td>0.1</td>\n",
       "    </tr>\n",
       "    <tr>\n",
       "      <th>85</th>\n",
       "      <td>1_l-l-l</td>\n",
       "      <td>0</td>\n",
       "      <td>85</td>\n",
       "      <td>unclassified</td>\n",
       "      <td>1015970</td>\n",
       "      <td>40.426</td>\n",
       "      <td>48292</td>\n",
       "      <td>0.1</td>\n",
       "    </tr>\n",
       "    <tr>\n",
       "      <th>86</th>\n",
       "      <td>1_l-l-l</td>\n",
       "      <td>0</td>\n",
       "      <td>86</td>\n",
       "      <td>unclassified</td>\n",
       "      <td>1015970</td>\n",
       "      <td>40.426</td>\n",
       "      <td>39464</td>\n",
       "      <td>0.1</td>\n",
       "    </tr>\n",
       "    <tr>\n",
       "      <th>...</th>\n",
       "      <td>...</td>\n",
       "      <td>...</td>\n",
       "      <td>...</td>\n",
       "      <td>...</td>\n",
       "      <td>...</td>\n",
       "      <td>...</td>\n",
       "      <td>...</td>\n",
       "      <td>...</td>\n",
       "    </tr>\n",
       "    <tr>\n",
       "      <th>2221</th>\n",
       "      <td>wespen2</td>\n",
       "      <td>2</td>\n",
       "      <td>84</td>\n",
       "      <td>wasp</td>\n",
       "      <td>114559</td>\n",
       "      <td>17.290</td>\n",
       "      <td>3234</td>\n",
       "      <td>0.1</td>\n",
       "    </tr>\n",
       "    <tr>\n",
       "      <th>2222</th>\n",
       "      <td>wespen2</td>\n",
       "      <td>2</td>\n",
       "      <td>85</td>\n",
       "      <td>wasp</td>\n",
       "      <td>114559</td>\n",
       "      <td>17.290</td>\n",
       "      <td>2608</td>\n",
       "      <td>0.1</td>\n",
       "    </tr>\n",
       "    <tr>\n",
       "      <th>2242</th>\n",
       "      <td>wespen2</td>\n",
       "      <td>2</td>\n",
       "      <td>105</td>\n",
       "      <td>wasp</td>\n",
       "      <td>114559</td>\n",
       "      <td>17.290</td>\n",
       "      <td>2250</td>\n",
       "      <td>0.1</td>\n",
       "    </tr>\n",
       "    <tr>\n",
       "      <th>2311</th>\n",
       "      <td>wespen2</td>\n",
       "      <td>3</td>\n",
       "      <td>1</td>\n",
       "      <td>wasp</td>\n",
       "      <td>20983</td>\n",
       "      <td>1.608</td>\n",
       "      <td>2563</td>\n",
       "      <td>0.1</td>\n",
       "    </tr>\n",
       "    <tr>\n",
       "      <th>2319</th>\n",
       "      <td>wespen2</td>\n",
       "      <td>3</td>\n",
       "      <td>9</td>\n",
       "      <td>wasp</td>\n",
       "      <td>20983</td>\n",
       "      <td>1.608</td>\n",
       "      <td>2980</td>\n",
       "      <td>0.1</td>\n",
       "    </tr>\n",
       "  </tbody>\n",
       "</table>\n",
       "<p>1276 rows × 8 columns</p>\n",
       "</div>"
      ],
      "text/plain": [
       "        scene  instance_id  fragment_id         class  traj_evnt_count  \\\n",
       "82    1_l-l-l            0           82  unclassified          1015970   \n",
       "83    1_l-l-l            0           83  unclassified          1015970   \n",
       "84    1_l-l-l            0           84  unclassified          1015970   \n",
       "85    1_l-l-l            0           85  unclassified          1015970   \n",
       "86    1_l-l-l            0           86  unclassified          1015970   \n",
       "...       ...          ...          ...           ...              ...   \n",
       "2221  wespen2            2           84          wasp           114559   \n",
       "2222  wespen2            2           85          wasp           114559   \n",
       "2242  wespen2            2          105          wasp           114559   \n",
       "2311  wespen2            3            1          wasp            20983   \n",
       "2319  wespen2            3            9          wasp            20983   \n",
       "\n",
       "      traj_len_s  frag_evnt_count  frag_len_s  \n",
       "82        40.426             7035         0.1  \n",
       "83        40.426            17688         0.1  \n",
       "84        40.426            27841         0.1  \n",
       "85        40.426            48292         0.1  \n",
       "86        40.426            39464         0.1  \n",
       "...          ...              ...         ...  \n",
       "2221      17.290             3234         0.1  \n",
       "2222      17.290             2608         0.1  \n",
       "2242      17.290             2250         0.1  \n",
       "2311       1.608             2563         0.1  \n",
       "2319       1.608             2980         0.1  \n",
       "\n",
       "[1276 rows x 8 columns]"
      ]
     },
     "metadata": {},
     "output_type": "display_data"
    }
   ],
   "source": [
    "df1 = df.mean()\n",
    "print(\"Mean overall values\")\n",
    "display(df1)\n",
    "\n",
    "df1 = df[df[\"frag_evnt_count\"] >= 2048].mean()\n",
    "print(\"Mean overall values\")\n",
    "display(df1)"
   ]
  },
  {
   "cell_type": "code",
   "execution_count": 7,
   "metadata": {},
   "outputs": [
    {
     "data": {
      "text/html": [
       "<div>\n",
       "<style scoped>\n",
       "    .dataframe tbody tr th:only-of-type {\n",
       "        vertical-align: middle;\n",
       "    }\n",
       "\n",
       "    .dataframe tbody tr th {\n",
       "        vertical-align: top;\n",
       "    }\n",
       "\n",
       "    .dataframe thead th {\n",
       "        text-align: right;\n",
       "    }\n",
       "</style>\n",
       "<table border=\"1\" class=\"dataframe\">\n",
       "  <thead>\n",
       "    <tr style=\"text-align: right;\">\n",
       "      <th></th>\n",
       "      <th>traj_evnt_count</th>\n",
       "      <th>traj_len_s</th>\n",
       "      <th>frag_evnt_count</th>\n",
       "    </tr>\n",
       "    <tr>\n",
       "      <th>class</th>\n",
       "      <th></th>\n",
       "      <th></th>\n",
       "      <th></th>\n",
       "    </tr>\n",
       "  </thead>\n",
       "  <tbody>\n",
       "    <tr>\n",
       "      <th>bee</th>\n",
       "      <td>144018.084941</td>\n",
       "      <td>20.321331</td>\n",
       "      <td>586.678376</td>\n",
       "    </tr>\n",
       "    <tr>\n",
       "      <th>butterfly</th>\n",
       "      <td>101125.917440</td>\n",
       "      <td>8.350932</td>\n",
       "      <td>2152.567718</td>\n",
       "    </tr>\n",
       "    <tr>\n",
       "      <th>dragonfly</th>\n",
       "      <td>31494.831776</td>\n",
       "      <td>1.082037</td>\n",
       "      <td>3236.490654</td>\n",
       "    </tr>\n",
       "    <tr>\n",
       "      <th>insect</th>\n",
       "      <td>42376.627507</td>\n",
       "      <td>0.994390</td>\n",
       "      <td>4290.386819</td>\n",
       "    </tr>\n",
       "    <tr>\n",
       "      <th>unclassified</th>\n",
       "      <td>352229.665961</td>\n",
       "      <td>14.669817</td>\n",
       "      <td>5068.604595</td>\n",
       "    </tr>\n",
       "    <tr>\n",
       "      <th>wasp</th>\n",
       "      <td>57169.659950</td>\n",
       "      <td>9.952068</td>\n",
       "      <td>547.120907</td>\n",
       "    </tr>\n",
       "  </tbody>\n",
       "</table>\n",
       "</div>"
      ],
      "text/plain": [
       "              traj_evnt_count  traj_len_s  frag_evnt_count\n",
       "class                                                     \n",
       "bee             144018.084941   20.321331       586.678376\n",
       "butterfly       101125.917440    8.350932      2152.567718\n",
       "dragonfly        31494.831776    1.082037      3236.490654\n",
       "insect           42376.627507    0.994390      4290.386819\n",
       "unclassified    352229.665961   14.669817      5068.604595\n",
       "wasp             57169.659950    9.952068       547.120907"
      ]
     },
     "execution_count": 7,
     "metadata": {},
     "output_type": "execute_result"
    }
   ],
   "source": [
    "df1 = df.groupby([\"class\"]).mean()[[\"traj_evnt_count\", \"traj_len_s\", \"frag_evnt_count\"]]\n",
    "display(df1)"
   ]
  },
  {
   "cell_type": "code",
   "execution_count": 8,
   "metadata": {},
   "outputs": [
    {
     "data": {
      "image/png": "[encoded data removed]",
      "text/plain": [
       "<Figure size 432x288 with 1 Axes>"
      ]
     },
     "metadata": {
      "needs_background": "light"
     },
     "output_type": "display_data"
    },
    {
     "data": {
      "image/png": "[encoded data removed]",
      "text/plain": [
       "<Figure size 432x288 with 1 Axes>"
      ]
     },
     "metadata": {
      "needs_background": "light"
     },
     "output_type": "display_data"
    },
    {
     "data": {
      "image/png": "[encoded data removed]",
      "text/plain": [
       "<Figure size 432x288 with 1 Axes>"
      ]
     },
     "metadata": {
      "needs_background": "light"
     },
     "output_type": "display_data"
    }
   ],
   "source": [
    "plt.bar(df1.index, df1[\"traj_evnt_count\"])\n",
    "plt.title(\"Mean number of events per trajectory per class\")\n",
    "plt.xticks(rotation=45, ha=\"right\")\n",
    "# plt.xlabel(\"Class\")\n",
    "plt.ylabel(\"number of events\")\n",
    "plt.grid(True, axis=\"y\", color = \"grey\", linewidth = \"1\", linestyle = \"dotted\")\n",
    "plt.show()\n",
    "\n",
    "plt.bar(df1.index, df1[\"traj_len_s\"])\n",
    "plt.title(\"Mean trajectory length (s) per class\")\n",
    "plt.xticks(rotation=45, ha=\"right\")\n",
    "# plt.xlabel(\"Class\")\n",
    "plt.ylabel(\"length (s)\")\n",
    "plt.grid(True, axis=\"y\", color = \"grey\", linewidth = \"1\", linestyle = \"dotted\")\n",
    "plt.show()\n",
    "\n",
    "plt.bar(df1.index, df1[\"frag_evnt_count\"])\n",
    "plt.title(\"Mean number of events per fragment per class\")\n",
    "plt.xticks(rotation=45, ha=\"right\")\n",
    "# plt.xlabel(\"Class\")\n",
    "plt.ylabel(\"number of events\")\n",
    "plt.grid(True, axis=\"y\", color = \"grey\", linewidth = \"1\", linestyle = \"dotted\")\n",
    "plt.show()\n"
   ]
  },
  {
   "cell_type": "code",
   "execution_count": 9,
   "metadata": {},
   "outputs": [
    {
     "data": {
      "image/png": "[encoded data removed]",
      "text/plain": [
       "<Figure size 432x216 with 1 Axes>"
      ]
     },
     "metadata": {
      "needs_background": "light"
     },
     "output_type": "display_data"
    }
   ],
   "source": [
    "plt.figure(figsize=(6,3))\n",
    "plt.hist(df[\"frag_evnt_count\"], bins=list(range(0, 1000*10+1, 1000)))\n",
    "plt.title(\"Event count histogram\")\n",
    "plt.xlabel(\"Event count\")\n",
    "plt.xticks(np.arange(0, 1000*10, 2000))\n",
    "plt.ylabel(\"Number of fragments\")\n",
    "plt.grid(True, axis=\"y\", color = \"grey\", linewidth = \"1\", linestyle = \"dotted\")\n",
    "plt.savefig(FIGURE_OUTPUT_DIR/\"Event count histogram 2.png\", format=\"png\", bbox_inches=\"tight\", dpi=200)\n",
    "plt.show()"
   ]
  },
  {
   "cell_type": "code",
   "execution_count": 10,
   "metadata": {},
   "outputs": [
    {
     "name": "stdout",
     "output_type": "stream",
     "text": [
      "Number of fragments over all scenes with >= 4096 events: 765\n",
      "Number of fragments over all scenes with >= 2048 events: 1276\n"
     ]
    }
   ],
   "source": [
    "df1 = df[df[\"frag_evnt_count\"] >= 4096 ][\"scene\"].count()\n",
    "print(\"Number of fragments over all scenes with >= 4096 events:\", df1)\n",
    "\n",
    "df1 = df[df[\"frag_evnt_count\"] >= 4096//2 ][\"scene\"].count()\n",
    "print(\"Number of fragments over all scenes with >= 2048 events:\", df1)"
   ]
  },
  {
   "cell_type": "code",
   "execution_count": 11,
   "metadata": {},
   "outputs": [
    {
     "data": {
      "text/plain": [
       "scene\n",
       "1_l-l-l                 1112\n",
       "2_l-h-l                  590\n",
       "3_m-h-h                 3075\n",
       "4_m-m-h                  518\n",
       "5_h-l-h                   61\n",
       "6_h-h-h_filtered        1027\n",
       "hauptsächlichBienen1     610\n",
       "libellen1                216\n",
       "vieleSchmetterlinge2    1213\n",
       "wespen1                   70\n",
       "wespen2                  327\n",
       "dtype: int64"
      ]
     },
     "metadata": {},
     "output_type": "display_data"
    },
    {
     "data": {
      "image/png": "[encoded data removed]",
      "text/plain": [
       "<Figure size 432x288 with 1 Axes>"
      ]
     },
     "metadata": {
      "needs_background": "light"
     },
     "output_type": "display_data"
    }
   ],
   "source": [
    "# number of fragments per scene\n",
    "df1 = df.groupby(\"scene\").size()\n",
    "display(df1)\n",
    "\n",
    "plt.bar(df1.index, df1)\n",
    "plt.xticks(rotation=45, ha=\"right\")\n",
    "plt.xlabel(\"Scene\")\n",
    "plt.ylabel(\"Number of fragments\")\n",
    "plt.grid(True, axis=\"y\", color = \"grey\", linewidth = \"1\", linestyle = \"dotted\")\n",
    "plt.show()\n"
   ]
  },
  {
   "cell_type": "code",
   "execution_count": 12,
   "metadata": {},
   "outputs": [
    {
     "data": {
      "text/plain": [
       "scene\n",
       "1_l-l-l                 373\n",
       "2_l-h-l                  75\n",
       "3_m-h-h                 118\n",
       "4_m-m-h                   4\n",
       "6_h-h-h_filtered         22\n",
       "hauptsächlichBienen1      3\n",
       "libellen1                46\n",
       "vieleSchmetterlinge2    121\n",
       "wespen2                   3\n",
       "dtype: int64"
      ]
     },
     "metadata": {},
     "output_type": "display_data"
    },
    {
     "data": {
      "image/png": "[encoded data removed]",
      "text/plain": [
       "<Figure size 432x288 with 1 Axes>"
      ]
     },
     "metadata": {
      "needs_background": "light"
     },
     "output_type": "display_data"
    },
    {
     "data": {
      "text/plain": [
       "scene\n",
       "1_l-l-l                 430\n",
       "2_l-h-l                 110\n",
       "3_m-h-h                 269\n",
       "4_m-m-h                  25\n",
       "6_h-h-h_filtered         32\n",
       "hauptsächlichBienen1     15\n",
       "libellen1                98\n",
       "vieleSchmetterlinge2    286\n",
       "wespen1                   2\n",
       "wespen2                   9\n",
       "dtype: int64"
      ]
     },
     "metadata": {},
     "output_type": "display_data"
    },
    {
     "data": {
      "image/png": "[encoded data removed]",
      "text/plain": [
       "<Figure size 432x288 with 1 Axes>"
      ]
     },
     "metadata": {
      "needs_background": "light"
     },
     "output_type": "display_data"
    }
   ],
   "source": [
    "# number of fragments per scene WHERE >= 4096\n",
    "df1 = df[df[\"frag_evnt_count\"] >= 4096 ].groupby(\"scene\").size()\n",
    "display(df1)\n",
    "\n",
    "plt.bar(df1.index, df1)\n",
    "plt.title(\"Number of fragments per scene with >=4096 events\")\n",
    "plt.xlabel(\"Scene\")\n",
    "plt.xticks(rotation=45, ha=\"right\")\n",
    "plt.ylabel(\"Number of fragments\")\n",
    "plt.grid(True, axis=\"y\", color = \"grey\", linewidth = \"1\", linestyle = \"dotted\")\n",
    "plt.show()\n",
    "\n",
    "\n",
    "# number of fragments per scene WHERE >= 2048\n",
    "df1 = df[df[\"frag_evnt_count\"] >= 4096//2 ].groupby(\"scene\").size()\n",
    "display(df1)\n",
    "\n",
    "plt.bar(df1.index, df1)\n",
    "plt.title(\"Number of fragments per scene with >=2048 events\")\n",
    "plt.xlabel(\"Scene\")\n",
    "plt.xticks(rotation=45, ha=\"right\")\n",
    "plt.ylabel(\"Number of fragments\")\n",
    "plt.grid(True, axis=\"y\", color = \"grey\", linewidth = \"1\", linestyle = \"dotted\")\n",
    "plt.show()\n"
   ]
  },
  {
   "cell_type": "code",
   "execution_count": null,
   "metadata": {},
   "outputs": [],
   "source": []
  },
  {
   "cell_type": "code",
   "execution_count": null,
   "metadata": {},
   "outputs": [],
   "source": []
  }
 ],
 "metadata": {
  "kernelspec": {
   "display_name": "pix2pix",
   "language": "python",
   "name": "python3"
  },
  "language_info": {
   "codemirror_mode": {
    "name": "ipython",
    "version": 3
   },
   "file_extension": ".py",
   "mimetype": "text/x-python",
   "name": "python",
   "nbconvert_exporter": "python",
   "pygments_lexer": "ipython3",
   "version": "3.9.12"
  },
  "orig_nbformat": 4
 },
 "nbformat": 4,
 "nbformat_minor": 2
}
